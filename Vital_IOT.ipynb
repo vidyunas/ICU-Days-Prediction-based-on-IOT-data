{
  "cells": [
    {
      "cell_type": "code",
      "execution_count": 138,
      "metadata": {
        "colab": {
          "base_uri": "https://localhost:8080/"
        },
        "id": "Rcy4O8ibiBik",
        "outputId": "31239c81-2898-4b76-b319-7b00940548ce"
      },
      "outputs": [
        {
          "output_type": "stream",
          "name": "stdout",
          "text": [
            "Looking in indexes: https://pypi.org/simple, https://us-python.pkg.dev/colab-wheels/public/simple/\n",
            "Requirement already satisfied: transformers in /usr/local/lib/python3.9/dist-packages (4.27.3)\n",
            "Requirement already satisfied: packaging>=20.0 in /usr/local/lib/python3.9/dist-packages (from transformers) (23.0)\n",
            "Requirement already satisfied: tokenizers!=0.11.3,<0.14,>=0.11.1 in /usr/local/lib/python3.9/dist-packages (from transformers) (0.13.2)\n",
            "Requirement already satisfied: regex!=2019.12.17 in /usr/local/lib/python3.9/dist-packages (from transformers) (2022.10.31)\n",
            "Requirement already satisfied: pyyaml>=5.1 in /usr/local/lib/python3.9/dist-packages (from transformers) (6.0)\n",
            "Requirement already satisfied: tqdm>=4.27 in /usr/local/lib/python3.9/dist-packages (from transformers) (4.65.0)\n",
            "Requirement already satisfied: requests in /usr/local/lib/python3.9/dist-packages (from transformers) (2.27.1)\n",
            "Requirement already satisfied: huggingface-hub<1.0,>=0.11.0 in /usr/local/lib/python3.9/dist-packages (from transformers) (0.13.3)\n",
            "Requirement already satisfied: filelock in /usr/local/lib/python3.9/dist-packages (from transformers) (3.10.1)\n",
            "Requirement already satisfied: numpy>=1.17 in /usr/local/lib/python3.9/dist-packages (from transformers) (1.22.4)\n",
            "Requirement already satisfied: typing-extensions>=3.7.4.3 in /usr/local/lib/python3.9/dist-packages (from huggingface-hub<1.0,>=0.11.0->transformers) (4.5.0)\n",
            "Requirement already satisfied: idna<4,>=2.5 in /usr/local/lib/python3.9/dist-packages (from requests->transformers) (3.4)\n",
            "Requirement already satisfied: urllib3<1.27,>=1.21.1 in /usr/local/lib/python3.9/dist-packages (from requests->transformers) (1.26.15)\n",
            "Requirement already satisfied: charset-normalizer~=2.0.0 in /usr/local/lib/python3.9/dist-packages (from requests->transformers) (2.0.12)\n",
            "Requirement already satisfied: certifi>=2017.4.17 in /usr/local/lib/python3.9/dist-packages (from requests->transformers) (2022.12.7)\n"
          ]
        }
      ],
      "source": [
        "!pip install transformers"
      ]
    },
    {
      "cell_type": "code",
      "execution_count": 139,
      "metadata": {
        "id": "FfTI0sU93SkA"
      },
      "outputs": [],
      "source": [
        "import pandas as pd"
      ]
    },
    {
      "cell_type": "code",
      "execution_count": 140,
      "metadata": {
        "id": "xRJ9tMDt3UX2"
      },
      "outputs": [],
      "source": [
        "df=pd.read_csv(\"vitaldb.csv\",sep=\",\")"
      ]
    },
    {
      "cell_type": "code",
      "execution_count": 141,
      "metadata": {
        "colab": {
          "base_uri": "https://localhost:8080/"
        },
        "id": "n5TKYpXl3dpP",
        "outputId": "e949276f-cbd5-43a5-c11b-2ce2fbe3421e"
      },
      "outputs": [
        {
          "output_type": "execute_result",
          "data": {
            "text/plain": [
              "Index(['caseid', 'subjectid', 'casestart', 'caseend', 'anestart', 'aneend',\n",
              "       'opstart', 'opend', 'adm', 'dis', 'icu_days', 'death_inhosp', 'age',\n",
              "       'sex', 'height', 'weight', 'bmi', 'asa', 'emop', 'department', 'optype',\n",
              "       'dx', 'opname', 'approach', 'position', 'ane_type', 'preop_htn',\n",
              "       'preop_dm', 'preop_ecg', 'preop_pft', 'preop_hb', 'preop_plt',\n",
              "       'preop_pt', 'preop_aptt', 'preop_na', 'preop_k', 'preop_gluc',\n",
              "       'preop_alb', 'preop_ast', 'preop_alt', 'preop_bun', 'preop_cr',\n",
              "       'preop_ph', 'preop_hco3', 'preop_be', 'preop_pao2', 'preop_paco2',\n",
              "       'preop_sao2', 'cormack', 'airway', 'tubesize', 'dltubesize', 'lmasize',\n",
              "       'iv1', 'iv2', 'aline1', 'aline2', 'cline1', 'cline2', 'intraop_ebl',\n",
              "       'intraop_uo', 'intraop_rbc', 'intraop_ffp', 'intraop_crystalloid',\n",
              "       'intraop_colloid', 'intraop_ppf', 'intraop_mdz', 'intraop_ftn',\n",
              "       'intraop_rocu', 'intraop_vecu', 'intraop_eph', 'intraop_phe',\n",
              "       'intraop_epi', 'intraop_ca'],\n",
              "      dtype='object')"
            ]
          },
          "metadata": {},
          "execution_count": 141
        }
      ],
      "source": [
        "df.columns"
      ]
    },
    {
      "cell_type": "code",
      "execution_count": 142,
      "metadata": {
        "id": "01ldl1BtZjtC"
      },
      "outputs": [],
      "source": [
        "null_col=[]\n",
        "for i in df.columns:\n",
        "  if(df[i].isnull().sum()>0):\n",
        "    \n",
        "    null_col.append(i)"
      ]
    },
    {
      "cell_type": "code",
      "execution_count": 143,
      "metadata": {
        "id": "UiXEJr5Rcnug"
      },
      "outputs": [],
      "source": [
        "temp=df[null_col].isnull().sum()\n"
      ]
    },
    {
      "cell_type": "code",
      "execution_count": 144,
      "metadata": {
        "id": "EQVfMJC-q3um"
      },
      "outputs": [],
      "source": [
        "drop_c=[]\n",
        "for i,j in zip(temp.index,temp.values):\n",
        "  if(j>len(df)/5):\n",
        "    drop_c.append(i)\n",
        "drop_c.append(\"caseid\")\n",
        "drop_c.append(\"subjectid\")"
      ]
    },
    {
      "cell_type": "code",
      "execution_count": 145,
      "metadata": {
        "colab": {
          "base_uri": "https://localhost:8080/",
          "height": 299
        },
        "id": "IkfLYQuZrwrP",
        "outputId": "b03aa559-0dbb-4234-9f70-86e2b0cc9bb3"
      },
      "outputs": [
        {
          "output_type": "execute_result",
          "data": {
            "text/plain": [
              "   casestart  caseend  anestart   aneend  opstart  opend     adm      dis  \\\n",
              "0          0    11542      -552  10848.0     1668  10368 -236220   627780   \n",
              "1          0    15741     -1039  14921.0     1721  14621 -221160  1506840   \n",
              "2          0     4394      -590   4210.0     1090   3010 -218640    40560   \n",
              "3          0    20990      -778  20222.0     2522  17822 -201120   576480   \n",
              "4          0    21531     -1009  22391.0     2591  20291  -67560  3734040   \n",
              "\n",
              "   icu_days  death_inhosp  ...  intraop_colloid intraop_ppf  intraop_mdz  \\\n",
              "0         0             0  ...                0         120          0.0   \n",
              "1         0             0  ...                0         150          0.0   \n",
              "2         0             0  ...                0           0          0.0   \n",
              "3         1             0  ...                0          80          0.0   \n",
              "4        13             0  ...                0           0          0.0   \n",
              "\n",
              "   intraop_ftn  intraop_rocu  intraop_vecu  intraop_eph intraop_phe  \\\n",
              "0          100            70             0           10           0   \n",
              "1            0           100             0           20           0   \n",
              "2            0            50             0            0           0   \n",
              "3          100           100             0           50           0   \n",
              "4            0           160             0           10         900   \n",
              "\n",
              "  intraop_epi intraop_ca  \n",
              "0           0          0  \n",
              "1           0          0  \n",
              "2           0          0  \n",
              "3           0          0  \n",
              "4           0       2100  \n",
              "\n",
              "[5 rows x 56 columns]"
            ],
            "text/html": [
              "\n",
              "  <div id=\"df-d3bc7bef-ff63-445d-b245-4ba839587c46\">\n",
              "    <div class=\"colab-df-container\">\n",
              "      <div>\n",
              "<style scoped>\n",
              "    .dataframe tbody tr th:only-of-type {\n",
              "        vertical-align: middle;\n",
              "    }\n",
              "\n",
              "    .dataframe tbody tr th {\n",
              "        vertical-align: top;\n",
              "    }\n",
              "\n",
              "    .dataframe thead th {\n",
              "        text-align: right;\n",
              "    }\n",
              "</style>\n",
              "<table border=\"1\" class=\"dataframe\">\n",
              "  <thead>\n",
              "    <tr style=\"text-align: right;\">\n",
              "      <th></th>\n",
              "      <th>casestart</th>\n",
              "      <th>caseend</th>\n",
              "      <th>anestart</th>\n",
              "      <th>aneend</th>\n",
              "      <th>opstart</th>\n",
              "      <th>opend</th>\n",
              "      <th>adm</th>\n",
              "      <th>dis</th>\n",
              "      <th>icu_days</th>\n",
              "      <th>death_inhosp</th>\n",
              "      <th>...</th>\n",
              "      <th>intraop_colloid</th>\n",
              "      <th>intraop_ppf</th>\n",
              "      <th>intraop_mdz</th>\n",
              "      <th>intraop_ftn</th>\n",
              "      <th>intraop_rocu</th>\n",
              "      <th>intraop_vecu</th>\n",
              "      <th>intraop_eph</th>\n",
              "      <th>intraop_phe</th>\n",
              "      <th>intraop_epi</th>\n",
              "      <th>intraop_ca</th>\n",
              "    </tr>\n",
              "  </thead>\n",
              "  <tbody>\n",
              "    <tr>\n",
              "      <th>0</th>\n",
              "      <td>0</td>\n",
              "      <td>11542</td>\n",
              "      <td>-552</td>\n",
              "      <td>10848.0</td>\n",
              "      <td>1668</td>\n",
              "      <td>10368</td>\n",
              "      <td>-236220</td>\n",
              "      <td>627780</td>\n",
              "      <td>0</td>\n",
              "      <td>0</td>\n",
              "      <td>...</td>\n",
              "      <td>0</td>\n",
              "      <td>120</td>\n",
              "      <td>0.0</td>\n",
              "      <td>100</td>\n",
              "      <td>70</td>\n",
              "      <td>0</td>\n",
              "      <td>10</td>\n",
              "      <td>0</td>\n",
              "      <td>0</td>\n",
              "      <td>0</td>\n",
              "    </tr>\n",
              "    <tr>\n",
              "      <th>1</th>\n",
              "      <td>0</td>\n",
              "      <td>15741</td>\n",
              "      <td>-1039</td>\n",
              "      <td>14921.0</td>\n",
              "      <td>1721</td>\n",
              "      <td>14621</td>\n",
              "      <td>-221160</td>\n",
              "      <td>1506840</td>\n",
              "      <td>0</td>\n",
              "      <td>0</td>\n",
              "      <td>...</td>\n",
              "      <td>0</td>\n",
              "      <td>150</td>\n",
              "      <td>0.0</td>\n",
              "      <td>0</td>\n",
              "      <td>100</td>\n",
              "      <td>0</td>\n",
              "      <td>20</td>\n",
              "      <td>0</td>\n",
              "      <td>0</td>\n",
              "      <td>0</td>\n",
              "    </tr>\n",
              "    <tr>\n",
              "      <th>2</th>\n",
              "      <td>0</td>\n",
              "      <td>4394</td>\n",
              "      <td>-590</td>\n",
              "      <td>4210.0</td>\n",
              "      <td>1090</td>\n",
              "      <td>3010</td>\n",
              "      <td>-218640</td>\n",
              "      <td>40560</td>\n",
              "      <td>0</td>\n",
              "      <td>0</td>\n",
              "      <td>...</td>\n",
              "      <td>0</td>\n",
              "      <td>0</td>\n",
              "      <td>0.0</td>\n",
              "      <td>0</td>\n",
              "      <td>50</td>\n",
              "      <td>0</td>\n",
              "      <td>0</td>\n",
              "      <td>0</td>\n",
              "      <td>0</td>\n",
              "      <td>0</td>\n",
              "    </tr>\n",
              "    <tr>\n",
              "      <th>3</th>\n",
              "      <td>0</td>\n",
              "      <td>20990</td>\n",
              "      <td>-778</td>\n",
              "      <td>20222.0</td>\n",
              "      <td>2522</td>\n",
              "      <td>17822</td>\n",
              "      <td>-201120</td>\n",
              "      <td>576480</td>\n",
              "      <td>1</td>\n",
              "      <td>0</td>\n",
              "      <td>...</td>\n",
              "      <td>0</td>\n",
              "      <td>80</td>\n",
              "      <td>0.0</td>\n",
              "      <td>100</td>\n",
              "      <td>100</td>\n",
              "      <td>0</td>\n",
              "      <td>50</td>\n",
              "      <td>0</td>\n",
              "      <td>0</td>\n",
              "      <td>0</td>\n",
              "    </tr>\n",
              "    <tr>\n",
              "      <th>4</th>\n",
              "      <td>0</td>\n",
              "      <td>21531</td>\n",
              "      <td>-1009</td>\n",
              "      <td>22391.0</td>\n",
              "      <td>2591</td>\n",
              "      <td>20291</td>\n",
              "      <td>-67560</td>\n",
              "      <td>3734040</td>\n",
              "      <td>13</td>\n",
              "      <td>0</td>\n",
              "      <td>...</td>\n",
              "      <td>0</td>\n",
              "      <td>0</td>\n",
              "      <td>0.0</td>\n",
              "      <td>0</td>\n",
              "      <td>160</td>\n",
              "      <td>0</td>\n",
              "      <td>10</td>\n",
              "      <td>900</td>\n",
              "      <td>0</td>\n",
              "      <td>2100</td>\n",
              "    </tr>\n",
              "  </tbody>\n",
              "</table>\n",
              "<p>5 rows × 56 columns</p>\n",
              "</div>\n",
              "      <button class=\"colab-df-convert\" onclick=\"convertToInteractive('df-d3bc7bef-ff63-445d-b245-4ba839587c46')\"\n",
              "              title=\"Convert this dataframe to an interactive table.\"\n",
              "              style=\"display:none;\">\n",
              "        \n",
              "  <svg xmlns=\"http://www.w3.org/2000/svg\" height=\"24px\"viewBox=\"0 0 24 24\"\n",
              "       width=\"24px\">\n",
              "    <path d=\"M0 0h24v24H0V0z\" fill=\"none\"/>\n",
              "    <path d=\"M18.56 5.44l.94 2.06.94-2.06 2.06-.94-2.06-.94-.94-2.06-.94 2.06-2.06.94zm-11 1L8.5 8.5l.94-2.06 2.06-.94-2.06-.94L8.5 2.5l-.94 2.06-2.06.94zm10 10l.94 2.06.94-2.06 2.06-.94-2.06-.94-.94-2.06-.94 2.06-2.06.94z\"/><path d=\"M17.41 7.96l-1.37-1.37c-.4-.4-.92-.59-1.43-.59-.52 0-1.04.2-1.43.59L10.3 9.45l-7.72 7.72c-.78.78-.78 2.05 0 2.83L4 21.41c.39.39.9.59 1.41.59.51 0 1.02-.2 1.41-.59l7.78-7.78 2.81-2.81c.8-.78.8-2.07 0-2.86zM5.41 20L4 18.59l7.72-7.72 1.47 1.35L5.41 20z\"/>\n",
              "  </svg>\n",
              "      </button>\n",
              "      \n",
              "  <style>\n",
              "    .colab-df-container {\n",
              "      display:flex;\n",
              "      flex-wrap:wrap;\n",
              "      gap: 12px;\n",
              "    }\n",
              "\n",
              "    .colab-df-convert {\n",
              "      background-color: #E8F0FE;\n",
              "      border: none;\n",
              "      border-radius: 50%;\n",
              "      cursor: pointer;\n",
              "      display: none;\n",
              "      fill: #1967D2;\n",
              "      height: 32px;\n",
              "      padding: 0 0 0 0;\n",
              "      width: 32px;\n",
              "    }\n",
              "\n",
              "    .colab-df-convert:hover {\n",
              "      background-color: #E2EBFA;\n",
              "      box-shadow: 0px 1px 2px rgba(60, 64, 67, 0.3), 0px 1px 3px 1px rgba(60, 64, 67, 0.15);\n",
              "      fill: #174EA6;\n",
              "    }\n",
              "\n",
              "    [theme=dark] .colab-df-convert {\n",
              "      background-color: #3B4455;\n",
              "      fill: #D2E3FC;\n",
              "    }\n",
              "\n",
              "    [theme=dark] .colab-df-convert:hover {\n",
              "      background-color: #434B5C;\n",
              "      box-shadow: 0px 1px 3px 1px rgba(0, 0, 0, 0.15);\n",
              "      filter: drop-shadow(0px 1px 2px rgba(0, 0, 0, 0.3));\n",
              "      fill: #FFFFFF;\n",
              "    }\n",
              "  </style>\n",
              "\n",
              "      <script>\n",
              "        const buttonEl =\n",
              "          document.querySelector('#df-d3bc7bef-ff63-445d-b245-4ba839587c46 button.colab-df-convert');\n",
              "        buttonEl.style.display =\n",
              "          google.colab.kernel.accessAllowed ? 'block' : 'none';\n",
              "\n",
              "        async function convertToInteractive(key) {\n",
              "          const element = document.querySelector('#df-d3bc7bef-ff63-445d-b245-4ba839587c46');\n",
              "          const dataTable =\n",
              "            await google.colab.kernel.invokeFunction('convertToInteractive',\n",
              "                                                     [key], {});\n",
              "          if (!dataTable) return;\n",
              "\n",
              "          const docLinkHtml = 'Like what you see? Visit the ' +\n",
              "            '<a target=\"_blank\" href=https://colab.research.google.com/notebooks/data_table.ipynb>data table notebook</a>'\n",
              "            + ' to learn more about interactive tables.';\n",
              "          element.innerHTML = '';\n",
              "          dataTable['output_type'] = 'display_data';\n",
              "          await google.colab.output.renderOutput(dataTable, element);\n",
              "          const docLink = document.createElement('div');\n",
              "          docLink.innerHTML = docLinkHtml;\n",
              "          element.appendChild(docLink);\n",
              "        }\n",
              "      </script>\n",
              "    </div>\n",
              "  </div>\n",
              "  "
            ]
          },
          "metadata": {},
          "execution_count": 145
        }
      ],
      "source": [
        "df.drop(drop_c,inplace=True,axis=1)\n",
        "df.head()"
      ]
    },
    {
      "cell_type": "code",
      "execution_count": 146,
      "metadata": {
        "id": "uVr1juCrr79d"
      },
      "outputs": [],
      "source": [
        "df['recording_time']=(df['caseend']-df['casestart'])/360\n",
        "df['anes_time']=-(df['anestart']-df['aneend'])/360\n",
        "df['oper_time']=-(df['opstart']-df['opend'])/360\n"
      ]
    },
    {
      "cell_type": "code",
      "execution_count": 147,
      "metadata": {
        "id": "7qMyXVrTs79r"
      },
      "outputs": [],
      "source": [
        "df.drop(['caseend','casestart','anestart','aneend','opstart','opend','adm','dis'],axis=1,inplace=True)"
      ]
    },
    {
      "cell_type": "code",
      "execution_count": 148,
      "metadata": {
        "id": "Rw-ud3xBunR6"
      },
      "outputs": [],
      "source": [
        "x=df"
      ]
    },
    {
      "cell_type": "code",
      "execution_count": 149,
      "metadata": {
        "colab": {
          "base_uri": "https://localhost:8080/",
          "height": 644
        },
        "id": "TCdC7pdmvy4Z",
        "outputId": "79572772-6257-4b27-f37e-4b1478a45238"
      },
      "outputs": [
        {
          "output_type": "execute_result",
          "data": {
            "text/plain": [
              "      icu_days  death_inhosp   age sex  height  weight   bmi  asa  emop  \\\n",
              "0            0             0  77.0   M   160.2   67.50  26.3  2.0     0   \n",
              "1            0             0  54.0   M   167.3   54.80  19.6  2.0     0   \n",
              "2            0             0  62.0   M   169.1   69.70  24.4  1.0     0   \n",
              "3            1             0  74.0   M   160.6   53.00  20.5  2.0     0   \n",
              "4           13             0  66.0   M   171.0   59.70  20.4  3.0     1   \n",
              "...        ...           ...   ...  ..     ...     ...   ...  ...   ...   \n",
              "6383         0             0  64.0   M   161.5   63.00  24.2  1.0     0   \n",
              "6384         0             0  69.0   M   159.3   62.30  24.6  2.0     0   \n",
              "6385         0             0  61.0   F   151.7   43.25  18.8  1.0     0   \n",
              "6386         0             0  24.0   F   155.7   55.50  22.9  1.0     0   \n",
              "6387         0             0  47.0   F   150.0   51.50  22.9  2.0     0   \n",
              "\n",
              "           department  ... intraop_ftn intraop_rocu intraop_vecu intraop_eph  \\\n",
              "0     General surgery  ...         100           70            0          10   \n",
              "1     General surgery  ...           0          100            0          20   \n",
              "2     General surgery  ...           0           50            0           0   \n",
              "3     General surgery  ...         100          100            0          50   \n",
              "4     General surgery  ...           0          160            0          10   \n",
              "...               ...  ...         ...          ...          ...         ...   \n",
              "6383  General surgery  ...           0           90            0          20   \n",
              "6384  General surgery  ...           0          100            0          25   \n",
              "6385  General surgery  ...           0          130            0          10   \n",
              "6386  General surgery  ...           0           50            0           0   \n",
              "6387       Gynecology  ...           0           90            0          20   \n",
              "\n",
              "     intraop_phe intraop_epi  intraop_ca  recording_time  anes_time  oper_time  \n",
              "0              0           0           0       32.061111  31.666667  24.166667  \n",
              "1              0           0           0       43.725000  44.333333  35.833333  \n",
              "2              0           0           0       12.205556  13.333333   5.333333  \n",
              "3              0           0           0       58.305556  58.333333  42.500000  \n",
              "4            900           0        2100       59.808333  65.000000  49.166667  \n",
              "...          ...         ...         ...             ...        ...        ...  \n",
              "6383           0           0           0       42.355556  44.166667  33.333333  \n",
              "6384          30           0         300       57.341667  59.833333  47.500000  \n",
              "6385           0           0           0       54.030556  55.000000  40.833333  \n",
              "6386           0           0           0       33.402778  37.166667  25.833333  \n",
              "6387           0           0           0       28.469444  28.333333  19.166667  \n",
              "\n",
              "[6388 rows x 51 columns]"
            ],
            "text/html": [
              "\n",
              "  <div id=\"df-2b357f39-7ec9-4053-b19d-da2e285f7f95\">\n",
              "    <div class=\"colab-df-container\">\n",
              "      <div>\n",
              "<style scoped>\n",
              "    .dataframe tbody tr th:only-of-type {\n",
              "        vertical-align: middle;\n",
              "    }\n",
              "\n",
              "    .dataframe tbody tr th {\n",
              "        vertical-align: top;\n",
              "    }\n",
              "\n",
              "    .dataframe thead th {\n",
              "        text-align: right;\n",
              "    }\n",
              "</style>\n",
              "<table border=\"1\" class=\"dataframe\">\n",
              "  <thead>\n",
              "    <tr style=\"text-align: right;\">\n",
              "      <th></th>\n",
              "      <th>icu_days</th>\n",
              "      <th>death_inhosp</th>\n",
              "      <th>age</th>\n",
              "      <th>sex</th>\n",
              "      <th>height</th>\n",
              "      <th>weight</th>\n",
              "      <th>bmi</th>\n",
              "      <th>asa</th>\n",
              "      <th>emop</th>\n",
              "      <th>department</th>\n",
              "      <th>...</th>\n",
              "      <th>intraop_ftn</th>\n",
              "      <th>intraop_rocu</th>\n",
              "      <th>intraop_vecu</th>\n",
              "      <th>intraop_eph</th>\n",
              "      <th>intraop_phe</th>\n",
              "      <th>intraop_epi</th>\n",
              "      <th>intraop_ca</th>\n",
              "      <th>recording_time</th>\n",
              "      <th>anes_time</th>\n",
              "      <th>oper_time</th>\n",
              "    </tr>\n",
              "  </thead>\n",
              "  <tbody>\n",
              "    <tr>\n",
              "      <th>0</th>\n",
              "      <td>0</td>\n",
              "      <td>0</td>\n",
              "      <td>77.0</td>\n",
              "      <td>M</td>\n",
              "      <td>160.2</td>\n",
              "      <td>67.50</td>\n",
              "      <td>26.3</td>\n",
              "      <td>2.0</td>\n",
              "      <td>0</td>\n",
              "      <td>General surgery</td>\n",
              "      <td>...</td>\n",
              "      <td>100</td>\n",
              "      <td>70</td>\n",
              "      <td>0</td>\n",
              "      <td>10</td>\n",
              "      <td>0</td>\n",
              "      <td>0</td>\n",
              "      <td>0</td>\n",
              "      <td>32.061111</td>\n",
              "      <td>31.666667</td>\n",
              "      <td>24.166667</td>\n",
              "    </tr>\n",
              "    <tr>\n",
              "      <th>1</th>\n",
              "      <td>0</td>\n",
              "      <td>0</td>\n",
              "      <td>54.0</td>\n",
              "      <td>M</td>\n",
              "      <td>167.3</td>\n",
              "      <td>54.80</td>\n",
              "      <td>19.6</td>\n",
              "      <td>2.0</td>\n",
              "      <td>0</td>\n",
              "      <td>General surgery</td>\n",
              "      <td>...</td>\n",
              "      <td>0</td>\n",
              "      <td>100</td>\n",
              "      <td>0</td>\n",
              "      <td>20</td>\n",
              "      <td>0</td>\n",
              "      <td>0</td>\n",
              "      <td>0</td>\n",
              "      <td>43.725000</td>\n",
              "      <td>44.333333</td>\n",
              "      <td>35.833333</td>\n",
              "    </tr>\n",
              "    <tr>\n",
              "      <th>2</th>\n",
              "      <td>0</td>\n",
              "      <td>0</td>\n",
              "      <td>62.0</td>\n",
              "      <td>M</td>\n",
              "      <td>169.1</td>\n",
              "      <td>69.70</td>\n",
              "      <td>24.4</td>\n",
              "      <td>1.0</td>\n",
              "      <td>0</td>\n",
              "      <td>General surgery</td>\n",
              "      <td>...</td>\n",
              "      <td>0</td>\n",
              "      <td>50</td>\n",
              "      <td>0</td>\n",
              "      <td>0</td>\n",
              "      <td>0</td>\n",
              "      <td>0</td>\n",
              "      <td>0</td>\n",
              "      <td>12.205556</td>\n",
              "      <td>13.333333</td>\n",
              "      <td>5.333333</td>\n",
              "    </tr>\n",
              "    <tr>\n",
              "      <th>3</th>\n",
              "      <td>1</td>\n",
              "      <td>0</td>\n",
              "      <td>74.0</td>\n",
              "      <td>M</td>\n",
              "      <td>160.6</td>\n",
              "      <td>53.00</td>\n",
              "      <td>20.5</td>\n",
              "      <td>2.0</td>\n",
              "      <td>0</td>\n",
              "      <td>General surgery</td>\n",
              "      <td>...</td>\n",
              "      <td>100</td>\n",
              "      <td>100</td>\n",
              "      <td>0</td>\n",
              "      <td>50</td>\n",
              "      <td>0</td>\n",
              "      <td>0</td>\n",
              "      <td>0</td>\n",
              "      <td>58.305556</td>\n",
              "      <td>58.333333</td>\n",
              "      <td>42.500000</td>\n",
              "    </tr>\n",
              "    <tr>\n",
              "      <th>4</th>\n",
              "      <td>13</td>\n",
              "      <td>0</td>\n",
              "      <td>66.0</td>\n",
              "      <td>M</td>\n",
              "      <td>171.0</td>\n",
              "      <td>59.70</td>\n",
              "      <td>20.4</td>\n",
              "      <td>3.0</td>\n",
              "      <td>1</td>\n",
              "      <td>General surgery</td>\n",
              "      <td>...</td>\n",
              "      <td>0</td>\n",
              "      <td>160</td>\n",
              "      <td>0</td>\n",
              "      <td>10</td>\n",
              "      <td>900</td>\n",
              "      <td>0</td>\n",
              "      <td>2100</td>\n",
              "      <td>59.808333</td>\n",
              "      <td>65.000000</td>\n",
              "      <td>49.166667</td>\n",
              "    </tr>\n",
              "    <tr>\n",
              "      <th>...</th>\n",
              "      <td>...</td>\n",
              "      <td>...</td>\n",
              "      <td>...</td>\n",
              "      <td>...</td>\n",
              "      <td>...</td>\n",
              "      <td>...</td>\n",
              "      <td>...</td>\n",
              "      <td>...</td>\n",
              "      <td>...</td>\n",
              "      <td>...</td>\n",
              "      <td>...</td>\n",
              "      <td>...</td>\n",
              "      <td>...</td>\n",
              "      <td>...</td>\n",
              "      <td>...</td>\n",
              "      <td>...</td>\n",
              "      <td>...</td>\n",
              "      <td>...</td>\n",
              "      <td>...</td>\n",
              "      <td>...</td>\n",
              "      <td>...</td>\n",
              "    </tr>\n",
              "    <tr>\n",
              "      <th>6383</th>\n",
              "      <td>0</td>\n",
              "      <td>0</td>\n",
              "      <td>64.0</td>\n",
              "      <td>M</td>\n",
              "      <td>161.5</td>\n",
              "      <td>63.00</td>\n",
              "      <td>24.2</td>\n",
              "      <td>1.0</td>\n",
              "      <td>0</td>\n",
              "      <td>General surgery</td>\n",
              "      <td>...</td>\n",
              "      <td>0</td>\n",
              "      <td>90</td>\n",
              "      <td>0</td>\n",
              "      <td>20</td>\n",
              "      <td>0</td>\n",
              "      <td>0</td>\n",
              "      <td>0</td>\n",
              "      <td>42.355556</td>\n",
              "      <td>44.166667</td>\n",
              "      <td>33.333333</td>\n",
              "    </tr>\n",
              "    <tr>\n",
              "      <th>6384</th>\n",
              "      <td>0</td>\n",
              "      <td>0</td>\n",
              "      <td>69.0</td>\n",
              "      <td>M</td>\n",
              "      <td>159.3</td>\n",
              "      <td>62.30</td>\n",
              "      <td>24.6</td>\n",
              "      <td>2.0</td>\n",
              "      <td>0</td>\n",
              "      <td>General surgery</td>\n",
              "      <td>...</td>\n",
              "      <td>0</td>\n",
              "      <td>100</td>\n",
              "      <td>0</td>\n",
              "      <td>25</td>\n",
              "      <td>30</td>\n",
              "      <td>0</td>\n",
              "      <td>300</td>\n",
              "      <td>57.341667</td>\n",
              "      <td>59.833333</td>\n",
              "      <td>47.500000</td>\n",
              "    </tr>\n",
              "    <tr>\n",
              "      <th>6385</th>\n",
              "      <td>0</td>\n",
              "      <td>0</td>\n",
              "      <td>61.0</td>\n",
              "      <td>F</td>\n",
              "      <td>151.7</td>\n",
              "      <td>43.25</td>\n",
              "      <td>18.8</td>\n",
              "      <td>1.0</td>\n",
              "      <td>0</td>\n",
              "      <td>General surgery</td>\n",
              "      <td>...</td>\n",
              "      <td>0</td>\n",
              "      <td>130</td>\n",
              "      <td>0</td>\n",
              "      <td>10</td>\n",
              "      <td>0</td>\n",
              "      <td>0</td>\n",
              "      <td>0</td>\n",
              "      <td>54.030556</td>\n",
              "      <td>55.000000</td>\n",
              "      <td>40.833333</td>\n",
              "    </tr>\n",
              "    <tr>\n",
              "      <th>6386</th>\n",
              "      <td>0</td>\n",
              "      <td>0</td>\n",
              "      <td>24.0</td>\n",
              "      <td>F</td>\n",
              "      <td>155.7</td>\n",
              "      <td>55.50</td>\n",
              "      <td>22.9</td>\n",
              "      <td>1.0</td>\n",
              "      <td>0</td>\n",
              "      <td>General surgery</td>\n",
              "      <td>...</td>\n",
              "      <td>0</td>\n",
              "      <td>50</td>\n",
              "      <td>0</td>\n",
              "      <td>0</td>\n",
              "      <td>0</td>\n",
              "      <td>0</td>\n",
              "      <td>0</td>\n",
              "      <td>33.402778</td>\n",
              "      <td>37.166667</td>\n",
              "      <td>25.833333</td>\n",
              "    </tr>\n",
              "    <tr>\n",
              "      <th>6387</th>\n",
              "      <td>0</td>\n",
              "      <td>0</td>\n",
              "      <td>47.0</td>\n",
              "      <td>F</td>\n",
              "      <td>150.0</td>\n",
              "      <td>51.50</td>\n",
              "      <td>22.9</td>\n",
              "      <td>2.0</td>\n",
              "      <td>0</td>\n",
              "      <td>Gynecology</td>\n",
              "      <td>...</td>\n",
              "      <td>0</td>\n",
              "      <td>90</td>\n",
              "      <td>0</td>\n",
              "      <td>20</td>\n",
              "      <td>0</td>\n",
              "      <td>0</td>\n",
              "      <td>0</td>\n",
              "      <td>28.469444</td>\n",
              "      <td>28.333333</td>\n",
              "      <td>19.166667</td>\n",
              "    </tr>\n",
              "  </tbody>\n",
              "</table>\n",
              "<p>6388 rows × 51 columns</p>\n",
              "</div>\n",
              "      <button class=\"colab-df-convert\" onclick=\"convertToInteractive('df-2b357f39-7ec9-4053-b19d-da2e285f7f95')\"\n",
              "              title=\"Convert this dataframe to an interactive table.\"\n",
              "              style=\"display:none;\">\n",
              "        \n",
              "  <svg xmlns=\"http://www.w3.org/2000/svg\" height=\"24px\"viewBox=\"0 0 24 24\"\n",
              "       width=\"24px\">\n",
              "    <path d=\"M0 0h24v24H0V0z\" fill=\"none\"/>\n",
              "    <path d=\"M18.56 5.44l.94 2.06.94-2.06 2.06-.94-2.06-.94-.94-2.06-.94 2.06-2.06.94zm-11 1L8.5 8.5l.94-2.06 2.06-.94-2.06-.94L8.5 2.5l-.94 2.06-2.06.94zm10 10l.94 2.06.94-2.06 2.06-.94-2.06-.94-.94-2.06-.94 2.06-2.06.94z\"/><path d=\"M17.41 7.96l-1.37-1.37c-.4-.4-.92-.59-1.43-.59-.52 0-1.04.2-1.43.59L10.3 9.45l-7.72 7.72c-.78.78-.78 2.05 0 2.83L4 21.41c.39.39.9.59 1.41.59.51 0 1.02-.2 1.41-.59l7.78-7.78 2.81-2.81c.8-.78.8-2.07 0-2.86zM5.41 20L4 18.59l7.72-7.72 1.47 1.35L5.41 20z\"/>\n",
              "  </svg>\n",
              "      </button>\n",
              "      \n",
              "  <style>\n",
              "    .colab-df-container {\n",
              "      display:flex;\n",
              "      flex-wrap:wrap;\n",
              "      gap: 12px;\n",
              "    }\n",
              "\n",
              "    .colab-df-convert {\n",
              "      background-color: #E8F0FE;\n",
              "      border: none;\n",
              "      border-radius: 50%;\n",
              "      cursor: pointer;\n",
              "      display: none;\n",
              "      fill: #1967D2;\n",
              "      height: 32px;\n",
              "      padding: 0 0 0 0;\n",
              "      width: 32px;\n",
              "    }\n",
              "\n",
              "    .colab-df-convert:hover {\n",
              "      background-color: #E2EBFA;\n",
              "      box-shadow: 0px 1px 2px rgba(60, 64, 67, 0.3), 0px 1px 3px 1px rgba(60, 64, 67, 0.15);\n",
              "      fill: #174EA6;\n",
              "    }\n",
              "\n",
              "    [theme=dark] .colab-df-convert {\n",
              "      background-color: #3B4455;\n",
              "      fill: #D2E3FC;\n",
              "    }\n",
              "\n",
              "    [theme=dark] .colab-df-convert:hover {\n",
              "      background-color: #434B5C;\n",
              "      box-shadow: 0px 1px 3px 1px rgba(0, 0, 0, 0.15);\n",
              "      filter: drop-shadow(0px 1px 2px rgba(0, 0, 0, 0.3));\n",
              "      fill: #FFFFFF;\n",
              "    }\n",
              "  </style>\n",
              "\n",
              "      <script>\n",
              "        const buttonEl =\n",
              "          document.querySelector('#df-2b357f39-7ec9-4053-b19d-da2e285f7f95 button.colab-df-convert');\n",
              "        buttonEl.style.display =\n",
              "          google.colab.kernel.accessAllowed ? 'block' : 'none';\n",
              "\n",
              "        async function convertToInteractive(key) {\n",
              "          const element = document.querySelector('#df-2b357f39-7ec9-4053-b19d-da2e285f7f95');\n",
              "          const dataTable =\n",
              "            await google.colab.kernel.invokeFunction('convertToInteractive',\n",
              "                                                     [key], {});\n",
              "          if (!dataTable) return;\n",
              "\n",
              "          const docLinkHtml = 'Like what you see? Visit the ' +\n",
              "            '<a target=\"_blank\" href=https://colab.research.google.com/notebooks/data_table.ipynb>data table notebook</a>'\n",
              "            + ' to learn more about interactive tables.';\n",
              "          element.innerHTML = '';\n",
              "          dataTable['output_type'] = 'display_data';\n",
              "          await google.colab.output.renderOutput(dataTable, element);\n",
              "          const docLink = document.createElement('div');\n",
              "          docLink.innerHTML = docLinkHtml;\n",
              "          element.appendChild(docLink);\n",
              "        }\n",
              "      </script>\n",
              "    </div>\n",
              "  </div>\n",
              "  "
            ]
          },
          "metadata": {},
          "execution_count": 149
        }
      ],
      "source": [
        "x"
      ]
    },
    {
      "cell_type": "code",
      "execution_count": 150,
      "metadata": {
        "colab": {
          "base_uri": "https://localhost:8080/"
        },
        "id": "jRjs0VdCv7iV",
        "outputId": "3edb5011-7a0c-4dbd-a3e3-5bb9682fc9d7"
      },
      "outputs": [
        {
          "output_type": "execute_result",
          "data": {
            "text/plain": [
              "icu_days                 int64\n",
              "death_inhosp             int64\n",
              "age                    float64\n",
              "sex                     object\n",
              "height                 float64\n",
              "weight                 float64\n",
              "bmi                    float64\n",
              "asa                    float64\n",
              "emop                     int64\n",
              "department              object\n",
              "optype                  object\n",
              "dx                      object\n",
              "opname                  object\n",
              "approach                object\n",
              "position                object\n",
              "ane_type                object\n",
              "preop_htn                int64\n",
              "preop_dm                 int64\n",
              "preop_ecg               object\n",
              "preop_pft               object\n",
              "preop_hb               float64\n",
              "preop_plt              float64\n",
              "preop_pt               float64\n",
              "preop_aptt             float64\n",
              "preop_na               float64\n",
              "preop_k                float64\n",
              "preop_gluc             float64\n",
              "preop_alb              float64\n",
              "preop_ast              float64\n",
              "preop_alt              float64\n",
              "preop_bun              float64\n",
              "preop_cr               float64\n",
              "cormack                 object\n",
              "airway                  object\n",
              "iv1                     object\n",
              "intraop_rbc              int64\n",
              "intraop_ffp              int64\n",
              "intraop_crystalloid    float64\n",
              "intraop_colloid          int64\n",
              "intraop_ppf              int64\n",
              "intraop_mdz            float64\n",
              "intraop_ftn              int64\n",
              "intraop_rocu             int64\n",
              "intraop_vecu             int64\n",
              "intraop_eph              int64\n",
              "intraop_phe              int64\n",
              "intraop_epi              int64\n",
              "intraop_ca               int64\n",
              "recording_time         float64\n",
              "anes_time              float64\n",
              "oper_time              float64\n",
              "dtype: object"
            ]
          },
          "metadata": {},
          "execution_count": 150
        }
      ],
      "source": [
        "x.dtypes"
      ]
    },
    {
      "cell_type": "markdown",
      "metadata": {
        "id": "QYPPsG1CwirD"
      },
      "source": [
        "Univariate and Multivariate Analysis"
      ]
    },
    {
      "cell_type": "code",
      "execution_count": 151,
      "metadata": {
        "colab": {
          "base_uri": "https://localhost:8080/",
          "height": 487
        },
        "id": "3LmfUFtTwoMQ",
        "outputId": "ec29151d-cd1f-4515-b9b3-db828c19fe7b"
      },
      "outputs": [
        {
          "output_type": "stream",
          "name": "stderr",
          "text": [
            "<ipython-input-151-8300c3c86a09>:2: UserWarning: \n",
            "\n",
            "`distplot` is a deprecated function and will be removed in seaborn v0.14.0.\n",
            "\n",
            "Please adapt your code to use either `displot` (a figure-level function with\n",
            "similar flexibility) or `histplot` (an axes-level function for histograms).\n",
            "\n",
            "For a guide to updating your code to use the new functions, please see\n",
            "https://gist.github.com/mwaskom/de44147ed2974457ad6372750bbe5751\n",
            "\n",
            "  sns.distplot(x['age'], hist=True, kde=True)\n"
          ]
        },
        {
          "output_type": "execute_result",
          "data": {
            "text/plain": [
              "<Axes: xlabel='age', ylabel='Density'>"
            ]
          },
          "metadata": {},
          "execution_count": 151
        },
        {
          "output_type": "display_data",
          "data": {
            "text/plain": [
              "<Figure size 432x288 with 1 Axes>"
            ],
            "image/png": "[encoded data removed]"
          },
          "metadata": {
            "needs_background": "light"
          }
        }
      ],
      "source": [
        "import seaborn as sns\n",
        "sns.distplot(x['age'], hist=True, kde=True)"
      ]
    },
    {
      "cell_type": "code",
      "source": [
        "x['age'].isnull().sum()"
      ],
      "metadata": {
        "colab": {
          "base_uri": "https://localhost:8080/"
        },
        "id": "P5Z9t2ztTKm2",
        "outputId": "d0a8e9fc-70f6-4017-f7b6-eba39ef8d585"
      },
      "execution_count": 152,
      "outputs": [
        {
          "output_type": "execute_result",
          "data": {
            "text/plain": [
              "0"
            ]
          },
          "metadata": {},
          "execution_count": 152
        }
      ]
    },
    {
      "cell_type": "markdown",
      "metadata": {
        "id": "QipxuvSJxigJ"
      },
      "source": [
        "The Variable looks normal therefore no preprocessing needed at this stage"
      ]
    },
    {
      "cell_type": "code",
      "execution_count": 153,
      "metadata": {
        "colab": {
          "base_uri": "https://localhost:8080/",
          "height": 386
        },
        "id": "AV8idD5lwoEx",
        "outputId": "04738f3d-0c8c-4347-874f-844acd52a518"
      },
      "outputs": [
        {
          "output_type": "execute_result",
          "data": {
            "text/plain": [
              "<seaborn.axisgrid.FacetGrid at 0x7f662ec948e0>"
            ]
          },
          "metadata": {},
          "execution_count": 153
        },
        {
          "output_type": "display_data",
          "data": {
            "text/plain": [
              "<Figure size 404.625x360 with 1 Axes>"
            ],
            "image/png": "[encoded data removed]"
          },
          "metadata": {
            "needs_background": "light"
          }
        }
      ],
      "source": [
        "sns.displot(data=x, x=x[\"icu_days\"]**0.1, hue=\"sex\", kind=\"kde\")"
      ]
    },
    {
      "cell_type": "code",
      "source": [
        "sns.barplot(x='sex',y='icu_days',data=x)"
      ],
      "metadata": {
        "colab": {
          "base_uri": "https://localhost:8080/",
          "height": 296
        },
        "id": "Lg6StqRENRoU",
        "outputId": "fc0a3429-909f-433f-d65c-e8ea06c3b047"
      },
      "execution_count": 154,
      "outputs": [
        {
          "output_type": "execute_result",
          "data": {
            "text/plain": [
              "<Axes: xlabel='sex', ylabel='icu_days'>"
            ]
          },
          "metadata": {},
          "execution_count": 154
        },
        {
          "output_type": "display_data",
          "data": {
            "text/plain": [
              "<Figure size 432x288 with 1 Axes>"
            ],
            "image/png": "[encoded data removed]"
          },
          "metadata": {
            "needs_background": "light"
          }
        }
      ]
    },
    {
      "cell_type": "code",
      "execution_count": 155,
      "metadata": {
        "colab": {
          "base_uri": "https://localhost:8080/"
        },
        "id": "937E_HbYz7HE",
        "outputId": "b98427c4-d3e5-4c06-a028-54ba55cc814f"
      },
      "outputs": [
        {
          "output_type": "stream",
          "name": "stdout",
          "text": [
            "F-statistic: 9.748123377035274\n",
            "P-value: 0.001803079372685652\n",
            "X is a statistically significant predictor of Y\n"
          ]
        }
      ],
      "source": [
        "# Split the dataset into X and Y\n",
        "from scipy import stats\n",
        "X1 = x['sex']\n",
        "Y1 = x['icu_days']\n",
        "\n",
        "grouped_Y = [x.loc[x['sex'] == i, 'icu_days'] for i in X1.unique()]\n",
        "\n",
        "  # Perform an ANOVA test between X and Y\n",
        "F_statistic, p_value = stats.f_oneway(grouped_Y[0],grouped_Y[1])\n",
        "\n",
        "  # Print the results of the hypothesis test\n",
        "print('F-statistic:', F_statistic)\n",
        "print('P-value:', p_value)\n",
        "\n",
        "  # Check if the p-value is less than 0.05\n",
        "if p_value < 0.05:\n",
        "      print('X is a statistically significant predictor of Y')\n",
        "else:\n",
        "      print('X is not a statistically significant predictor of Y')\n"
      ]
    },
    {
      "cell_type": "code",
      "source": [
        "x.sex.isnull().sum()"
      ],
      "metadata": {
        "colab": {
          "base_uri": "https://localhost:8080/"
        },
        "id": "Ug6UsdQcTP_9",
        "outputId": "b915de53-5f81-4268-fd26-ccef0671d273"
      },
      "execution_count": 156,
      "outputs": [
        {
          "output_type": "execute_result",
          "data": {
            "text/plain": [
              "0"
            ]
          },
          "metadata": {},
          "execution_count": 156
        }
      ]
    },
    {
      "cell_type": "markdown",
      "metadata": {
        "id": "Aier-Gdc2sY7"
      },
      "source": [
        "Gender is a important factor for prediction"
      ]
    },
    {
      "cell_type": "code",
      "execution_count": 157,
      "metadata": {
        "colab": {
          "base_uri": "https://localhost:8080/"
        },
        "id": "V8qoBBbytIk_",
        "outputId": "15ce0782-fead-480c-a58d-28dd425cdde9"
      },
      "outputs": [
        {
          "output_type": "execute_result",
          "data": {
            "text/plain": [
              "2.0    3699\n",
              "1.0    1792\n",
              "3.0     703\n",
              "4.0      48\n",
              "6.0      13\n",
              "Name: asa, dtype: int64"
            ]
          },
          "metadata": {},
          "execution_count": 157
        }
      ],
      "source": [
        "x['asa'].value_counts()"
      ]
    },
    {
      "cell_type": "code",
      "execution_count": 158,
      "metadata": {
        "id": "3FEsXvXStI9l"
      },
      "outputs": [],
      "source": [
        "x['asa']=x['asa'].fillna(5.0)"
      ]
    },
    {
      "cell_type": "code",
      "source": [
        "sns.barplot(x='asa',y='icu_days',data=x)"
      ],
      "metadata": {
        "colab": {
          "base_uri": "https://localhost:8080/",
          "height": 296
        },
        "id": "Lufb3CwK4bjR",
        "outputId": "c247b54d-e318-4a20-f60c-a54de21fe2a6"
      },
      "execution_count": 159,
      "outputs": [
        {
          "output_type": "execute_result",
          "data": {
            "text/plain": [
              "<Axes: xlabel='asa', ylabel='icu_days'>"
            ]
          },
          "metadata": {},
          "execution_count": 159
        },
        {
          "output_type": "display_data",
          "data": {
            "text/plain": [
              "<Figure size 432x288 with 1 Axes>"
            ],
            "image/png": "[encoded data removed]"
          },
          "metadata": {
            "needs_background": "light"
          }
        }
      ]
    },
    {
      "cell_type": "code",
      "execution_count": 160,
      "metadata": {
        "id": "Z9vk7qM124nL",
        "colab": {
          "base_uri": "https://localhost:8080/"
        },
        "outputId": "f4f15263-b736-48ba-bc64-7b2f4c565805"
      },
      "outputs": [
        {
          "output_type": "stream",
          "name": "stdout",
          "text": [
            "F-statistic: 44.39540771147573\n",
            "P-value: 8.13916512510669e-37\n",
            "X is a statistically significant predictor of Y\n"
          ]
        }
      ],
      "source": [
        "X1 = x['asa']\n",
        "Y1 = x['icu_days']\n",
        "grouped_Y = [x.loc[x['asa'] == i, 'icu_days'] for i in X1.unique()]\n",
        "\n",
        "  # Perform an ANOVA test between X and Y\n",
        "F_statistic, p_value = stats.f_oneway(grouped_Y[0],grouped_Y[1],grouped_Y[2],grouped_Y[3],grouped_Y[4])\n",
        "\n",
        "  # Print the results of the hypothesis test\n",
        "print('F-statistic:', F_statistic)\n",
        "print('P-value:', p_value)\n",
        "\n",
        "  # Check if the p-value is less than 0.05\n",
        "if p_value < 0.05:\n",
        "      print('X is a statistically significant predictor of Y')\n",
        "else:\n",
        "      print('X is not a statistically significant predictor of Y')\n"
      ]
    },
    {
      "cell_type": "code",
      "source": [
        "x.groupby('asa')['death_inhosp'].mean()"
      ],
      "metadata": {
        "colab": {
          "base_uri": "https://localhost:8080/"
        },
        "id": "qmblLPnI40Z1",
        "outputId": "d9424158-24ac-4346-8a82-cabb2f4be044"
      },
      "execution_count": 161,
      "outputs": [
        {
          "output_type": "execute_result",
          "data": {
            "text/plain": [
              "asa\n",
              "1.0    0.005022\n",
              "2.0    0.004596\n",
              "3.0    0.024182\n",
              "4.0    0.250000\n",
              "5.0    0.015038\n",
              "6.0    0.000000\n",
              "Name: death_inhosp, dtype: float64"
            ]
          },
          "metadata": {},
          "execution_count": 161
        }
      ]
    },
    {
      "cell_type": "markdown",
      "source": [
        "death_inhosp only shows if the patient died in Hospital, Not if they are already dead and taken to hospital."
      ],
      "metadata": {
        "id": "40GSd4zXdiLn"
      }
    },
    {
      "cell_type": "code",
      "source": [
        "x.drop(['death_inhosp'],axis=1,inplace=True)"
      ],
      "metadata": {
        "id": "UsyVyR5sgXG9"
      },
      "execution_count": 162,
      "outputs": []
    },
    {
      "cell_type": "markdown",
      "source": [
        "We will keep ASA as it is important"
      ],
      "metadata": {
        "id": "pKX4i5-e4ko2"
      }
    },
    {
      "cell_type": "code",
      "execution_count": 163,
      "metadata": {
        "colab": {
          "base_uri": "https://localhost:8080/"
        },
        "id": "EsY9O3NovyF9",
        "outputId": "237164bb-5430-44d6-cdac-275b2d5a3d84"
      },
      "outputs": [
        {
          "output_type": "execute_result",
          "data": {
            "text/plain": [
              "General surgery     4930\n",
              "Thoracic surgery    1111\n",
              "Gynecology           230\n",
              "Urology              117\n",
              "Name: department, dtype: int64"
            ]
          },
          "metadata": {},
          "execution_count": 163
        }
      ],
      "source": [
        "x['department'].value_counts()"
      ]
    },
    {
      "cell_type": "code",
      "source": [
        "sns.barplot(x='department',y='icu_days',data=x)"
      ],
      "metadata": {
        "colab": {
          "base_uri": "https://localhost:8080/",
          "height": 297
        },
        "id": "1FDwQ1otNiU_",
        "outputId": "da5f233b-f76f-4827-bae0-3c0c8797651b"
      },
      "execution_count": 164,
      "outputs": [
        {
          "output_type": "execute_result",
          "data": {
            "text/plain": [
              "<Axes: xlabel='department', ylabel='icu_days'>"
            ]
          },
          "metadata": {},
          "execution_count": 164
        },
        {
          "output_type": "display_data",
          "data": {
            "text/plain": [
              "<Figure size 432x288 with 1 Axes>"
            ],
            "image/png": "[encoded data removed]"
          },
          "metadata": {
            "needs_background": "light"
          }
        }
      ]
    },
    {
      "cell_type": "code",
      "source": [
        "X1 = x['department']\n",
        "Y1 = x['icu_days']\n",
        "grouped_Y = [x.loc[x['department'] == i, 'icu_days'] for i in X1.unique()]\n",
        "\n",
        "  # Perform an ANOVA test between X and Y\n",
        "F_statistic, p_value = stats.f_oneway(grouped_Y[0],grouped_Y[1],grouped_Y[2],grouped_Y[3])\n",
        "\n",
        "  # Print the results of the hypothesis test\n",
        "print('F-statistic:', F_statistic)\n",
        "print('P-value:', p_value)\n",
        "\n",
        "  # Check if the p-value is less than 0.05\n",
        "if p_value < 0.05:\n",
        "      print('X is a statistically significant predictor of Y')\n",
        "else:\n",
        "      print('X is not a statistically significant predictor of Y')\n"
      ],
      "metadata": {
        "colab": {
          "base_uri": "https://localhost:8080/"
        },
        "id": "ZhMKo7m9gd7A",
        "outputId": "c57c6978-4a31-43da-d3d5-c509184651c3"
      },
      "execution_count": 165,
      "outputs": [
        {
          "output_type": "stream",
          "name": "stdout",
          "text": [
            "F-statistic: 7.867602141079531\n",
            "P-value: 3.0845049226979406e-05\n",
            "X is a statistically significant predictor of Y\n"
          ]
        }
      ]
    },
    {
      "cell_type": "code",
      "source": [
        "x['department'].isnull().sum()"
      ],
      "metadata": {
        "colab": {
          "base_uri": "https://localhost:8080/"
        },
        "id": "h4zMaK0-ToCQ",
        "outputId": "3f56dd95-52d1-4299-f9fe-366d84d465e1"
      },
      "execution_count": 166,
      "outputs": [
        {
          "output_type": "execute_result",
          "data": {
            "text/plain": [
              "0"
            ]
          },
          "metadata": {},
          "execution_count": 166
        }
      ]
    },
    {
      "cell_type": "markdown",
      "source": [
        "As we seen Department seems to be significant for predicting the stay in ICU"
      ],
      "metadata": {
        "id": "PBbQDRb4g1yp"
      }
    },
    {
      "cell_type": "code",
      "execution_count": 167,
      "metadata": {
        "colab": {
          "base_uri": "https://localhost:8080/"
        },
        "id": "wsgH-5y4wXao",
        "outputId": "db89e2e8-90c8-48aa-883a-51669054c6d4"
      },
      "outputs": [
        {
          "output_type": "execute_result",
          "data": {
            "text/plain": [
              "Colorectal          1350\n",
              "Biliary/Pancreas     812\n",
              "Others               799\n",
              "Stomach              676\n",
              "Major resection      584\n",
              "Minor resection      553\n",
              "Breast               434\n",
              "Transplantation      403\n",
              "Vascular             262\n",
              "Hepatic              258\n",
              "Thyroid              257\n",
              "Name: optype, dtype: int64"
            ]
          },
          "metadata": {},
          "execution_count": 167
        }
      ],
      "source": [
        "x['optype'].value_counts()"
      ]
    },
    {
      "cell_type": "code",
      "source": [
        "sns.barplot(x='optype',y='icu_days',data=x)"
      ],
      "metadata": {
        "colab": {
          "base_uri": "https://localhost:8080/",
          "height": 296
        },
        "id": "ykJiBDYvLBxy",
        "outputId": "d1d1198b-e7d2-4ac6-81a5-3a3a6dd7d861"
      },
      "execution_count": 168,
      "outputs": [
        {
          "output_type": "execute_result",
          "data": {
            "text/plain": [
              "<Axes: xlabel='optype', ylabel='icu_days'>"
            ]
          },
          "metadata": {},
          "execution_count": 168
        },
        {
          "output_type": "display_data",
          "data": {
            "text/plain": [
              "<Figure size 432x288 with 1 Axes>"
            ],
            "image/png": "[encoded data removed]"
          },
          "metadata": {
            "needs_background": "light"
          }
        }
      ]
    },
    {
      "cell_type": "code",
      "source": [
        "X1 = x['optype']\n",
        "Y1 = x['icu_days']\n",
        "grouped_Y = [x.loc[x['optype'] == i, 'icu_days'] for i in X1.unique()]\n",
        "\n",
        "  # Perform an ANOVA test between X and Y\n",
        "F_statistic, p_value = stats.f_oneway(grouped_Y[0],grouped_Y[1],grouped_Y[2],grouped_Y[3],grouped_Y[4],grouped_Y[5],grouped_Y[6],grouped_Y[7],grouped_Y[8],grouped_Y[9],grouped_Y[10])\n",
        "\n",
        "  # Print the results of the hypothesis test\n",
        "print('F-statistic:', F_statistic)\n",
        "print('P-value:', p_value)\n",
        "\n",
        "  # Check if the p-value is less than 0.05\n",
        "if p_value < 0.05:\n",
        "      print('X is a statistically significant predictor of Y')\n",
        "else:\n",
        "      print('X is not a statistically significant predictor of Y')\n"
      ],
      "metadata": {
        "colab": {
          "base_uri": "https://localhost:8080/"
        },
        "id": "NuJB043zhITd",
        "outputId": "a86ca32a-033e-4147-ee7c-7144f4c365f2"
      },
      "execution_count": 169,
      "outputs": [
        {
          "output_type": "stream",
          "name": "stdout",
          "text": [
            "F-statistic: 23.09183761096519\n",
            "P-value: 3.693921393620243e-43\n",
            "X is a statistically significant predictor of Y\n"
          ]
        }
      ]
    },
    {
      "cell_type": "code",
      "source": [
        "x.optype.isnull().sum()"
      ],
      "metadata": {
        "colab": {
          "base_uri": "https://localhost:8080/"
        },
        "id": "2-aACHE4TtlB",
        "outputId": "67ee352c-69c3-4290-b9aa-85fc174c17d4"
      },
      "execution_count": 170,
      "outputs": [
        {
          "output_type": "execute_result",
          "data": {
            "text/plain": [
              "0"
            ]
          },
          "metadata": {},
          "execution_count": 170
        }
      ]
    },
    {
      "cell_type": "markdown",
      "source": [
        "Since  optype seems to be important as P value suggests"
      ],
      "metadata": {
        "id": "V_9upKv_hbST"
      }
    },
    {
      "cell_type": "code",
      "execution_count": 171,
      "metadata": {
        "colab": {
          "base_uri": "https://localhost:8080/"
        },
        "id": "5RdCcB9IwodO",
        "outputId": "8828e934-78a4-4ecb-af0c-57fc6e875c83"
      },
      "outputs": [
        {
          "output_type": "execute_result",
          "data": {
            "text/plain": [
              "Early gastric cancer                                   252\n",
              "Colon cancer, sigmoid                                  207\n",
              "Rectal cancer                                          169\n",
              "Lung cancer right                                      166\n",
              "Hepatocellular carcinoma                               154\n",
              "                                                      ... \n",
              "Aspergilloma                                             1\n",
              "Undifferentiated pleomorphic sarcoma of upper limb       1\n",
              "Hepatoblastoma                                           1\n",
              "Keloid scar                                              1\n",
              "Colon submucosal tumor, unknown behavior                 1\n",
              "Name: dx, Length: 1038, dtype: int64"
            ]
          },
          "metadata": {},
          "execution_count": 171
        }
      ],
      "source": [
        "x['dx'].value_counts()"
      ]
    },
    {
      "cell_type": "code",
      "source": [
        "x.groupby('dx')['icu_days'].mean()"
      ],
      "metadata": {
        "colab": {
          "base_uri": "https://localhost:8080/"
        },
        "id": "PW960d6TK8LS",
        "outputId": "e13656a2-719b-4dbd-d5b4-eb70e38e6bb6"
      },
      "execution_count": 172,
      "outputs": [
        {
          "output_type": "execute_result",
          "data": {
            "text/plain": [
              "dx\n",
              "Abdominal compartment syndrome              1.0\n",
              "Abdominal distension                        0.0\n",
              "Abdominal hernia                            0.0\n",
              "Abdominal mass                              0.0\n",
              "Abdominal mass                              0.0\n",
              "                                           ... \n",
              "thymoma                                     1.0\n",
              "thyroid nodule                              0.0\n",
              "thyroid nodule                              0.0\n",
              "varicose vein of lower extremities          0.0\n",
              "varicose vein with non-specific symptoms    0.0\n",
              "Name: icu_days, Length: 1038, dtype: float64"
            ]
          },
          "metadata": {},
          "execution_count": 172
        }
      ]
    },
    {
      "cell_type": "code",
      "source": [
        "x.dx.isnull().sum()"
      ],
      "metadata": {
        "colab": {
          "base_uri": "https://localhost:8080/"
        },
        "id": "Uej5G0kLTy-d",
        "outputId": "695e6d1b-280b-47af-e8ce-03fe4da4b6a4"
      },
      "execution_count": 173,
      "outputs": [
        {
          "output_type": "execute_result",
          "data": {
            "text/plain": [
              "0"
            ]
          },
          "metadata": {},
          "execution_count": 173
        }
      ]
    },
    {
      "cell_type": "markdown",
      "source": [
        "This needs BioBERT feature word embeddings "
      ],
      "metadata": {
        "id": "3m9pDUHZJqar"
      }
    },
    {
      "cell_type": "code",
      "source": [
        "x['opname'].value_counts()"
      ],
      "metadata": {
        "colab": {
          "base_uri": "https://localhost:8080/"
        },
        "id": "0qviu56SJxKw",
        "outputId": "8cb1adb2-3742-4ab7-b8ff-d58d56547170"
      },
      "execution_count": 174,
      "outputs": [
        {
          "output_type": "execute_result",
          "data": {
            "text/plain": [
              "Cholecystectomy                     503\n",
              "Distal gastrectomy                  342\n",
              "Lung lobectomy                      332\n",
              "Breast-conserving surgery           295\n",
              "Anterior resection                  247\n",
              "                                   ... \n",
              "Ovarian cancer staging operation      1\n",
              "Modified radical hysterectomy         1\n",
              "Diverticulectomy                      1\n",
              "Removal of complicated graft          1\n",
              "Thyroidectomy                         1\n",
              "Name: opname, Length: 241, dtype: int64"
            ]
          },
          "metadata": {},
          "execution_count": 174
        }
      ]
    },
    {
      "cell_type": "code",
      "source": [
        "x.opname.isnull().sum()"
      ],
      "metadata": {
        "colab": {
          "base_uri": "https://localhost:8080/"
        },
        "id": "q_36YWJwUEVz",
        "outputId": "e85fc55b-4b31-4b5b-cf8a-3079d80eb5e4"
      },
      "execution_count": 175,
      "outputs": [
        {
          "output_type": "execute_result",
          "data": {
            "text/plain": [
              "0"
            ]
          },
          "metadata": {},
          "execution_count": 175
        }
      ]
    },
    {
      "cell_type": "markdown",
      "source": [
        "Opname needs to be word embedded to convert text to numerical features"
      ],
      "metadata": {
        "id": "woDrQbqTKPQi"
      }
    },
    {
      "cell_type": "code",
      "source": [
        "x['approach'].value_counts()"
      ],
      "metadata": {
        "colab": {
          "base_uri": "https://localhost:8080/"
        },
        "id": "L2euzWw3JxD0",
        "outputId": "d64926e9-515d-4a57-d130-e3cdecd95a2d"
      },
      "execution_count": 176,
      "outputs": [
        {
          "output_type": "execute_result",
          "data": {
            "text/plain": [
              "Open           3365\n",
              "Videoscopic    2754\n",
              "Robotic         269\n",
              "Name: approach, dtype: int64"
            ]
          },
          "metadata": {},
          "execution_count": 176
        }
      ]
    },
    {
      "cell_type": "code",
      "source": [
        "sns.barplot(x='approach',y='icu_days',data=x)"
      ],
      "metadata": {
        "colab": {
          "base_uri": "https://localhost:8080/",
          "height": 296
        },
        "id": "uboNdHrIKuEa",
        "outputId": "8d472f7e-88e6-4224-8fc5-0caf9b9668ce"
      },
      "execution_count": 177,
      "outputs": [
        {
          "output_type": "execute_result",
          "data": {
            "text/plain": [
              "<Axes: xlabel='approach', ylabel='icu_days'>"
            ]
          },
          "metadata": {},
          "execution_count": 177
        },
        {
          "output_type": "display_data",
          "data": {
            "text/plain": [
              "<Figure size 432x288 with 1 Axes>"
            ],
            "image/png": "[encoded data removed]"
          },
          "metadata": {
            "needs_background": "light"
          }
        }
      ]
    },
    {
      "cell_type": "code",
      "source": [
        "X1 = x['approach']\n",
        "Y1 = x['icu_days']\n",
        "grouped_Y = [x.loc[x['approach'] == i, 'icu_days'] for i in X1.unique()]\n",
        "\n",
        "  # Perform an ANOVA test between X and Y\n",
        "F_statistic, p_value = stats.f_oneway(grouped_Y[0],grouped_Y[1],grouped_Y[2])\n",
        "\n",
        "  # Print the results of the hypothesis test\n",
        "print('F-statistic:', F_statistic)\n",
        "print('P-value:', p_value)\n",
        "\n",
        "  # Check if the p-value is less than 0.05\n",
        "if p_value < 0.05:\n",
        "      print('X is a statistically significant predictor of Y')\n",
        "else:\n",
        "      print('X is not a statistically significant predictor of Y')\n"
      ],
      "metadata": {
        "colab": {
          "base_uri": "https://localhost:8080/"
        },
        "id": "nvNm7NIqJw_-",
        "outputId": "56004ec8-1a50-455e-b686-3ecfd9be6470"
      },
      "execution_count": 178,
      "outputs": [
        {
          "output_type": "stream",
          "name": "stdout",
          "text": [
            "F-statistic: 19.9710166441595\n",
            "P-value: 2.257945415534455e-09\n",
            "X is a statistically significant predictor of Y\n"
          ]
        }
      ]
    },
    {
      "cell_type": "code",
      "source": [
        "x.approach.isnull().sum()"
      ],
      "metadata": {
        "colab": {
          "base_uri": "https://localhost:8080/"
        },
        "id": "loKrKg8FUOVG",
        "outputId": "2a9d95bd-e8e3-4d85-b38e-ffbd8b1e767d"
      },
      "execution_count": 179,
      "outputs": [
        {
          "output_type": "execute_result",
          "data": {
            "text/plain": [
              "0"
            ]
          },
          "metadata": {},
          "execution_count": 179
        }
      ]
    },
    {
      "cell_type": "markdown",
      "source": [
        "Approach feature is significant for prediction"
      ],
      "metadata": {
        "id": "IdnN2dGtLXUT"
      }
    },
    {
      "cell_type": "code",
      "execution_count": 180,
      "metadata": {
        "colab": {
          "base_uri": "https://localhost:8080/"
        },
        "id": "0BkdP-X2xJPu",
        "outputId": "77ac81fe-09a9-4418-d396-0288f0bf5332"
      },
      "outputs": [
        {
          "output_type": "execute_result",
          "data": {
            "text/plain": [
              "0    5606\n",
              "1     782\n",
              "Name: emop, dtype: int64"
            ]
          },
          "metadata": {},
          "execution_count": 180
        }
      ],
      "source": [
        "x['emop'].value_counts()"
      ]
    },
    {
      "cell_type": "code",
      "source": [
        "sns.barplot(x='emop',y='icu_days',data=x)"
      ],
      "metadata": {
        "colab": {
          "base_uri": "https://localhost:8080/",
          "height": 297
        },
        "id": "v_JH8QHALkoO",
        "outputId": "7a4d1ef6-82d1-45d8-b6cc-d5cdc5bb74af"
      },
      "execution_count": 181,
      "outputs": [
        {
          "output_type": "execute_result",
          "data": {
            "text/plain": [
              "<Axes: xlabel='emop', ylabel='icu_days'>"
            ]
          },
          "metadata": {},
          "execution_count": 181
        },
        {
          "output_type": "display_data",
          "data": {
            "text/plain": [
              "<Figure size 432x288 with 1 Axes>"
            ],
            "image/png": "[encoded data removed]"
          },
          "metadata": {
            "needs_background": "light"
          }
        }
      ]
    },
    {
      "cell_type": "code",
      "source": [
        "x.emop.isnull().sum()"
      ],
      "metadata": {
        "colab": {
          "base_uri": "https://localhost:8080/"
        },
        "id": "6oJzrRJcUlQ4",
        "outputId": "ad45bab4-3ead-4355-af19-f30f29bdd09d"
      },
      "execution_count": 182,
      "outputs": [
        {
          "output_type": "execute_result",
          "data": {
            "text/plain": [
              "0"
            ]
          },
          "metadata": {},
          "execution_count": 182
        }
      ]
    },
    {
      "cell_type": "markdown",
      "source": [
        "Clearly shows the difference and useful for prediction"
      ],
      "metadata": {
        "id": "_3IniyxzLtb4"
      }
    },
    {
      "cell_type": "code",
      "execution_count": 183,
      "metadata": {
        "colab": {
          "base_uri": "https://localhost:8080/"
        },
        "id": "KvJWeQ2jxvZa",
        "outputId": "34b3627b-7e4b-4448-952c-cf5acb54f965"
      },
      "outputs": [
        {
          "output_type": "execute_result",
          "data": {
            "text/plain": [
              "Supine                     3883\n",
              "Lithotomy                   994\n",
              "Left lateral decubitus      556\n",
              "Right lateral decubitus     493\n",
              "Prone                       148\n",
              "Reverse Trendelenburg        74\n",
              "Trendelenburg                35\n",
              "Sitting                       5\n",
              "Left kidney                   4\n",
              "Right kidney                  2\n",
              "Name: position, dtype: int64"
            ]
          },
          "metadata": {},
          "execution_count": 183
        }
      ],
      "source": [
        "x['position'].value_counts()"
      ]
    },
    {
      "cell_type": "code",
      "source": [
        "x.groupby('position')['icu_days'].mean()"
      ],
      "metadata": {
        "colab": {
          "base_uri": "https://localhost:8080/"
        },
        "id": "jGynxpmNL6ui",
        "outputId": "9635a4f2-810c-4f6b-be2d-618c4294e018"
      },
      "execution_count": 184,
      "outputs": [
        {
          "output_type": "execute_result",
          "data": {
            "text/plain": [
              "position\n",
              "Left kidney                0.000000\n",
              "Left lateral decubitus     0.721223\n",
              "Lithotomy                  0.116700\n",
              "Prone                      0.094595\n",
              "Reverse Trendelenburg      0.297297\n",
              "Right kidney               0.000000\n",
              "Right lateral decubitus    0.833671\n",
              "Sitting                    0.000000\n",
              "Supine                     0.638681\n",
              "Trendelenburg              0.000000\n",
              "Name: icu_days, dtype: float64"
            ]
          },
          "metadata": {},
          "execution_count": 184
        }
      ]
    },
    {
      "cell_type": "code",
      "source": [
        "x.position.isnull().sum()"
      ],
      "metadata": {
        "colab": {
          "base_uri": "https://localhost:8080/"
        },
        "id": "V6Q0Gr0mUrSF",
        "outputId": "7ec41212-b94f-40fb-c89e-fbce3909b70b"
      },
      "execution_count": 185,
      "outputs": [
        {
          "output_type": "execute_result",
          "data": {
            "text/plain": [
              "194"
            ]
          },
          "metadata": {},
          "execution_count": 185
        }
      ]
    },
    {
      "cell_type": "code",
      "source": [
        "x['icu_days'].mean()"
      ],
      "metadata": {
        "colab": {
          "base_uri": "https://localhost:8080/"
        },
        "id": "FGoHVbCgVLaC",
        "outputId": "d5d2f075-22b1-45f3-9e59-21b0fe6569be"
      },
      "execution_count": 186,
      "outputs": [
        {
          "output_type": "execute_result",
          "data": {
            "text/plain": [
              "0.5527551659361303"
            ]
          },
          "metadata": {},
          "execution_count": 186
        }
      ]
    },
    {
      "cell_type": "code",
      "source": [
        "x[\"position\"]=x[\"position\"].fillna(\"Supine\")"
      ],
      "metadata": {
        "id": "j0gCVhRCUu_Q"
      },
      "execution_count": 187,
      "outputs": []
    },
    {
      "cell_type": "markdown",
      "source": [
        "Since the average value of predictor is nearly same"
      ],
      "metadata": {
        "id": "QjDDwlKrVV3b"
      }
    },
    {
      "cell_type": "code",
      "source": [
        "sns.barplot(x='position',y='icu_days',data=x)"
      ],
      "metadata": {
        "colab": {
          "base_uri": "https://localhost:8080/",
          "height": 296
        },
        "id": "v8hD2jeqMwO8",
        "outputId": "3316190e-8f07-4645-a5f7-8d25d0c526ed"
      },
      "execution_count": 188,
      "outputs": [
        {
          "output_type": "execute_result",
          "data": {
            "text/plain": [
              "<Axes: xlabel='position', ylabel='icu_days'>"
            ]
          },
          "metadata": {},
          "execution_count": 188
        },
        {
          "output_type": "display_data",
          "data": {
            "text/plain": [
              "<Figure size 432x288 with 1 Axes>"
            ],
            "image/png": "[encoded data removed]"
          },
          "metadata": {
            "needs_background": "light"
          }
        }
      ]
    },
    {
      "cell_type": "code",
      "source": [
        "X1 = x['position']\n",
        "Y1 = x['icu_days']\n",
        "grouped_Y = [x.loc[x['position'] == i, 'icu_days'] for i in X1.unique()]\n",
        "\n",
        "  # Perform an ANOVA test between X and Y\n",
        "F_statistic, p_value = stats.f_oneway(grouped_Y[0],grouped_Y[1],grouped_Y[2],grouped_Y[3],grouped_Y[4],grouped_Y[5],grouped_Y[6],grouped_Y[7],grouped_Y[8],grouped_Y[9])\n",
        "\n",
        "  # Print the results of the hypothesis test\n",
        "print('F-statistic:', F_statistic)\n",
        "print('P-value:', p_value)\n",
        "\n",
        "  # Check if the p-value is less than 0.05\n",
        "if p_value < 0.05:\n",
        "      print('X is a statistically significant predictor of Y')\n",
        "else:\n",
        "      print('X is not a statistically significant predictor of Y')\n"
      ],
      "metadata": {
        "colab": {
          "base_uri": "https://localhost:8080/"
        },
        "id": "m8MVh_RmOBEq",
        "outputId": "cb9d57b0-2aeb-4f1e-830a-a318aba690ba"
      },
      "execution_count": 189,
      "outputs": [
        {
          "output_type": "stream",
          "name": "stdout",
          "text": [
            "F-statistic: 3.0406713620626062\n",
            "P-value: 0.001236845525913384\n",
            "X is a statistically significant predictor of Y\n"
          ]
        }
      ]
    },
    {
      "cell_type": "markdown",
      "source": [
        "Hypothesis test shows that the variables show difference in mean"
      ],
      "metadata": {
        "id": "V7cnb7gbN4Q-"
      }
    },
    {
      "cell_type": "code",
      "execution_count": 190,
      "metadata": {
        "colab": {
          "base_uri": "https://localhost:8080/"
        },
        "id": "WMM2L6NQx6Jy",
        "outputId": "16a42a76-e3fa-4474-bf39-036fa967cdfe"
      },
      "outputs": [
        {
          "output_type": "execute_result",
          "data": {
            "text/plain": [
              "General            6043\n",
              "Spinal              273\n",
              "Sedationalgesia      72\n",
              "Name: ane_type, dtype: int64"
            ]
          },
          "metadata": {},
          "execution_count": 190
        }
      ],
      "source": [
        "x['ane_type'].value_counts()"
      ]
    },
    {
      "cell_type": "code",
      "source": [
        "x.ane_type.isnull().sum()"
      ],
      "metadata": {
        "colab": {
          "base_uri": "https://localhost:8080/"
        },
        "id": "OeIfHo30WDZ7",
        "outputId": "973e3944-541f-47ac-c432-ff82f4602094"
      },
      "execution_count": 191,
      "outputs": [
        {
          "output_type": "execute_result",
          "data": {
            "text/plain": [
              "0"
            ]
          },
          "metadata": {},
          "execution_count": 191
        }
      ]
    },
    {
      "cell_type": "code",
      "source": [
        "sns.barplot(x='ane_type',y='icu_days',data=x)"
      ],
      "metadata": {
        "colab": {
          "base_uri": "https://localhost:8080/",
          "height": 297
        },
        "id": "me0hboVAWKKW",
        "outputId": "9a74fd30-b1af-4544-f6aa-5b96fe717210"
      },
      "execution_count": 192,
      "outputs": [
        {
          "output_type": "execute_result",
          "data": {
            "text/plain": [
              "<Axes: xlabel='ane_type', ylabel='icu_days'>"
            ]
          },
          "metadata": {},
          "execution_count": 192
        },
        {
          "output_type": "display_data",
          "data": {
            "text/plain": [
              "<Figure size 432x288 with 1 Axes>"
            ],
            "image/png": "[encoded data removed]"
          },
          "metadata": {
            "needs_background": "light"
          }
        }
      ]
    },
    {
      "cell_type": "code",
      "source": [
        "X1 = x['ane_type']\n",
        "Y1 = x['icu_days']\n",
        "grouped_Y = [x.loc[x['ane_type'] == i, 'icu_days'] for i in X1.unique()]\n",
        "\n",
        "  # Perform an ANOVA test between X and Y\n",
        "F_statistic, p_value = stats.f_oneway(grouped_Y[0],grouped_Y[1],grouped_Y[2])\n",
        "\n",
        "  # Print the results of the hypothesis test\n",
        "print('F-statistic:', F_statistic)\n",
        "print('P-value:', p_value)\n",
        "\n",
        "  # Check if the p-value is less than 0.05\n",
        "if p_value < 0.05:\n",
        "      print('X is a statistically significant predictor of Y')\n",
        "else:\n",
        "      print('X is not a statistically significant predictor of Y')\n"
      ],
      "metadata": {
        "colab": {
          "base_uri": "https://localhost:8080/"
        },
        "id": "2OqYVUreWQSj",
        "outputId": "56bf14a4-5c75-498f-9db9-1b7121d67204"
      },
      "execution_count": 193,
      "outputs": [
        {
          "output_type": "stream",
          "name": "stdout",
          "text": [
            "F-statistic: 3.11729671599621\n",
            "P-value: 0.04434409282742668\n",
            "X is a statistically significant predictor of Y\n"
          ]
        }
      ]
    },
    {
      "cell_type": "code",
      "execution_count": 194,
      "metadata": {
        "colab": {
          "base_uri": "https://localhost:8080/"
        },
        "id": "46LPA-25yGMS",
        "outputId": "0205b141-213e-4115-f63e-073b9a483df4"
      },
      "outputs": [
        {
          "output_type": "execute_result",
          "data": {
            "text/plain": [
              "Normal Sinus Rhythm                                                                         6306\n",
              "1st degree A-V block                                                                          12\n",
              "Right bundle branch block                                                                     10\n",
              "Premature ventricular complexes                                                               10\n",
              "Incomplete right bundle branch block                                                           9\n",
              "Atrial fibrillation                                                                            8\n",
              "Premature atrial complexes                                                                     7\n",
              "Left anterior fascicular block                                                                 3\n",
              "Atrial fibrillation with slow ventricular response                                             2\n",
              "Atrial fibrillation with rapid ventricular response                                            2\n",
              "Premature supraventricular complexes                                                           2\n",
              "Atrial fibrillation with premature ventricular or aberrantly conducted complexes               2\n",
              "1st degree A-V block with Premature atrial complexes                                           1\n",
              "Complete right bundle branch block, occasional premature supraventricular complexes            1\n",
              "Right bundle branch block, Left anterior fascicular block                                      1\n",
              "AV sequential or dual chamber electronic pacemaker                                             1\n",
              "Electronic ventricular pacemaker                                                               1\n",
              "Atrial flutter with 2:1 A-V conduction                                                         1\n",
              "Atrial fibrillation with premature ventricular, Incomplete left bundle block                   1\n",
              "1st degree A-V block with Premature supraventricular complexes, Left bundle branch block       1\n",
              "Incomplete right bundle branch block, Left anterior fascicular block                           1\n",
              "Left posterior fascicular block                                                                1\n",
              "Left anterior hemiblock                                                                        1\n",
              "1st degree A-V block, Left bundle branch block                                                 1\n",
              "Premature supraventricular and ventricular complexes, Right bundle branch block                1\n",
              "Atrial fibrillation, Right bundle branch block                                                 1\n",
              "Atrial flutter with variable A-V block                                                         1\n",
              "Name: preop_ecg, dtype: int64"
            ]
          },
          "metadata": {},
          "execution_count": 194
        }
      ],
      "source": [
        "x['preop_ecg'].value_counts()"
      ]
    },
    {
      "cell_type": "markdown",
      "source": [
        "Preop_ecg needs NLP feature word embedding"
      ],
      "metadata": {
        "id": "7GF-JCYgWzLX"
      }
    },
    {
      "cell_type": "code",
      "execution_count": 195,
      "metadata": {
        "colab": {
          "base_uri": "https://localhost:8080/"
        },
        "id": "F4o9ByB-zgn3",
        "outputId": "531a26f8-3bf1-4acb-adbc-5a00a2899114"
      },
      "outputs": [
        {
          "output_type": "execute_result",
          "data": {
            "text/plain": [
              "Normal                       5348\n",
              "Mild obstructive              488\n",
              "Mild restrictive              261\n",
              "Moderate obstructive          114\n",
              "Mixed or pure obstructive     100\n",
              "Severe restrictive             36\n",
              "Moderate restrictive           29\n",
              "Borderline obstructive          8\n",
              "Severe obstructive              4\n",
              "Name: preop_pft, dtype: int64"
            ]
          },
          "metadata": {},
          "execution_count": 195
        }
      ],
      "source": [
        "x['preop_pft'].value_counts()"
      ]
    },
    {
      "cell_type": "code",
      "source": [
        "x.groupby(['preop_pft'])['icu_days'].mean()"
      ],
      "metadata": {
        "colab": {
          "base_uri": "https://localhost:8080/"
        },
        "id": "m57UhBKVYDtP",
        "outputId": "ba212102-a0aa-4574-aa97-8ba271907dd3"
      },
      "execution_count": 196,
      "outputs": [
        {
          "output_type": "execute_result",
          "data": {
            "text/plain": [
              "preop_pft\n",
              "Borderline obstructive       1.125000\n",
              "Mild obstructive             0.311475\n",
              "Mild restrictive             1.455939\n",
              "Mixed or pure obstructive    1.090000\n",
              "Moderate obstructive         0.456140\n",
              "Moderate restrictive         1.620690\n",
              "Normal                       0.504301\n",
              "Severe obstructive           0.750000\n",
              "Severe restrictive           2.277778\n",
              "Name: icu_days, dtype: float64"
            ]
          },
          "metadata": {},
          "execution_count": 196
        }
      ]
    },
    {
      "cell_type": "code",
      "source": [
        "sns.barplot(x='preop_pft',y='icu_days',data=x)"
      ],
      "metadata": {
        "colab": {
          "base_uri": "https://localhost:8080/",
          "height": 297
        },
        "id": "h_Y3jVA1X5lH",
        "outputId": "9b9927d0-a22b-4b77-d301-e4540eee581b"
      },
      "execution_count": 197,
      "outputs": [
        {
          "output_type": "execute_result",
          "data": {
            "text/plain": [
              "<Axes: xlabel='preop_pft', ylabel='icu_days'>"
            ]
          },
          "metadata": {},
          "execution_count": 197
        },
        {
          "output_type": "display_data",
          "data": {
            "text/plain": [
              "<Figure size 432x288 with 1 Axes>"
            ],
            "image/png": "[encoded data removed]"
          },
          "metadata": {
            "needs_background": "light"
          }
        }
      ]
    },
    {
      "cell_type": "code",
      "execution_count": 198,
      "metadata": {
        "id": "5PyzWsYczjXR"
      },
      "outputs": [],
      "source": [
        "_dict = {'Normal': 0, 'Mild obstructive': 1, 'Mild restrictive': 1, 'Borderline obstructive': 2,\n",
        "         'Mixed or pure obstructive':2,'Moderate restrictive':3,\"Moderate obstructive\":3,\"Severe restrictive\":4,\"Severe obstructive\":4}\n",
        "\n",
        "# replace values in the 'color' column based on the dictionary\n",
        "x['preop_pft'] = x['preop_pft'].map(_dict)"
      ]
    },
    {
      "cell_type": "code",
      "source": [
        "x.groupby(['preop_pft'])['icu_days'].mean()"
      ],
      "metadata": {
        "colab": {
          "base_uri": "https://localhost:8080/"
        },
        "id": "Qj-Mm27LZImu",
        "outputId": "87982178-84f8-4ba2-cd98-dd334eea6835"
      },
      "execution_count": 199,
      "outputs": [
        {
          "output_type": "execute_result",
          "data": {
            "text/plain": [
              "preop_pft\n",
              "0    0.504301\n",
              "1    0.710280\n",
              "2    1.092593\n",
              "3    0.692308\n",
              "4    2.125000\n",
              "Name: icu_days, dtype: float64"
            ]
          },
          "metadata": {},
          "execution_count": 199
        }
      ]
    },
    {
      "cell_type": "markdown",
      "source": [
        "Clearly shows "
      ],
      "metadata": {
        "id": "7X0rRhgcZvob"
      }
    },
    {
      "cell_type": "code",
      "execution_count": 200,
      "metadata": {
        "colab": {
          "base_uri": "https://localhost:8080/"
        },
        "id": "Bu1mZtJl9DeR",
        "outputId": "507da203-bebc-4b29-8209-d258cc089904"
      },
      "outputs": [
        {
          "output_type": "execute_result",
          "data": {
            "text/plain": [
              "Oral            5959\n",
              "Nasal              7\n",
              "Tracheostomy       7\n",
              "Name: airway, dtype: int64"
            ]
          },
          "metadata": {},
          "execution_count": 200
        }
      ],
      "source": [
        "x['airway'].value_counts()"
      ]
    },
    {
      "cell_type": "code",
      "execution_count": 201,
      "metadata": {
        "id": "dZT75xpX9aFj"
      },
      "outputs": [],
      "source": [
        "x.drop(['airway'],axis=1,inplace=True)"
      ]
    },
    {
      "cell_type": "markdown",
      "source": [
        "Since airway is very imbalanced, it better to drop"
      ],
      "metadata": {
        "id": "U8_oMblbagn_"
      }
    },
    {
      "cell_type": "code",
      "execution_count": 202,
      "metadata": {
        "colab": {
          "base_uri": "https://localhost:8080/"
        },
        "id": "aiHe2zIh9YCH",
        "outputId": "9608e05b-d9a9-4fb5-d004-a7bcd84b5fa3"
      },
      "outputs": [
        {
          "output_type": "execute_result",
          "data": {
            "text/plain": [
              "Left forearm     4065\n",
              "Right forearm    1787\n",
              "Left hand         188\n",
              "Right hand        143\n",
              "Left foot          34\n",
              "Right etc          26\n",
              "Right foot         20\n",
              "Left etc           18\n",
              "Left leg           15\n",
              "Right leg          12\n",
              "Right               5\n",
              "Name: iv1, dtype: int64"
            ]
          },
          "metadata": {},
          "execution_count": 202
        }
      ],
      "source": [
        "x['iv1'].value_counts()"
      ]
    },
    {
      "cell_type": "code",
      "execution_count": 203,
      "metadata": {
        "id": "vcOWaPGu9hwI"
      },
      "outputs": [],
      "source": [
        "x.drop(['iv1'],axis=1,inplace=True)"
      ]
    },
    {
      "cell_type": "markdown",
      "source": [
        "IV1 shows th IV usage location, It does not add any value to ICU days"
      ],
      "metadata": {
        "id": "ERQgz5uHayyK"
      }
    },
    {
      "cell_type": "code",
      "execution_count": 204,
      "metadata": {
        "id": "NdmGaTt7s_Ri",
        "colab": {
          "base_uri": "https://localhost:8080/"
        },
        "outputId": "82e9fa63-41fd-42c3-d081-c9cc4b3055bb"
      },
      "outputs": [
        {
          "output_type": "execute_result",
          "data": {
            "text/plain": [
              "835"
            ]
          },
          "metadata": {},
          "execution_count": 204
        }
      ],
      "source": [
        "x.cormack.isnull().sum()"
      ]
    },
    {
      "cell_type": "code",
      "execution_count": 205,
      "metadata": {
        "id": "FLooBPtOs_N5",
        "colab": {
          "base_uri": "https://localhost:8080/"
        },
        "outputId": "c4760394-3af7-49ac-9125-8df1bc30dfd5"
      },
      "outputs": [
        {
          "output_type": "execute_result",
          "data": {
            "text/plain": [
              "I       5178\n",
              "II       235\n",
              "IIIa      91\n",
              "IIIb      35\n",
              "IV        14\n",
              "Name: cormack, dtype: int64"
            ]
          },
          "metadata": {},
          "execution_count": 205
        }
      ],
      "source": [
        "x.cormack.value_counts()"
      ]
    },
    {
      "cell_type": "code",
      "execution_count": 206,
      "metadata": {
        "id": "PZm1RfFqs_KG",
        "colab": {
          "base_uri": "https://localhost:8080/",
          "height": 296
        },
        "outputId": "03fb907f-422f-4d44-8ba2-8a77776579ab"
      },
      "outputs": [
        {
          "output_type": "execute_result",
          "data": {
            "text/plain": [
              "<Axes: xlabel='cormack', ylabel='icu_days'>"
            ]
          },
          "metadata": {},
          "execution_count": 206
        },
        {
          "output_type": "display_data",
          "data": {
            "text/plain": [
              "<Figure size 432x288 with 1 Axes>"
            ],
            "image/png": "[encoded data removed]"
          },
          "metadata": {
            "needs_background": "light"
          }
        }
      ],
      "source": [
        "sns.barplot(x='cormack',y='icu_days',data=x)"
      ]
    },
    {
      "cell_type": "code",
      "source": [
        "x['cormack']=x['cormack'].fillna(\"I\")"
      ],
      "metadata": {
        "id": "GYg7fLbngAKY"
      },
      "execution_count": 207,
      "outputs": []
    },
    {
      "cell_type": "code",
      "source": [
        "sns.barplot(x='cormack',y='icu_days',data=x)"
      ],
      "metadata": {
        "colab": {
          "base_uri": "https://localhost:8080/",
          "height": 300
        },
        "id": "4i_W3360gRlC",
        "outputId": "bb4548a3-2364-4155-a627-f6e832d370b4"
      },
      "execution_count": 208,
      "outputs": [
        {
          "output_type": "execute_result",
          "data": {
            "text/plain": [
              "<Axes: xlabel='cormack', ylabel='icu_days'>"
            ]
          },
          "metadata": {},
          "execution_count": 208
        },
        {
          "output_type": "display_data",
          "data": {
            "text/plain": [
              "<Figure size 432x288 with 1 Axes>"
            ],
            "image/png": "[encoded data removed]"
          },
          "metadata": {
            "needs_background": "light"
          }
        }
      ]
    },
    {
      "cell_type": "code",
      "source": [
        "X1 = x['cormack']\n",
        "Y1 = x['icu_days']\n",
        "grouped_Y = [x.loc[x['cormack'] == i, 'icu_days'] for i in X1.unique()]\n",
        "\n",
        "  # Perform an ANOVA test between X and Y\n",
        "F_statistic, p_value = stats.f_oneway(grouped_Y[0],grouped_Y[1],grouped_Y[2],grouped_Y[3],grouped_Y[4])\n",
        "\n",
        "  # Print the results of the hypothesis test\n",
        "print('F-statistic:', F_statistic)\n",
        "print('P-value:', p_value)\n",
        "\n",
        "  # Check if the p-value is less than 0.05\n",
        "if p_value < 0.05:\n",
        "      print('X is a statistically significant predictor of Y')\n",
        "else:\n",
        "      print('X is not a statistically significant predictor of Y')\n"
      ],
      "metadata": {
        "colab": {
          "base_uri": "https://localhost:8080/"
        },
        "id": "vxWenNQMbW0i",
        "outputId": "4f2952d0-56d7-4257-c3f3-31d783f62f51"
      },
      "execution_count": 209,
      "outputs": [
        {
          "output_type": "stream",
          "name": "stdout",
          "text": [
            "F-statistic: 0.5968860694287018\n",
            "P-value: 0.6648924912783045\n",
            "X is not a statistically significant predictor of Y\n"
          ]
        }
      ]
    },
    {
      "cell_type": "code",
      "source": [
        "x.drop(['cormack'],axis=1,inplace=True)"
      ],
      "metadata": {
        "id": "NYyM6LkIgUYD"
      },
      "execution_count": 210,
      "outputs": []
    },
    {
      "cell_type": "code",
      "source": [
        "x.isnull().sum()"
      ],
      "metadata": {
        "colab": {
          "base_uri": "https://localhost:8080/"
        },
        "id": "nLpyeBGyggLN",
        "outputId": "3bc74036-5803-4316-9db8-35af3430641c"
      },
      "execution_count": 211,
      "outputs": [
        {
          "output_type": "execute_result",
          "data": {
            "text/plain": [
              "icu_days                 0\n",
              "age                      0\n",
              "sex                      0\n",
              "height                   0\n",
              "weight                   0\n",
              "bmi                      0\n",
              "asa                      0\n",
              "emop                     0\n",
              "department               0\n",
              "optype                   0\n",
              "dx                       0\n",
              "opname                   0\n",
              "approach                 0\n",
              "position                 0\n",
              "ane_type                 0\n",
              "preop_htn                0\n",
              "preop_dm                 0\n",
              "preop_ecg                0\n",
              "preop_pft                0\n",
              "preop_hb               341\n",
              "preop_plt              341\n",
              "preop_pt               390\n",
              "preop_aptt             402\n",
              "preop_na               623\n",
              "preop_k                621\n",
              "preop_gluc             378\n",
              "preop_alb              372\n",
              "preop_ast              366\n",
              "preop_alt              364\n",
              "preop_bun              365\n",
              "preop_cr               372\n",
              "intraop_rbc              0\n",
              "intraop_ffp              0\n",
              "intraop_crystalloid    408\n",
              "intraop_colloid          0\n",
              "intraop_ppf              0\n",
              "intraop_mdz              0\n",
              "intraop_ftn              0\n",
              "intraop_rocu             0\n",
              "intraop_vecu             0\n",
              "intraop_eph              0\n",
              "intraop_phe              0\n",
              "intraop_epi              0\n",
              "intraop_ca               0\n",
              "recording_time           0\n",
              "anes_time                0\n",
              "oper_time                0\n",
              "dtype: int64"
            ]
          },
          "metadata": {},
          "execution_count": 211
        }
      ]
    },
    {
      "cell_type": "code",
      "source": [
        "x['preop_hb'].describe()          "
      ],
      "metadata": {
        "colab": {
          "base_uri": "https://localhost:8080/"
        },
        "id": "XWiOr7wXggFK",
        "outputId": "84ac07f7-9e4a-4efb-b371-5397fe761547"
      },
      "execution_count": 212,
      "outputs": [
        {
          "output_type": "execute_result",
          "data": {
            "text/plain": [
              "count    6047.00000\n",
              "mean       12.83319\n",
              "std         1.98949\n",
              "min         3.50000\n",
              "25%        11.60000\n",
              "50%        13.00000\n",
              "75%        14.20000\n",
              "max        20.20000\n",
              "Name: preop_hb, dtype: float64"
            ]
          },
          "metadata": {},
          "execution_count": 212
        }
      ]
    },
    {
      "cell_type": "code",
      "source": [
        "col=['preop_hb', 'preop_plt', 'preop_pt', 'preop_aptt', 'preop_na',\n",
        "       'preop_k', 'preop_gluc', 'preop_alb', 'preop_ast', 'preop_alt',\n",
        "       'preop_bun', 'preop_cr', 'intraop_rbc', 'intraop_ffp',\n",
        "       'intraop_crystalloid']\n"
      ],
      "metadata": {
        "id": "i66f2IYDmUJk"
      },
      "execution_count": 213,
      "outputs": []
    },
    {
      "cell_type": "code",
      "source": [
        "for i in col:\n",
        "  print(\"for column \",i )\n",
        "  print((x[i].describe()['mean']-x[i].describe()['50%'])/(x[i].describe()['min']-x[i].describe()['max']))\n"
      ],
      "metadata": {
        "colab": {
          "base_uri": "https://localhost:8080/"
        },
        "id": "WWJ_bC-tmwrT",
        "outputId": "624cdc62-b5cc-46af-d937-d6f2f595936b"
      },
      "execution_count": 214,
      "outputs": [
        {
          "output_type": "stream",
          "name": "stdout",
          "text": [
            "for column  preop_hb\n",
            "0.009988622061318068\n",
            "for column  preop_plt\n",
            "-0.00559316917565947\n",
            "for column  preop_pt\n",
            "0.0037334667111259515\n",
            "for column  preop_aptt\n",
            "-0.0020592078294732457\n",
            "for column  preop_na\n",
            "-0.000676051326528237\n",
            "for column  preop_k\n",
            "0.0006083708299412384\n",
            "for column  preop_gluc\n",
            "-0.026288479699461395\n",
            "for column  preop_alb\n",
            "0.02898299569941157\n",
            "for column  preop_ast\n",
            "-0.002479279854780213\n",
            "for column  preop_alt\n",
            "-0.004685520006488043\n",
            "for column  preop_bun\n",
            "-0.017426478070621757\n",
            "for column  preop_cr\n",
            "-0.011791440172080305\n",
            "for column  intraop_rbc\n",
            "-0.0005880165936130244\n",
            "for column  intraop_ffp\n",
            "-0.0024776022349597806\n",
            "for column  intraop_crystalloid\n",
            "-0.015148750671568534\n"
          ]
        }
      ]
    },
    {
      "cell_type": "code",
      "source": [
        "for i in col:\n",
        "  x[i]=x[i].fillna(x[i].mean())"
      ],
      "metadata": {
        "id": "KGQNADEWmH1-"
      },
      "execution_count": 215,
      "outputs": []
    },
    {
      "cell_type": "markdown",
      "source": [
        "The mean and median are nearly same therefore it is better to use mean as consideraton to fill na values"
      ],
      "metadata": {
        "id": "9HiST9dcl-jw"
      }
    },
    {
      "cell_type": "code",
      "source": [
        "x = x.loc[x[\"icu_days\"] <= 150 ]"
      ],
      "metadata": {
        "id": "ofdknh73ggAi"
      },
      "execution_count": 216,
      "outputs": []
    },
    {
      "cell_type": "markdown",
      "source": [
        "NLP Processing and dropping the columns"
      ],
      "metadata": {
        "id": "pnWFse7LoWql"
      }
    },
    {
      "cell_type": "code",
      "source": [
        "x['nlp']=x['dx']+\" \"+ x['opname']+\" \"+x['preop_ecg']"
      ],
      "metadata": {
        "colab": {
          "base_uri": "https://localhost:8080/"
        },
        "id": "oX_k1kg7zI1e",
        "outputId": "f78091e5-d3c1-4d1f-90e9-1a3e65fc8a75"
      },
      "execution_count": 220,
      "outputs": [
        {
          "output_type": "stream",
          "name": "stderr",
          "text": [
            "<ipython-input-220-b55bd3b4b2cc>:1: SettingWithCopyWarning: \n",
            "A value is trying to be set on a copy of a slice from a DataFrame.\n",
            "Try using .loc[row_indexer,col_indexer] = value instead\n",
            "\n",
            "See the caveats in the documentation: https://pandas.pydata.org/pandas-docs/stable/user_guide/indexing.html#returning-a-view-versus-a-copy\n",
            "  x['nlp']=x['dx']+\" \"+ x['opname']+\" \"+x['preop_ecg']\n"
          ]
        }
      ]
    },
    {
      "cell_type": "code",
      "source": [
        "x.drop(['dx','opname','preop_ecg'],axis=1,inplace=True)"
      ],
      "metadata": {
        "colab": {
          "base_uri": "https://localhost:8080/"
        },
        "id": "j671kVArzQ8S",
        "outputId": "075ec66f-37e6-477d-a9a4-70e5a8cbb205"
      },
      "execution_count": 221,
      "outputs": [
        {
          "output_type": "stream",
          "name": "stderr",
          "text": [
            "<ipython-input-221-48c1e36d9e02>:1: SettingWithCopyWarning: \n",
            "A value is trying to be set on a copy of a slice from a DataFrame\n",
            "\n",
            "See the caveats in the documentation: https://pandas.pydata.org/pandas-docs/stable/user_guide/indexing.html#returning-a-view-versus-a-copy\n",
            "  x.drop(['dx','opname','preop_ecg'],axis=1,inplace=True)\n"
          ]
        }
      ]
    },
    {
      "cell_type": "markdown",
      "source": [
        "Stop word removal and text preprocessing"
      ],
      "metadata": {
        "id": "KDmjAnoy6OTL"
      }
    },
    {
      "cell_type": "code",
      "source": [
        "import nltk\n",
        "nltk.download('stopwords')\n",
        "from nltk.corpus import stopwords\n",
        "stop = stopwords.words('english')\n",
        "x['nlp'] = x['nlp'].apply(lambda y: ' '.join([word for word in y.split() if word not in (stop)]))\n",
        "x['nlp']=x['nlp'].str.lower()"
      ],
      "metadata": {
        "colab": {
          "base_uri": "https://localhost:8080/"
        },
        "id": "k1NwQ5_r0FCV",
        "outputId": "2aaf55d9-58e8-442d-c617-5814dbefcbb6"
      },
      "execution_count": 222,
      "outputs": [
        {
          "output_type": "stream",
          "name": "stderr",
          "text": [
            "[nltk_data] Downloading package stopwords to /root/nltk_data...\n",
            "[nltk_data]   Unzipping corpora/stopwords.zip.\n",
            "<ipython-input-222-f9a2278acf6d>:5: SettingWithCopyWarning: \n",
            "A value is trying to be set on a copy of a slice from a DataFrame.\n",
            "Try using .loc[row_indexer,col_indexer] = value instead\n",
            "\n",
            "See the caveats in the documentation: https://pandas.pydata.org/pandas-docs/stable/user_guide/indexing.html#returning-a-view-versus-a-copy\n",
            "  x['nlp'] = x['nlp'].apply(lambda y: ' '.join([word for word in y.split() if word not in (stop)]))\n",
            "<ipython-input-222-f9a2278acf6d>:6: SettingWithCopyWarning: \n",
            "A value is trying to be set on a copy of a slice from a DataFrame.\n",
            "Try using .loc[row_indexer,col_indexer] = value instead\n",
            "\n",
            "See the caveats in the documentation: https://pandas.pydata.org/pandas-docs/stable/user_guide/indexing.html#returning-a-view-versus-a-copy\n",
            "  x['nlp']=x['nlp'].str.lower()\n"
          ]
        }
      ]
    },
    {
      "cell_type": "markdown",
      "source": [
        "Finding categorical and continous columns"
      ],
      "metadata": {
        "id": "TI6CQuFO6T6o"
      }
    },
    {
      "cell_type": "code",
      "source": [
        "import numpy\n",
        "categorical=[]\n",
        "cont=[]\n",
        "for i,j in zip(x.dtypes.index,x.dtypes):\n",
        "  if(j==numpy.dtype('O')):\n",
        "    categorical.append(i)\n",
        "  else:\n",
        "    cont.append(i)\n",
        "categorical"
      ],
      "metadata": {
        "colab": {
          "base_uri": "https://localhost:8080/"
        },
        "id": "Rx8kEujU1mLq",
        "outputId": "a1d5a134-8395-4487-ba75-ef31e943bca2"
      },
      "execution_count": 223,
      "outputs": [
        {
          "output_type": "execute_result",
          "data": {
            "text/plain": [
              "['sex', 'department', 'optype', 'approach', 'position', 'ane_type', 'nlp']"
            ]
          },
          "metadata": {},
          "execution_count": 223
        }
      ]
    },
    {
      "cell_type": "markdown",
      "source": [
        "Using BioBERT model for understanding the medical terms and feature extraction"
      ],
      "metadata": {
        "id": "WzhgmdgH6ZLg"
      }
    },
    {
      "cell_type": "code",
      "source": [
        "import torch\n",
        "from tqdm import tqdm\n",
        "from transformers import AutoTokenizer, AutoModel\n",
        "temp=np.unique(x['nlp'])\n",
        "opname_dict={}\n",
        "\n",
        "# Load the pre-trained BioBERT model and tokenizer\n",
        "tokenizer = AutoTokenizer.from_pretrained(\"dmis-lab/biobert-v1.1\")\n",
        "model = AutoModel.from_pretrained(\"dmis-lab/biobert-v1.1\")\n",
        "for document in tqdm(temp):\n",
        "  document_tokens = tokenizer(document, return_tensors=\"pt\")\n",
        "\n",
        "  # Pass the tokenized data through the BioBERT model\n",
        "  with torch.no_grad():\n",
        "      model_output = model(**document_tokens)\n",
        "\n",
        "  # Get the final hidden states of the BioBERT model as the document embeddings\n",
        "  opname_dict[document]=model_output.last_hidden_state.mean(dim=1).tolist()[0]\n"
      ],
      "metadata": {
        "colab": {
          "base_uri": "https://localhost:8080/",
          "height": 194,
          "referenced_widgets": [
            "df8f08e5edcf42fd84cb9973b6aa1040",
            "0bb1b8ae13384a5f91567422a9b3d688",
            "3e386bf6485f4466be89a8572ff48897",
            "c87ad90cc28e43ae82fa8c4c49e1ff10",
            "c80890bff73342aab16f15ce762a6de3",
            "7070210e2d1a4fa2a0d957452eb8f9b7",
            "05a02d78e5394b32929a47175fd04834",
            "75d3940931eb4968a1005c1dee87f65b",
            "d666ff7f11844e53b75156cd54db50f4",
            "9d27d811628a4ceba6cc69ec3adeca09",
            "59ec07cb192447628f19e7cc7c5de77b",
            "a6695f2c0567489ba8c91ba18aaa3e31",
            "6d07cf16015e4c7b961f84694e2691bc",
            "d1228efb449445c3a92e1800c726c92f",
            "f5d8886fc8c448aba2f66d39ccf2dc7f",
            "e4e87a4b488e4ea5946d1b84cd094f87",
            "135eb1c171484757bca86d1403f7c2ec",
            "d3f14eaf350a4f93bb20fe53b9762fea",
            "6f248be77bc74e21a80ea13a38cb49f8",
            "86acd8178b87495ca170d43af99dc0f1",
            "4ed0328f250c4be68e5250323380c7a6",
            "1d2e0e7d742c49c6a55df20bb1edca7b",
            "dd059138b7834da88c6e11a16a355d5f",
            "6bd9acdf1f244d529e0fc1c636221c07",
            "96364942470d47fd9e0888863d9a0158",
            "64dbab70952949fe92f170e858b922f6",
            "ed4bf6342f0f4e09b1997b8d5e076a18",
            "23171660824e4b658dc9f43c83e50f77",
            "7840101e8565434da110a234bc10906e",
            "6b8eaf918f874a1e8d3a0732dc41b65a",
            "441bb2e6ec4d4704b1f82ed0e10ff260",
            "28431e0291e9471aa31e0e57b7c2d9d9",
            "05c33a9058e74c7cb549ba4b4a4a6121",
            "95859df5844c42e9941a461b90dc5215",
            "f8b3ef02411b4c46a59ee8df3d246689",
            "793ec6723586431cb2dde460e4c3ebbe",
            "eecbc9ec40ae4cb289313bab3d53cafb",
            "736b188462b24dd3b8107720631c8a0b",
            "925581487d7349bfb3632d425ca89e82",
            "124d4068d9b747d2b987014b89c704a3",
            "391cc23a9266416da4d9a117f0a5cdae",
            "0620419b316a45a899194f5bdce9e213",
            "47a33432536e4857af16d46aa351a06b",
            "8b7e0d5157e54c7b843bc06b601a777a",
            "3b2358b97cd4441cbed36c50d5222c9b",
            "42fea861765b41f7b15eeac1d475722f",
            "727ce6b94d1f4f1485ea5987de3e9f5e",
            "0a8dadef3def465899e3e197a32856ac",
            "754ea4e765d1424bb3f0e671cd36229c",
            "36b8f0f5a00840d7879cfd2ae01005b0",
            "8da7b4f7d2bf432ebbb61d0354a29126",
            "684cc1ee526747718021910aedff1394",
            "f4910e2335f04be485571d36892e7479",
            "0255d308dfc9467baefe64396ce1241a",
            "6f7b4149a1524647b30a9edd11fd9460"
          ]
        },
        "id": "ALCF7pziH2Ln",
        "outputId": "3ee5e981-837a-42d7-af9a-49c3ff736c79"
      },
      "execution_count": 226,
      "outputs": [
        {
          "output_type": "display_data",
          "data": {
            "text/plain": [
              "Downloading (…)okenizer_config.json:   0%|          | 0.00/49.0 [00:00<?, ?B/s]"
            ],
            "application/vnd.jupyter.widget-view+json": {
              "version_major": 2,
              "version_minor": 0,
              "model_id": "df8f08e5edcf42fd84cb9973b6aa1040"
            }
          },
          "metadata": {}
        },
        {
          "output_type": "display_data",
          "data": {
            "text/plain": [
              "Downloading (…)lve/main/config.json:   0%|          | 0.00/462 [00:00<?, ?B/s]"
            ],
            "application/vnd.jupyter.widget-view+json": {
              "version_major": 2,
              "version_minor": 0,
              "model_id": "a6695f2c0567489ba8c91ba18aaa3e31"
            }
          },
          "metadata": {}
        },
        {
          "output_type": "display_data",
          "data": {
            "text/plain": [
              "Downloading (…)solve/main/vocab.txt:   0%|          | 0.00/213k [00:00<?, ?B/s]"
            ],
            "application/vnd.jupyter.widget-view+json": {
              "version_major": 2,
              "version_minor": 0,
              "model_id": "dd059138b7834da88c6e11a16a355d5f"
            }
          },
          "metadata": {}
        },
        {
          "output_type": "display_data",
          "data": {
            "text/plain": [
              "Downloading (…)cial_tokens_map.json:   0%|          | 0.00/112 [00:00<?, ?B/s]"
            ],
            "application/vnd.jupyter.widget-view+json": {
              "version_major": 2,
              "version_minor": 0,
              "model_id": "95859df5844c42e9941a461b90dc5215"
            }
          },
          "metadata": {}
        },
        {
          "output_type": "display_data",
          "data": {
            "text/plain": [
              "Downloading pytorch_model.bin:   0%|          | 0.00/433M [00:00<?, ?B/s]"
            ],
            "application/vnd.jupyter.widget-view+json": {
              "version_major": 2,
              "version_minor": 0,
              "model_id": "3b2358b97cd4441cbed36c50d5222c9b"
            }
          },
          "metadata": {}
        },
        {
          "output_type": "stream",
          "name": "stderr",
          "text": [
            "100%|██████████| 1670/1670 [03:49<00:00,  7.28it/s]\n"
          ]
        }
      ]
    },
    {
      "cell_type": "code",
      "source": [
        "x['nlp'] = x['nlp'].map(opname_dict)"
      ],
      "metadata": {
        "colab": {
          "base_uri": "https://localhost:8080/"
        },
        "id": "0E4V1fwbH2Rg",
        "outputId": "1388cf94-3af4-471d-d2c1-7cbb1240d5ed"
      },
      "execution_count": 227,
      "outputs": [
        {
          "output_type": "stream",
          "name": "stderr",
          "text": [
            "<ipython-input-227-37af09a611ec>:1: SettingWithCopyWarning: \n",
            "A value is trying to be set on a copy of a slice from a DataFrame.\n",
            "Try using .loc[row_indexer,col_indexer] = value instead\n",
            "\n",
            "See the caveats in the documentation: https://pandas.pydata.org/pandas-docs/stable/user_guide/indexing.html#returning-a-view-versus-a-copy\n",
            "  x['nlp'] = x['nlp'].map(opname_dict)\n"
          ]
        }
      ]
    },
    {
      "cell_type": "markdown",
      "source": [
        "Feature extraction and PCA to reduce the size"
      ],
      "metadata": {
        "id": "pFFTw-Pb6kzQ"
      }
    },
    {
      "cell_type": "code",
      "source": [
        "from sklearn.decomposition import PCA\n",
        "ar=np.array(x['nlp'].tolist())"
      ],
      "metadata": {
        "id": "YsWpAf_aQ4tb"
      },
      "execution_count": 229,
      "outputs": []
    },
    {
      "cell_type": "code",
      "source": [
        "pca = PCA(0.9)"
      ],
      "metadata": {
        "id": "ytVWAAmLQ4Rn"
      },
      "execution_count": 230,
      "outputs": []
    },
    {
      "cell_type": "code",
      "source": [
        "temp=pca.fit_transform(ar)"
      ],
      "metadata": {
        "id": "YgFy6nPqRhgZ"
      },
      "execution_count": 231,
      "outputs": []
    },
    {
      "cell_type": "code",
      "source": [
        "temp.shape"
      ],
      "metadata": {
        "colab": {
          "base_uri": "https://localhost:8080/"
        },
        "id": "gJweNTw5Uhf4",
        "outputId": "6bd6c1c9-8aac-42dc-8c50-1dcc016c37f7"
      },
      "execution_count": 232,
      "outputs": [
        {
          "output_type": "execute_result",
          "data": {
            "text/plain": [
              "(6387, 54)"
            ]
          },
          "metadata": {},
          "execution_count": 232
        }
      ]
    },
    {
      "cell_type": "markdown",
      "source": [
        "SToring the PCA components as feature back in dataframe"
      ],
      "metadata": {
        "id": "8h9dbKQD6pZi"
      }
    },
    {
      "cell_type": "code",
      "source": [
        "c=[]\n",
        "for i in range(54):\n",
        "  c.append(\"I\"+str(i))\n",
        "\n"
      ],
      "metadata": {
        "id": "IRJMIUsKUlHN"
      },
      "execution_count": 233,
      "outputs": []
    },
    {
      "cell_type": "code",
      "source": [
        "x[c]=temp"
      ],
      "metadata": {
        "colab": {
          "base_uri": "https://localhost:8080/"
        },
        "id": "hXpM-XS-SH9Y",
        "outputId": "7b68401f-f835-48a9-8e38-b0ac12acf32d"
      },
      "execution_count": 234,
      "outputs": [
        {
          "output_type": "stream",
          "name": "stderr",
          "text": [
            "<ipython-input-234-75759d0f9db3>:1: SettingWithCopyWarning: \n",
            "A value is trying to be set on a copy of a slice from a DataFrame.\n",
            "Try using .loc[row_indexer,col_indexer] = value instead\n",
            "\n",
            "See the caveats in the documentation: https://pandas.pydata.org/pandas-docs/stable/user_guide/indexing.html#returning-a-view-versus-a-copy\n",
            "  x[c]=temp\n",
            "<ipython-input-234-75759d0f9db3>:1: SettingWithCopyWarning: \n",
            "A value is trying to be set on a copy of a slice from a DataFrame.\n",
            "Try using .loc[row_indexer,col_indexer] = value instead\n",
            "\n",
            "See the caveats in the documentation: https://pandas.pydata.org/pandas-docs/stable/user_guide/indexing.html#returning-a-view-versus-a-copy\n",
            "  x[c]=temp\n",
            "<ipython-input-234-75759d0f9db3>:1: SettingWithCopyWarning: \n",
            "A value is trying to be set on a copy of a slice from a DataFrame.\n",
            "Try using .loc[row_indexer,col_indexer] = value instead\n",
            "\n",
            "See the caveats in the documentation: https://pandas.pydata.org/pandas-docs/stable/user_guide/indexing.html#returning-a-view-versus-a-copy\n",
            "  x[c]=temp\n",
            "<ipython-input-234-75759d0f9db3>:1: SettingWithCopyWarning: \n",
            "A value is trying to be set on a copy of a slice from a DataFrame.\n",
            "Try using .loc[row_indexer,col_indexer] = value instead\n",
            "\n",
            "See the caveats in the documentation: https://pandas.pydata.org/pandas-docs/stable/user_guide/indexing.html#returning-a-view-versus-a-copy\n",
            "  x[c]=temp\n",
            "<ipython-input-234-75759d0f9db3>:1: SettingWithCopyWarning: \n",
            "A value is trying to be set on a copy of a slice from a DataFrame.\n",
            "Try using .loc[row_indexer,col_indexer] = value instead\n",
            "\n",
            "See the caveats in the documentation: https://pandas.pydata.org/pandas-docs/stable/user_guide/indexing.html#returning-a-view-versus-a-copy\n",
            "  x[c]=temp\n",
            "<ipython-input-234-75759d0f9db3>:1: SettingWithCopyWarning: \n",
            "A value is trying to be set on a copy of a slice from a DataFrame.\n",
            "Try using .loc[row_indexer,col_indexer] = value instead\n",
            "\n",
            "See the caveats in the documentation: https://pandas.pydata.org/pandas-docs/stable/user_guide/indexing.html#returning-a-view-versus-a-copy\n",
            "  x[c]=temp\n",
            "<ipython-input-234-75759d0f9db3>:1: SettingWithCopyWarning: \n",
            "A value is trying to be set on a copy of a slice from a DataFrame.\n",
            "Try using .loc[row_indexer,col_indexer] = value instead\n",
            "\n",
            "See the caveats in the documentation: https://pandas.pydata.org/pandas-docs/stable/user_guide/indexing.html#returning-a-view-versus-a-copy\n",
            "  x[c]=temp\n",
            "<ipython-input-234-75759d0f9db3>:1: SettingWithCopyWarning: \n",
            "A value is trying to be set on a copy of a slice from a DataFrame.\n",
            "Try using .loc[row_indexer,col_indexer] = value instead\n",
            "\n",
            "See the caveats in the documentation: https://pandas.pydata.org/pandas-docs/stable/user_guide/indexing.html#returning-a-view-versus-a-copy\n",
            "  x[c]=temp\n",
            "<ipython-input-234-75759d0f9db3>:1: SettingWithCopyWarning: \n",
            "A value is trying to be set on a copy of a slice from a DataFrame.\n",
            "Try using .loc[row_indexer,col_indexer] = value instead\n",
            "\n",
            "See the caveats in the documentation: https://pandas.pydata.org/pandas-docs/stable/user_guide/indexing.html#returning-a-view-versus-a-copy\n",
            "  x[c]=temp\n",
            "<ipython-input-234-75759d0f9db3>:1: SettingWithCopyWarning: \n",
            "A value is trying to be set on a copy of a slice from a DataFrame.\n",
            "Try using .loc[row_indexer,col_indexer] = value instead\n",
            "\n",
            "See the caveats in the documentation: https://pandas.pydata.org/pandas-docs/stable/user_guide/indexing.html#returning-a-view-versus-a-copy\n",
            "  x[c]=temp\n",
            "<ipython-input-234-75759d0f9db3>:1: SettingWithCopyWarning: \n",
            "A value is trying to be set on a copy of a slice from a DataFrame.\n",
            "Try using .loc[row_indexer,col_indexer] = value instead\n",
            "\n",
            "See the caveats in the documentation: https://pandas.pydata.org/pandas-docs/stable/user_guide/indexing.html#returning-a-view-versus-a-copy\n",
            "  x[c]=temp\n",
            "<ipython-input-234-75759d0f9db3>:1: SettingWithCopyWarning: \n",
            "A value is trying to be set on a copy of a slice from a DataFrame.\n",
            "Try using .loc[row_indexer,col_indexer] = value instead\n",
            "\n",
            "See the caveats in the documentation: https://pandas.pydata.org/pandas-docs/stable/user_guide/indexing.html#returning-a-view-versus-a-copy\n",
            "  x[c]=temp\n",
            "<ipython-input-234-75759d0f9db3>:1: SettingWithCopyWarning: \n",
            "A value is trying to be set on a copy of a slice from a DataFrame.\n",
            "Try using .loc[row_indexer,col_indexer] = value instead\n",
            "\n",
            "See the caveats in the documentation: https://pandas.pydata.org/pandas-docs/stable/user_guide/indexing.html#returning-a-view-versus-a-copy\n",
            "  x[c]=temp\n",
            "<ipython-input-234-75759d0f9db3>:1: SettingWithCopyWarning: \n",
            "A value is trying to be set on a copy of a slice from a DataFrame.\n",
            "Try using .loc[row_indexer,col_indexer] = value instead\n",
            "\n",
            "See the caveats in the documentation: https://pandas.pydata.org/pandas-docs/stable/user_guide/indexing.html#returning-a-view-versus-a-copy\n",
            "  x[c]=temp\n",
            "<ipython-input-234-75759d0f9db3>:1: SettingWithCopyWarning: \n",
            "A value is trying to be set on a copy of a slice from a DataFrame.\n",
            "Try using .loc[row_indexer,col_indexer] = value instead\n",
            "\n",
            "See the caveats in the documentation: https://pandas.pydata.org/pandas-docs/stable/user_guide/indexing.html#returning-a-view-versus-a-copy\n",
            "  x[c]=temp\n",
            "<ipython-input-234-75759d0f9db3>:1: SettingWithCopyWarning: \n",
            "A value is trying to be set on a copy of a slice from a DataFrame.\n",
            "Try using .loc[row_indexer,col_indexer] = value instead\n",
            "\n",
            "See the caveats in the documentation: https://pandas.pydata.org/pandas-docs/stable/user_guide/indexing.html#returning-a-view-versus-a-copy\n",
            "  x[c]=temp\n",
            "<ipython-input-234-75759d0f9db3>:1: SettingWithCopyWarning: \n",
            "A value is trying to be set on a copy of a slice from a DataFrame.\n",
            "Try using .loc[row_indexer,col_indexer] = value instead\n",
            "\n",
            "See the caveats in the documentation: https://pandas.pydata.org/pandas-docs/stable/user_guide/indexing.html#returning-a-view-versus-a-copy\n",
            "  x[c]=temp\n",
            "<ipython-input-234-75759d0f9db3>:1: SettingWithCopyWarning: \n",
            "A value is trying to be set on a copy of a slice from a DataFrame.\n",
            "Try using .loc[row_indexer,col_indexer] = value instead\n",
            "\n",
            "See the caveats in the documentation: https://pandas.pydata.org/pandas-docs/stable/user_guide/indexing.html#returning-a-view-versus-a-copy\n",
            "  x[c]=temp\n",
            "<ipython-input-234-75759d0f9db3>:1: SettingWithCopyWarning: \n",
            "A value is trying to be set on a copy of a slice from a DataFrame.\n",
            "Try using .loc[row_indexer,col_indexer] = value instead\n",
            "\n",
            "See the caveats in the documentation: https://pandas.pydata.org/pandas-docs/stable/user_guide/indexing.html#returning-a-view-versus-a-copy\n",
            "  x[c]=temp\n",
            "<ipython-input-234-75759d0f9db3>:1: SettingWithCopyWarning: \n",
            "A value is trying to be set on a copy of a slice from a DataFrame.\n",
            "Try using .loc[row_indexer,col_indexer] = value instead\n",
            "\n",
            "See the caveats in the documentation: https://pandas.pydata.org/pandas-docs/stable/user_guide/indexing.html#returning-a-view-versus-a-copy\n",
            "  x[c]=temp\n",
            "<ipython-input-234-75759d0f9db3>:1: SettingWithCopyWarning: \n",
            "A value is trying to be set on a copy of a slice from a DataFrame.\n",
            "Try using .loc[row_indexer,col_indexer] = value instead\n",
            "\n",
            "See the caveats in the documentation: https://pandas.pydata.org/pandas-docs/stable/user_guide/indexing.html#returning-a-view-versus-a-copy\n",
            "  x[c]=temp\n",
            "<ipython-input-234-75759d0f9db3>:1: SettingWithCopyWarning: \n",
            "A value is trying to be set on a copy of a slice from a DataFrame.\n",
            "Try using .loc[row_indexer,col_indexer] = value instead\n",
            "\n",
            "See the caveats in the documentation: https://pandas.pydata.org/pandas-docs/stable/user_guide/indexing.html#returning-a-view-versus-a-copy\n",
            "  x[c]=temp\n",
            "<ipython-input-234-75759d0f9db3>:1: SettingWithCopyWarning: \n",
            "A value is trying to be set on a copy of a slice from a DataFrame.\n",
            "Try using .loc[row_indexer,col_indexer] = value instead\n",
            "\n",
            "See the caveats in the documentation: https://pandas.pydata.org/pandas-docs/stable/user_guide/indexing.html#returning-a-view-versus-a-copy\n",
            "  x[c]=temp\n",
            "<ipython-input-234-75759d0f9db3>:1: SettingWithCopyWarning: \n",
            "A value is trying to be set on a copy of a slice from a DataFrame.\n",
            "Try using .loc[row_indexer,col_indexer] = value instead\n",
            "\n",
            "See the caveats in the documentation: https://pandas.pydata.org/pandas-docs/stable/user_guide/indexing.html#returning-a-view-versus-a-copy\n",
            "  x[c]=temp\n",
            "<ipython-input-234-75759d0f9db3>:1: SettingWithCopyWarning: \n",
            "A value is trying to be set on a copy of a slice from a DataFrame.\n",
            "Try using .loc[row_indexer,col_indexer] = value instead\n",
            "\n",
            "See the caveats in the documentation: https://pandas.pydata.org/pandas-docs/stable/user_guide/indexing.html#returning-a-view-versus-a-copy\n",
            "  x[c]=temp\n",
            "<ipython-input-234-75759d0f9db3>:1: SettingWithCopyWarning: \n",
            "A value is trying to be set on a copy of a slice from a DataFrame.\n",
            "Try using .loc[row_indexer,col_indexer] = value instead\n",
            "\n",
            "See the caveats in the documentation: https://pandas.pydata.org/pandas-docs/stable/user_guide/indexing.html#returning-a-view-versus-a-copy\n",
            "  x[c]=temp\n",
            "<ipython-input-234-75759d0f9db3>:1: SettingWithCopyWarning: \n",
            "A value is trying to be set on a copy of a slice from a DataFrame.\n",
            "Try using .loc[row_indexer,col_indexer] = value instead\n",
            "\n",
            "See the caveats in the documentation: https://pandas.pydata.org/pandas-docs/stable/user_guide/indexing.html#returning-a-view-versus-a-copy\n",
            "  x[c]=temp\n",
            "<ipython-input-234-75759d0f9db3>:1: SettingWithCopyWarning: \n",
            "A value is trying to be set on a copy of a slice from a DataFrame.\n",
            "Try using .loc[row_indexer,col_indexer] = value instead\n",
            "\n",
            "See the caveats in the documentation: https://pandas.pydata.org/pandas-docs/stable/user_guide/indexing.html#returning-a-view-versus-a-copy\n",
            "  x[c]=temp\n",
            "<ipython-input-234-75759d0f9db3>:1: SettingWithCopyWarning: \n",
            "A value is trying to be set on a copy of a slice from a DataFrame.\n",
            "Try using .loc[row_indexer,col_indexer] = value instead\n",
            "\n",
            "See the caveats in the documentation: https://pandas.pydata.org/pandas-docs/stable/user_guide/indexing.html#returning-a-view-versus-a-copy\n",
            "  x[c]=temp\n",
            "<ipython-input-234-75759d0f9db3>:1: SettingWithCopyWarning: \n",
            "A value is trying to be set on a copy of a slice from a DataFrame.\n",
            "Try using .loc[row_indexer,col_indexer] = value instead\n",
            "\n",
            "See the caveats in the documentation: https://pandas.pydata.org/pandas-docs/stable/user_guide/indexing.html#returning-a-view-versus-a-copy\n",
            "  x[c]=temp\n",
            "<ipython-input-234-75759d0f9db3>:1: SettingWithCopyWarning: \n",
            "A value is trying to be set on a copy of a slice from a DataFrame.\n",
            "Try using .loc[row_indexer,col_indexer] = value instead\n",
            "\n",
            "See the caveats in the documentation: https://pandas.pydata.org/pandas-docs/stable/user_guide/indexing.html#returning-a-view-versus-a-copy\n",
            "  x[c]=temp\n",
            "<ipython-input-234-75759d0f9db3>:1: SettingWithCopyWarning: \n",
            "A value is trying to be set on a copy of a slice from a DataFrame.\n",
            "Try using .loc[row_indexer,col_indexer] = value instead\n",
            "\n",
            "See the caveats in the documentation: https://pandas.pydata.org/pandas-docs/stable/user_guide/indexing.html#returning-a-view-versus-a-copy\n",
            "  x[c]=temp\n",
            "<ipython-input-234-75759d0f9db3>:1: SettingWithCopyWarning: \n",
            "A value is trying to be set on a copy of a slice from a DataFrame.\n",
            "Try using .loc[row_indexer,col_indexer] = value instead\n",
            "\n",
            "See the caveats in the documentation: https://pandas.pydata.org/pandas-docs/stable/user_guide/indexing.html#returning-a-view-versus-a-copy\n",
            "  x[c]=temp\n",
            "<ipython-input-234-75759d0f9db3>:1: SettingWithCopyWarning: \n",
            "A value is trying to be set on a copy of a slice from a DataFrame.\n",
            "Try using .loc[row_indexer,col_indexer] = value instead\n",
            "\n",
            "See the caveats in the documentation: https://pandas.pydata.org/pandas-docs/stable/user_guide/indexing.html#returning-a-view-versus-a-copy\n",
            "  x[c]=temp\n",
            "<ipython-input-234-75759d0f9db3>:1: SettingWithCopyWarning: \n",
            "A value is trying to be set on a copy of a slice from a DataFrame.\n",
            "Try using .loc[row_indexer,col_indexer] = value instead\n",
            "\n",
            "See the caveats in the documentation: https://pandas.pydata.org/pandas-docs/stable/user_guide/indexing.html#returning-a-view-versus-a-copy\n",
            "  x[c]=temp\n",
            "<ipython-input-234-75759d0f9db3>:1: SettingWithCopyWarning: \n",
            "A value is trying to be set on a copy of a slice from a DataFrame.\n",
            "Try using .loc[row_indexer,col_indexer] = value instead\n",
            "\n",
            "See the caveats in the documentation: https://pandas.pydata.org/pandas-docs/stable/user_guide/indexing.html#returning-a-view-versus-a-copy\n",
            "  x[c]=temp\n",
            "<ipython-input-234-75759d0f9db3>:1: SettingWithCopyWarning: \n",
            "A value is trying to be set on a copy of a slice from a DataFrame.\n",
            "Try using .loc[row_indexer,col_indexer] = value instead\n",
            "\n",
            "See the caveats in the documentation: https://pandas.pydata.org/pandas-docs/stable/user_guide/indexing.html#returning-a-view-versus-a-copy\n",
            "  x[c]=temp\n",
            "<ipython-input-234-75759d0f9db3>:1: SettingWithCopyWarning: \n",
            "A value is trying to be set on a copy of a slice from a DataFrame.\n",
            "Try using .loc[row_indexer,col_indexer] = value instead\n",
            "\n",
            "See the caveats in the documentation: https://pandas.pydata.org/pandas-docs/stable/user_guide/indexing.html#returning-a-view-versus-a-copy\n",
            "  x[c]=temp\n",
            "<ipython-input-234-75759d0f9db3>:1: SettingWithCopyWarning: \n",
            "A value is trying to be set on a copy of a slice from a DataFrame.\n",
            "Try using .loc[row_indexer,col_indexer] = value instead\n",
            "\n",
            "See the caveats in the documentation: https://pandas.pydata.org/pandas-docs/stable/user_guide/indexing.html#returning-a-view-versus-a-copy\n",
            "  x[c]=temp\n",
            "<ipython-input-234-75759d0f9db3>:1: SettingWithCopyWarning: \n",
            "A value is trying to be set on a copy of a slice from a DataFrame.\n",
            "Try using .loc[row_indexer,col_indexer] = value instead\n",
            "\n",
            "See the caveats in the documentation: https://pandas.pydata.org/pandas-docs/stable/user_guide/indexing.html#returning-a-view-versus-a-copy\n",
            "  x[c]=temp\n",
            "<ipython-input-234-75759d0f9db3>:1: SettingWithCopyWarning: \n",
            "A value is trying to be set on a copy of a slice from a DataFrame.\n",
            "Try using .loc[row_indexer,col_indexer] = value instead\n",
            "\n",
            "See the caveats in the documentation: https://pandas.pydata.org/pandas-docs/stable/user_guide/indexing.html#returning-a-view-versus-a-copy\n",
            "  x[c]=temp\n",
            "<ipython-input-234-75759d0f9db3>:1: SettingWithCopyWarning: \n",
            "A value is trying to be set on a copy of a slice from a DataFrame.\n",
            "Try using .loc[row_indexer,col_indexer] = value instead\n",
            "\n",
            "See the caveats in the documentation: https://pandas.pydata.org/pandas-docs/stable/user_guide/indexing.html#returning-a-view-versus-a-copy\n",
            "  x[c]=temp\n",
            "<ipython-input-234-75759d0f9db3>:1: SettingWithCopyWarning: \n",
            "A value is trying to be set on a copy of a slice from a DataFrame.\n",
            "Try using .loc[row_indexer,col_indexer] = value instead\n",
            "\n",
            "See the caveats in the documentation: https://pandas.pydata.org/pandas-docs/stable/user_guide/indexing.html#returning-a-view-versus-a-copy\n",
            "  x[c]=temp\n",
            "<ipython-input-234-75759d0f9db3>:1: SettingWithCopyWarning: \n",
            "A value is trying to be set on a copy of a slice from a DataFrame.\n",
            "Try using .loc[row_indexer,col_indexer] = value instead\n",
            "\n",
            "See the caveats in the documentation: https://pandas.pydata.org/pandas-docs/stable/user_guide/indexing.html#returning-a-view-versus-a-copy\n",
            "  x[c]=temp\n",
            "<ipython-input-234-75759d0f9db3>:1: SettingWithCopyWarning: \n",
            "A value is trying to be set on a copy of a slice from a DataFrame.\n",
            "Try using .loc[row_indexer,col_indexer] = value instead\n",
            "\n",
            "See the caveats in the documentation: https://pandas.pydata.org/pandas-docs/stable/user_guide/indexing.html#returning-a-view-versus-a-copy\n",
            "  x[c]=temp\n",
            "<ipython-input-234-75759d0f9db3>:1: SettingWithCopyWarning: \n",
            "A value is trying to be set on a copy of a slice from a DataFrame.\n",
            "Try using .loc[row_indexer,col_indexer] = value instead\n",
            "\n",
            "See the caveats in the documentation: https://pandas.pydata.org/pandas-docs/stable/user_guide/indexing.html#returning-a-view-versus-a-copy\n",
            "  x[c]=temp\n",
            "<ipython-input-234-75759d0f9db3>:1: SettingWithCopyWarning: \n",
            "A value is trying to be set on a copy of a slice from a DataFrame.\n",
            "Try using .loc[row_indexer,col_indexer] = value instead\n",
            "\n",
            "See the caveats in the documentation: https://pandas.pydata.org/pandas-docs/stable/user_guide/indexing.html#returning-a-view-versus-a-copy\n",
            "  x[c]=temp\n",
            "<ipython-input-234-75759d0f9db3>:1: SettingWithCopyWarning: \n",
            "A value is trying to be set on a copy of a slice from a DataFrame.\n",
            "Try using .loc[row_indexer,col_indexer] = value instead\n",
            "\n",
            "See the caveats in the documentation: https://pandas.pydata.org/pandas-docs/stable/user_guide/indexing.html#returning-a-view-versus-a-copy\n",
            "  x[c]=temp\n",
            "<ipython-input-234-75759d0f9db3>:1: SettingWithCopyWarning: \n",
            "A value is trying to be set on a copy of a slice from a DataFrame.\n",
            "Try using .loc[row_indexer,col_indexer] = value instead\n",
            "\n",
            "See the caveats in the documentation: https://pandas.pydata.org/pandas-docs/stable/user_guide/indexing.html#returning-a-view-versus-a-copy\n",
            "  x[c]=temp\n",
            "<ipython-input-234-75759d0f9db3>:1: SettingWithCopyWarning: \n",
            "A value is trying to be set on a copy of a slice from a DataFrame.\n",
            "Try using .loc[row_indexer,col_indexer] = value instead\n",
            "\n",
            "See the caveats in the documentation: https://pandas.pydata.org/pandas-docs/stable/user_guide/indexing.html#returning-a-view-versus-a-copy\n",
            "  x[c]=temp\n",
            "<ipython-input-234-75759d0f9db3>:1: SettingWithCopyWarning: \n",
            "A value is trying to be set on a copy of a slice from a DataFrame.\n",
            "Try using .loc[row_indexer,col_indexer] = value instead\n",
            "\n",
            "See the caveats in the documentation: https://pandas.pydata.org/pandas-docs/stable/user_guide/indexing.html#returning-a-view-versus-a-copy\n",
            "  x[c]=temp\n",
            "<ipython-input-234-75759d0f9db3>:1: SettingWithCopyWarning: \n",
            "A value is trying to be set on a copy of a slice from a DataFrame.\n",
            "Try using .loc[row_indexer,col_indexer] = value instead\n",
            "\n",
            "See the caveats in the documentation: https://pandas.pydata.org/pandas-docs/stable/user_guide/indexing.html#returning-a-view-versus-a-copy\n",
            "  x[c]=temp\n",
            "<ipython-input-234-75759d0f9db3>:1: SettingWithCopyWarning: \n",
            "A value is trying to be set on a copy of a slice from a DataFrame.\n",
            "Try using .loc[row_indexer,col_indexer] = value instead\n",
            "\n",
            "See the caveats in the documentation: https://pandas.pydata.org/pandas-docs/stable/user_guide/indexing.html#returning-a-view-versus-a-copy\n",
            "  x[c]=temp\n",
            "<ipython-input-234-75759d0f9db3>:1: SettingWithCopyWarning: \n",
            "A value is trying to be set on a copy of a slice from a DataFrame.\n",
            "Try using .loc[row_indexer,col_indexer] = value instead\n",
            "\n",
            "See the caveats in the documentation: https://pandas.pydata.org/pandas-docs/stable/user_guide/indexing.html#returning-a-view-versus-a-copy\n",
            "  x[c]=temp\n"
          ]
        }
      ]
    },
    {
      "cell_type": "code",
      "source": [
        "categorical"
      ],
      "metadata": {
        "colab": {
          "base_uri": "https://localhost:8080/"
        },
        "id": "STK9XOuKVNAX",
        "outputId": "9c4864ca-64bb-4bf0-e621-1f5ec437320a"
      },
      "execution_count": 235,
      "outputs": [
        {
          "output_type": "execute_result",
          "data": {
            "text/plain": [
              "['sex', 'department', 'optype', 'approach', 'position', 'ane_type', 'nlp']"
            ]
          },
          "metadata": {},
          "execution_count": 235
        }
      ]
    },
    {
      "cell_type": "code",
      "source": [
        "temp={\"M\":0,\"F\":1}\n",
        "x['sex']=x['sex'].map(temp)"
      ],
      "metadata": {
        "colab": {
          "base_uri": "https://localhost:8080/"
        },
        "id": "dl67HUhEVXHI",
        "outputId": "8e4fe3d9-89e8-4abe-cd6e-6497cd13fcf0"
      },
      "execution_count": 236,
      "outputs": [
        {
          "output_type": "stream",
          "name": "stderr",
          "text": [
            "<ipython-input-236-1120153bb6c4>:2: SettingWithCopyWarning: \n",
            "A value is trying to be set on a copy of a slice from a DataFrame.\n",
            "Try using .loc[row_indexer,col_indexer] = value instead\n",
            "\n",
            "See the caveats in the documentation: https://pandas.pydata.org/pandas-docs/stable/user_guide/indexing.html#returning-a-view-versus-a-copy\n",
            "  x['sex']=x['sex'].map(temp)\n"
          ]
        }
      ]
    },
    {
      "cell_type": "markdown",
      "source": [
        "One hot encoding the categorical columns"
      ],
      "metadata": {
        "id": "Bur36Itk6uLl"
      }
    },
    {
      "cell_type": "code",
      "execution_count": 237,
      "metadata": {
        "id": "yaHtAkKRfkp3"
      },
      "outputs": [],
      "source": [
        "\n",
        "cols_to_transform=[\"department\",\"optype\",'ane_type','position','approach']\n",
        "dummies = pd.get_dummies(x[cols_to_transform])\n",
        "x = pd.concat([x, dummies], axis=1)\n",
        "\n",
        "# drop the original categorical columns\n",
        "x.drop(cols_to_transform, axis=1, inplace=True)\n"
      ]
    },
    {
      "cell_type": "markdown",
      "source": [
        "Saving the data since it takes time to reload in case of crash"
      ],
      "metadata": {
        "id": "gFpg8nOz6x1z"
      }
    },
    {
      "cell_type": "code",
      "execution_count": 238,
      "metadata": {
        "id": "o_txRudns-q7"
      },
      "outputs": [],
      "source": [
        "x.to_csv(\"preprocessed.csv\",index=True)"
      ]
    },
    {
      "cell_type": "code",
      "source": [
        "x=pd.read_csv(\"/content/preprocessed.csv\")"
      ],
      "metadata": {
        "id": "bVCUjJIMYgcJ"
      },
      "execution_count": 239,
      "outputs": []
    },
    {
      "cell_type": "code",
      "source": [
        "x.drop(['Unnamed: 0'],axis=1,inplace=True)"
      ],
      "metadata": {
        "id": "lsYSC4TDYoor"
      },
      "execution_count": 240,
      "outputs": []
    },
    {
      "cell_type": "markdown",
      "source": [
        "Seperating Features and prediction variable"
      ],
      "metadata": {
        "id": "wW-nhMpx63E6"
      }
    },
    {
      "cell_type": "code",
      "source": [
        "y=x['icu_days']\n",
        "x=x.drop(['icu_days'],axis=1,inplace=False)\n"
      ],
      "metadata": {
        "id": "XpjqUzTNYNDR"
      },
      "execution_count": 241,
      "outputs": []
    },
    {
      "cell_type": "code",
      "source": [
        "x.drop(['nlp'],axis=1,inplace=True)\n",
        "c=x.columns"
      ],
      "metadata": {
        "id": "2HkrvkrWYbMj"
      },
      "execution_count": 242,
      "outputs": []
    },
    {
      "cell_type": "markdown",
      "source": [
        "Preprocessing continuous columns"
      ],
      "metadata": {
        "id": "1SSkf34J68o1"
      }
    },
    {
      "cell_type": "code",
      "source": [
        "from sklearn.preprocessing import MinMaxScaler\n",
        "scaler = MinMaxScaler()\n",
        "x[c]=scaler.fit_transform(x[c])"
      ],
      "metadata": {
        "id": "7w9RQfNBX7iy"
      },
      "execution_count": 243,
      "outputs": []
    },
    {
      "cell_type": "markdown",
      "source": [
        "Finding correlation to remove features that are correlated"
      ],
      "metadata": {
        "id": "XOJLhKuk7BLV"
      }
    },
    {
      "cell_type": "code",
      "execution_count": 245,
      "metadata": {
        "id": "bSbflPtBw_ti"
      },
      "outputs": [],
      "source": [
        "import numpy as np\n",
        "\n",
        "# Create correlation matrix\n",
        "corr_matrix = x.corr().abs()\n",
        "\n",
        "# Select upper triangle of correlation matrix\n",
        "upper = corr_matrix.where(np.triu(np.ones(corr_matrix.shape), k=1).astype(bool))\n",
        "\n",
        "# Find features with correlation greater than 0.95\n",
        "to_drop = [column for column in upper.columns if any(upper[column] > 0.7)]\n",
        "\n"
      ]
    },
    {
      "cell_type": "code",
      "source": [
        "to_drop"
      ],
      "metadata": {
        "colab": {
          "base_uri": "https://localhost:8080/"
        },
        "id": "s-9lzRsWXFlJ",
        "outputId": "43500f10-b6ea-4b79-922b-e2d0553dff5c"
      },
      "execution_count": 246,
      "outputs": [
        {
          "output_type": "execute_result",
          "data": {
            "text/plain": [
              "['bmi',\n",
              " 'preop_alt',\n",
              " 'preop_cr',\n",
              " 'intraop_ca',\n",
              " 'oper_time',\n",
              " 'department_Thoracic surgery',\n",
              " 'optype_Colorectal',\n",
              " 'ane_type_Spinal',\n",
              " 'approach_Videoscopic']"
            ]
          },
          "metadata": {},
          "execution_count": 246
        }
      ]
    },
    {
      "cell_type": "code",
      "source": [
        "x.drop(to_drop,axis=1,inplace=True)"
      ],
      "metadata": {
        "id": "L4Igm5dzXvC7"
      },
      "execution_count": 247,
      "outputs": []
    },
    {
      "cell_type": "markdown",
      "source": [
        "Reducing the size of dataframe using PCA"
      ],
      "metadata": {
        "id": "Z2dLNISa7Ihp"
      }
    },
    {
      "cell_type": "code",
      "source": [
        "from sklearn.decomposition import PCA\n",
        "pca = PCA(0.95)\n",
        "x=pca.fit_transform(x)"
      ],
      "metadata": {
        "id": "ZCuLVx1dxDrk"
      },
      "execution_count": 249,
      "outputs": []
    },
    {
      "cell_type": "markdown",
      "source": [
        "Splitting for training and testing model"
      ],
      "metadata": {
        "id": "cqH83qbN7P5z"
      }
    },
    {
      "cell_type": "code",
      "source": [
        "from sklearn.model_selection import train_test_split\n",
        "X_train,X_test,y_train,y_test = train_test_split(x,y, random_state = 0)"
      ],
      "metadata": {
        "id": "Fknsm5PVxgNG"
      },
      "execution_count": 250,
      "outputs": []
    },
    {
      "cell_type": "markdown",
      "source": [
        "Applying different model and using r^2 and RMSE values"
      ],
      "metadata": {
        "id": "eHh8U_pq7S45"
      }
    },
    {
      "cell_type": "code",
      "source": [
        "from sklearn.linear_model import LinearRegression\n",
        "from sklearn.metrics import mean_squared_error, r2_score\n",
        "import numpy as np\n",
        "\n",
        "# Train the linear regression model on the training data\n",
        "reg = LinearRegression().fit(X_train, y_train)\n",
        "\n",
        "# Make predictions on the test data\n",
        "y_pred = reg.predict(X_test)\n",
        "1\n",
        "# Calculate the RMSE\n",
        "rmse = np.sqrt(mean_squared_error(y_test, y_pred))\n",
        "print(\"Root Mean Squared Error:\", rmse)\n",
        "\n",
        "# Calculate the R^2 score\n",
        "r2 = r2_score(y_test, y_pred)\n",
        "print(\"R^2:\", r2)\n",
        "\n",
        "# Calculate the adjusted R^2 score\n",
        "n = X_test.shape[0]\n",
        "p = X_test.shape[1]\n",
        "adjusted_r2 = 1-(1-r2)*(n-1)/(n-p-1)\n",
        "print(\"Adjusted R^2:\", adjusted_r2)"
      ],
      "metadata": {
        "colab": {
          "base_uri": "https://localhost:8080/"
        },
        "id": "oGTTecYkxmBM",
        "outputId": "863f80d1-fb81-4e1e-a166-2cce5a5a96ed"
      },
      "execution_count": 251,
      "outputs": [
        {
          "output_type": "stream",
          "name": "stdout",
          "text": [
            "Root Mean Squared Error: 2.926083633356871\n",
            "R^2: 0.19842437017342685\n",
            "Adjusted R^2: 0.1660269196849996\n"
          ]
        }
      ]
    },
    {
      "cell_type": "code",
      "source": [
        "from sklearn.svm import SVR\n",
        "from sklearn.metrics import mean_squared_error, r2_score\n",
        "import numpy as np\n",
        "\n",
        "# Train the SVR model on the training data\n",
        "reg = SVR().fit(X_train, y_train)\n",
        "\n",
        "# Make predictions on the test data\n",
        "y_pred = reg.predict(X_test)\n",
        "\n",
        "# Calculate the RMSE\n",
        "rmse = np.sqrt(mean_squared_error(y_test, y_pred))\n",
        "print(\"Root Mean Squared Error:\", rmse)\n",
        "\n",
        "# Calculate the R^2 score\n",
        "r2 = r2_score(y_test, y_pred)\n",
        "print(\"R^2:\", r2)\n",
        "\n",
        "# Calculate the adjusted R^2 score\n",
        "n = X_test.shape[0]\n",
        "p = X_test.shape[1]\n",
        "adjusted_r2 = 1-(1-r2)*(n-1)/(n-p-1)\n",
        "print(\"Adjusted R^2:\", adjusted_r2)\n"
      ],
      "metadata": {
        "colab": {
          "base_uri": "https://localhost:8080/"
        },
        "id": "czBhtbRxzp51",
        "outputId": "54455098-cdf2-449e-e7b3-e033add955b5"
      },
      "execution_count": 252,
      "outputs": [
        {
          "output_type": "stream",
          "name": "stdout",
          "text": [
            "Root Mean Squared Error: 3.0359490213073763\n",
            "R^2: 0.13710096266087335\n",
            "Adjusted R^2: 0.1022249911386921\n"
          ]
        }
      ]
    },
    {
      "cell_type": "code",
      "source": [
        "!pip install xgboost\n",
        "\n",
        "import xgboost as xgb\n",
        "# Train the XGBoost model on the training data\n",
        "reg = xgb.XGBRegressor().fit(X_train, y_train)\n",
        "\n",
        "# Make predictions on the test data\n",
        "y_pred = reg.predict(X_test)\n",
        "\n",
        "# Calculate the RMSE\n",
        "rmse = np.sqrt(mean_squared_error(y_test, y_pred))\n",
        "print(\"Root Mean Squared Error:\", rmse)\n",
        "\n",
        "# Calculate the R^2 score\n",
        "r2 = r2_score(y_test, y_pred)\n",
        "print(\"R^2:\", r2)\n",
        "\n",
        "# Calculate the adjusted R^2 score\n",
        "n = X_test.shape[0]\n",
        "p = X_test.shape[1]\n",
        "adjusted_r2 = 1-(1-r2)*(n-1)/(n-p-1)\n",
        "print(\"Adjusted R^2:\", adjusted_r2)\n"
      ],
      "metadata": {
        "colab": {
          "base_uri": "https://localhost:8080/"
        },
        "id": "BOePJqJ5z78E",
        "outputId": "0dad926f-7662-41c1-e297-16b5fae1ce7b"
      },
      "execution_count": 253,
      "outputs": [
        {
          "output_type": "stream",
          "name": "stdout",
          "text": [
            "Looking in indexes: https://pypi.org/simple, https://us-python.pkg.dev/colab-wheels/public/simple/\n",
            "Requirement already satisfied: xgboost in /usr/local/lib/python3.9/dist-packages (1.7.4)\n",
            "Requirement already satisfied: scipy in /usr/local/lib/python3.9/dist-packages (from xgboost) (1.10.1)\n",
            "Requirement already satisfied: numpy in /usr/local/lib/python3.9/dist-packages (from xgboost) (1.22.4)\n",
            "Root Mean Squared Error: 2.7216821067904213\n",
            "R^2: 0.3065010127030152\n",
            "Adjusted R^2: 0.27847171856193764\n"
          ]
        }
      ]
    },
    {
      "cell_type": "code",
      "source": [
        "from sklearn.ensemble import RandomForestRegressor\n",
        "\n",
        "# Train the Random Forest model on the training data\n",
        "reg = RandomForestRegressor().fit(X_train, y_train)\n",
        "\n",
        "# Make predictions on the test data\n",
        "y_pred = reg.predict(X_test)\n",
        "\n",
        "# Calculate the RMSE\n",
        "rmse = np.sqrt(mean_squared_error(y_test, y_pred))\n",
        "print(\"Root Mean Squared Error:\", rmse)\n",
        "\n",
        "# Calculate the R^2 score\n",
        "r2 = r2_score(y_test, y_pred)\n",
        "print(\"R^2:\", r2)\n",
        "\n",
        "# Calculate the adjusted R^2 score\n",
        "n = X_test.shape[0]\n",
        "p = X_test.shape[1]\n",
        "adjusted_r2 = 1-(1-r2)*(n-1)/(n-p-1)\n",
        "print(\"Adjusted R^2:\", adjusted_r2)\n"
      ],
      "metadata": {
        "colab": {
          "base_uri": "https://localhost:8080/"
        },
        "id": "12DuZs-Yz_I1",
        "outputId": "3caf4174-bcd3-46b8-cdd5-04ca3db86c05"
      },
      "execution_count": 254,
      "outputs": [
        {
          "output_type": "stream",
          "name": "stdout",
          "text": [
            "Root Mean Squared Error: 2.8562028863492843\n",
            "R^2: 0.2362536594098783\n",
            "Adjusted R^2: 0.20538516324521883\n"
          ]
        }
      ]
    },
    {
      "cell_type": "code",
      "source": [
        "!pip install catboost\n",
        "\n",
        "import catboost as cb\n",
        "\n",
        "# Train the CatBoost model on the training data\n",
        "reg = cb.CatBoostRegressor().fit(X_train, y_train)\n",
        "\n",
        "# Make predictions on the test data\n",
        "y_pred = reg.predict(X_test)\n",
        "\n",
        "# Calculate the RMSE\n",
        "rmse = np.sqrt(mean_squared_error(y_test, y_pred))\n",
        "print(\"Root Mean Squared Error:\", rmse)\n",
        "\n",
        "# Calculate the R^2 score\n",
        "r2 = r2_score(y_test, y_pred)\n",
        "print(\"R^2:\", r2)\n",
        "\n",
        "# Calculate the adjusted R^2 score\n",
        "n = X_test.shape[0]\n",
        "p = X_test.shape[1]\n",
        "adjusted_r2 = 1-(1-r2)*(n-1)/(n-p-1)\n",
        "print(\"Adjusted R^2:\", adjusted_r2)\n"
      ],
      "metadata": {
        "colab": {
          "base_uri": "https://localhost:8080/"
        },
        "id": "Qxpoc6060EAW",
        "outputId": "962ed647-7f13-47f3-faf7-ff69165f5582"
      },
      "execution_count": 255,
      "outputs": [
        {
          "output_type": "stream",
          "name": "stdout",
          "text": [
            "Looking in indexes: https://pypi.org/simple, https://us-python.pkg.dev/colab-wheels/public/simple/\n",
            "Requirement already satisfied: catboost in /usr/local/lib/python3.9/dist-packages (1.1.1)\n",
            "Requirement already satisfied: plotly in /usr/local/lib/python3.9/dist-packages (from catboost) (5.13.1)\n",
            "Requirement already satisfied: scipy in /usr/local/lib/python3.9/dist-packages (from catboost) (1.10.1)\n",
            "Requirement already satisfied: pandas>=0.24.0 in /usr/local/lib/python3.9/dist-packages (from catboost) (1.4.4)\n",
            "Requirement already satisfied: numpy>=1.16.0 in /usr/local/lib/python3.9/dist-packages (from catboost) (1.22.4)\n",
            "Requirement already satisfied: six in /usr/local/lib/python3.9/dist-packages (from catboost) (1.16.0)\n",
            "Requirement already satisfied: graphviz in /usr/local/lib/python3.9/dist-packages (from catboost) (0.20.1)\n",
            "Requirement already satisfied: matplotlib in /usr/local/lib/python3.9/dist-packages (from catboost) (3.7.1)\n",
            "Requirement already satisfied: pytz>=2020.1 in /usr/local/lib/python3.9/dist-packages (from pandas>=0.24.0->catboost) (2022.7.1)\n",
            "Requirement already satisfied: python-dateutil>=2.8.1 in /usr/local/lib/python3.9/dist-packages (from pandas>=0.24.0->catboost) (2.8.2)\n",
            "Requirement already satisfied: pyparsing>=2.3.1 in /usr/local/lib/python3.9/dist-packages (from matplotlib->catboost) (3.0.9)\n",
            "Requirement already satisfied: packaging>=20.0 in /usr/local/lib/python3.9/dist-packages (from matplotlib->catboost) (23.0)\n",
            "Requirement already satisfied: contourpy>=1.0.1 in /usr/local/lib/python3.9/dist-packages (from matplotlib->catboost) (1.0.7)\n",
            "Requirement already satisfied: cycler>=0.10 in /usr/local/lib/python3.9/dist-packages (from matplotlib->catboost) (0.11.0)\n",
            "Requirement already satisfied: importlib-resources>=3.2.0 in /usr/local/lib/python3.9/dist-packages (from matplotlib->catboost) (5.12.0)\n",
            "Requirement already satisfied: kiwisolver>=1.0.1 in /usr/local/lib/python3.9/dist-packages (from matplotlib->catboost) (1.4.4)\n",
            "Requirement already satisfied: pillow>=6.2.0 in /usr/local/lib/python3.9/dist-packages (from matplotlib->catboost) (8.4.0)\n",
            "Requirement already satisfied: fonttools>=4.22.0 in /usr/local/lib/python3.9/dist-packages (from matplotlib->catboost) (4.39.2)\n",
            "Requirement already satisfied: tenacity>=6.2.0 in /usr/local/lib/python3.9/dist-packages (from plotly->catboost) (8.2.2)\n",
            "Requirement already satisfied: zipp>=3.1.0 in /usr/local/lib/python3.9/dist-packages (from importlib-resources>=3.2.0->matplotlib->catboost) (3.15.0)\n",
            "Learning rate set to 0.052441\n",
            "0:\tlearn: 2.2741662\ttotal: 36.8ms\tremaining: 36.8s\n",
            "1:\tlearn: 2.2465616\ttotal: 71.2ms\tremaining: 35.5s\n",
            "2:\tlearn: 2.2153673\ttotal: 95.1ms\tremaining: 31.6s\n",
            "3:\tlearn: 2.1846482\ttotal: 124ms\tremaining: 30.9s\n",
            "4:\tlearn: 2.1672849\ttotal: 149ms\tremaining: 29.7s\n",
            "5:\tlearn: 2.1396989\ttotal: 173ms\tremaining: 28.7s\n",
            "6:\tlearn: 2.1237559\ttotal: 237ms\tremaining: 33.6s\n",
            "7:\tlearn: 2.1058342\ttotal: 268ms\tremaining: 33.3s\n",
            "8:\tlearn: 2.0866437\ttotal: 300ms\tremaining: 33s\n",
            "9:\tlearn: 2.0695609\ttotal: 337ms\tremaining: 33.4s\n",
            "10:\tlearn: 2.0584767\ttotal: 370ms\tremaining: 33.2s\n",
            "11:\tlearn: 2.0315441\ttotal: 402ms\tremaining: 33.1s\n",
            "12:\tlearn: 2.0099838\ttotal: 434ms\tremaining: 33s\n",
            "13:\tlearn: 1.9914118\ttotal: 467ms\tremaining: 32.9s\n",
            "14:\tlearn: 1.9768305\ttotal: 499ms\tremaining: 32.7s\n",
            "15:\tlearn: 1.9591805\ttotal: 532ms\tremaining: 32.7s\n",
            "16:\tlearn: 1.9468785\ttotal: 566ms\tremaining: 32.7s\n",
            "17:\tlearn: 1.9321595\ttotal: 605ms\tremaining: 33s\n",
            "18:\tlearn: 1.9155821\ttotal: 642ms\tremaining: 33.2s\n",
            "19:\tlearn: 1.9033845\ttotal: 676ms\tremaining: 33.1s\n",
            "20:\tlearn: 1.8897279\ttotal: 707ms\tremaining: 33s\n",
            "21:\tlearn: 1.8747136\ttotal: 739ms\tremaining: 32.9s\n",
            "22:\tlearn: 1.8549952\ttotal: 786ms\tremaining: 33.4s\n",
            "23:\tlearn: 1.8465739\ttotal: 832ms\tremaining: 33.8s\n",
            "24:\tlearn: 1.8351157\ttotal: 876ms\tremaining: 34.2s\n",
            "25:\tlearn: 1.8220689\ttotal: 910ms\tremaining: 34.1s\n",
            "26:\tlearn: 1.8078256\ttotal: 940ms\tremaining: 33.9s\n",
            "27:\tlearn: 1.7975165\ttotal: 979ms\tremaining: 34s\n",
            "28:\tlearn: 1.7885493\ttotal: 1.01s\tremaining: 33.9s\n",
            "29:\tlearn: 1.7773274\ttotal: 1.07s\tremaining: 34.6s\n",
            "30:\tlearn: 1.7693789\ttotal: 1.11s\tremaining: 34.7s\n",
            "31:\tlearn: 1.7611472\ttotal: 1.15s\tremaining: 34.8s\n",
            "32:\tlearn: 1.7513107\ttotal: 1.19s\tremaining: 34.9s\n",
            "33:\tlearn: 1.7387232\ttotal: 1.24s\tremaining: 35.1s\n",
            "34:\tlearn: 1.7242319\ttotal: 1.28s\tremaining: 35.4s\n",
            "35:\tlearn: 1.7131090\ttotal: 1.32s\tremaining: 35.3s\n",
            "36:\tlearn: 1.7029918\ttotal: 1.34s\tremaining: 34.9s\n",
            "37:\tlearn: 1.6964863\ttotal: 1.36s\tremaining: 34.4s\n",
            "38:\tlearn: 1.6859079\ttotal: 1.38s\tremaining: 34s\n",
            "39:\tlearn: 1.6736566\ttotal: 1.41s\tremaining: 33.8s\n",
            "40:\tlearn: 1.6673891\ttotal: 1.43s\tremaining: 33.5s\n",
            "41:\tlearn: 1.6564789\ttotal: 1.45s\tremaining: 33.2s\n",
            "42:\tlearn: 1.6482199\ttotal: 1.49s\tremaining: 33.1s\n",
            "43:\tlearn: 1.6376415\ttotal: 1.53s\tremaining: 33.2s\n",
            "44:\tlearn: 1.6278808\ttotal: 1.56s\tremaining: 33.1s\n",
            "45:\tlearn: 1.6245993\ttotal: 1.59s\tremaining: 33s\n",
            "46:\tlearn: 1.6110148\ttotal: 1.63s\tremaining: 33.1s\n",
            "47:\tlearn: 1.6008624\ttotal: 1.67s\tremaining: 33.1s\n",
            "48:\tlearn: 1.5916011\ttotal: 1.69s\tremaining: 32.8s\n",
            "49:\tlearn: 1.5848798\ttotal: 1.72s\tremaining: 32.7s\n",
            "50:\tlearn: 1.5719055\ttotal: 1.76s\tremaining: 32.8s\n",
            "51:\tlearn: 1.5659489\ttotal: 1.8s\tremaining: 32.8s\n",
            "52:\tlearn: 1.5576848\ttotal: 1.84s\tremaining: 32.9s\n",
            "53:\tlearn: 1.5511397\ttotal: 1.89s\tremaining: 33.1s\n",
            "54:\tlearn: 1.5390786\ttotal: 1.92s\tremaining: 33s\n",
            "55:\tlearn: 1.5336305\ttotal: 1.96s\tremaining: 33s\n",
            "56:\tlearn: 1.5286480\ttotal: 1.99s\tremaining: 33s\n",
            "57:\tlearn: 1.5189953\ttotal: 2.03s\tremaining: 33s\n",
            "58:\tlearn: 1.5143396\ttotal: 2.06s\tremaining: 32.9s\n",
            "59:\tlearn: 1.5087470\ttotal: 2.11s\tremaining: 33s\n",
            "60:\tlearn: 1.5027812\ttotal: 2.15s\tremaining: 33.1s\n",
            "61:\tlearn: 1.5000779\ttotal: 2.2s\tremaining: 33.3s\n",
            "62:\tlearn: 1.4940457\ttotal: 2.24s\tremaining: 33.3s\n",
            "63:\tlearn: 1.4867393\ttotal: 2.3s\tremaining: 33.6s\n",
            "64:\tlearn: 1.4816506\ttotal: 2.36s\tremaining: 33.9s\n",
            "65:\tlearn: 1.4742079\ttotal: 2.4s\tremaining: 33.9s\n",
            "66:\tlearn: 1.4655253\ttotal: 2.44s\tremaining: 34s\n",
            "67:\tlearn: 1.4602224\ttotal: 2.47s\tremaining: 33.8s\n",
            "68:\tlearn: 1.4576153\ttotal: 2.5s\tremaining: 33.8s\n",
            "69:\tlearn: 1.4547449\ttotal: 2.52s\tremaining: 33.5s\n",
            "70:\tlearn: 1.4461254\ttotal: 2.55s\tremaining: 33.3s\n",
            "71:\tlearn: 1.4434616\ttotal: 2.57s\tremaining: 33.2s\n",
            "72:\tlearn: 1.4331262\ttotal: 2.61s\tremaining: 33.1s\n",
            "73:\tlearn: 1.4256871\ttotal: 2.64s\tremaining: 33.1s\n",
            "74:\tlearn: 1.4204004\ttotal: 2.69s\tremaining: 33.1s\n",
            "75:\tlearn: 1.4158995\ttotal: 2.74s\tremaining: 33.3s\n",
            "76:\tlearn: 1.4049741\ttotal: 2.78s\tremaining: 33.3s\n",
            "77:\tlearn: 1.3978765\ttotal: 2.81s\tremaining: 33.2s\n",
            "78:\tlearn: 1.3931990\ttotal: 2.85s\tremaining: 33.3s\n",
            "79:\tlearn: 1.3846442\ttotal: 2.88s\tremaining: 33.2s\n",
            "80:\tlearn: 1.3775972\ttotal: 2.93s\tremaining: 33.2s\n",
            "81:\tlearn: 1.3716961\ttotal: 2.98s\tremaining: 33.3s\n",
            "82:\tlearn: 1.3645749\ttotal: 3.03s\tremaining: 33.5s\n",
            "83:\tlearn: 1.3614365\ttotal: 3.09s\tremaining: 33.7s\n",
            "84:\tlearn: 1.3593009\ttotal: 3.14s\tremaining: 33.8s\n",
            "85:\tlearn: 1.3512180\ttotal: 3.19s\tremaining: 34s\n",
            "86:\tlearn: 1.3451554\ttotal: 3.26s\tremaining: 34.2s\n",
            "87:\tlearn: 1.3414690\ttotal: 3.3s\tremaining: 34.2s\n",
            "88:\tlearn: 1.3397328\ttotal: 3.35s\tremaining: 34.3s\n",
            "89:\tlearn: 1.3370027\ttotal: 3.38s\tremaining: 34.2s\n",
            "90:\tlearn: 1.3338761\ttotal: 3.41s\tremaining: 34.1s\n",
            "91:\tlearn: 1.3284524\ttotal: 3.44s\tremaining: 33.9s\n",
            "92:\tlearn: 1.3242353\ttotal: 3.47s\tremaining: 33.9s\n",
            "93:\tlearn: 1.3211444\ttotal: 3.51s\tremaining: 33.9s\n",
            "94:\tlearn: 1.3131965\ttotal: 3.53s\tremaining: 33.7s\n",
            "95:\tlearn: 1.3099658\ttotal: 3.56s\tremaining: 33.6s\n",
            "96:\tlearn: 1.3075962\ttotal: 3.59s\tremaining: 33.4s\n",
            "97:\tlearn: 1.3065454\ttotal: 3.62s\tremaining: 33.3s\n",
            "98:\tlearn: 1.3008721\ttotal: 3.66s\tremaining: 33.3s\n",
            "99:\tlearn: 1.2967105\ttotal: 3.71s\tremaining: 33.4s\n",
            "100:\tlearn: 1.2918956\ttotal: 3.74s\tremaining: 33.3s\n",
            "101:\tlearn: 1.2878858\ttotal: 3.84s\tremaining: 33.8s\n",
            "102:\tlearn: 1.2862629\ttotal: 3.88s\tremaining: 33.8s\n",
            "103:\tlearn: 1.2832144\ttotal: 3.92s\tremaining: 33.8s\n",
            "104:\tlearn: 1.2794330\ttotal: 3.97s\tremaining: 33.8s\n",
            "105:\tlearn: 1.2754520\ttotal: 4.03s\tremaining: 34s\n",
            "106:\tlearn: 1.2699980\ttotal: 4.07s\tremaining: 34s\n",
            "107:\tlearn: 1.2686242\ttotal: 4.09s\tremaining: 33.8s\n",
            "108:\tlearn: 1.2667047\ttotal: 4.12s\tremaining: 33.7s\n",
            "109:\tlearn: 1.2641374\ttotal: 4.16s\tremaining: 33.7s\n",
            "110:\tlearn: 1.2592164\ttotal: 4.19s\tremaining: 33.6s\n",
            "111:\tlearn: 1.2561928\ttotal: 4.23s\tremaining: 33.6s\n",
            "112:\tlearn: 1.2534812\ttotal: 4.26s\tremaining: 33.5s\n",
            "113:\tlearn: 1.2487668\ttotal: 4.29s\tremaining: 33.3s\n",
            "114:\tlearn: 1.2472038\ttotal: 4.31s\tremaining: 33.2s\n",
            "115:\tlearn: 1.2459704\ttotal: 4.33s\tremaining: 33s\n",
            "116:\tlearn: 1.2427514\ttotal: 4.35s\tremaining: 32.8s\n",
            "117:\tlearn: 1.2393296\ttotal: 4.38s\tremaining: 32.8s\n",
            "118:\tlearn: 1.2342155\ttotal: 4.42s\tremaining: 32.7s\n",
            "119:\tlearn: 1.2289732\ttotal: 4.44s\tremaining: 32.6s\n",
            "120:\tlearn: 1.2251393\ttotal: 4.48s\tremaining: 32.5s\n",
            "121:\tlearn: 1.2221907\ttotal: 4.51s\tremaining: 32.5s\n",
            "122:\tlearn: 1.2174410\ttotal: 4.55s\tremaining: 32.5s\n",
            "123:\tlearn: 1.2124175\ttotal: 4.62s\tremaining: 32.7s\n",
            "124:\tlearn: 1.2070166\ttotal: 4.66s\tremaining: 32.6s\n",
            "125:\tlearn: 1.2054084\ttotal: 4.69s\tremaining: 32.5s\n",
            "126:\tlearn: 1.2019959\ttotal: 4.73s\tremaining: 32.5s\n",
            "127:\tlearn: 1.1997536\ttotal: 4.75s\tremaining: 32.4s\n",
            "128:\tlearn: 1.1971831\ttotal: 4.78s\tremaining: 32.3s\n",
            "129:\tlearn: 1.1952007\ttotal: 4.82s\tremaining: 32.2s\n",
            "130:\tlearn: 1.1930510\ttotal: 4.84s\tremaining: 32.1s\n",
            "131:\tlearn: 1.1920238\ttotal: 4.88s\tremaining: 32.1s\n",
            "132:\tlearn: 1.1891153\ttotal: 4.96s\tremaining: 32.4s\n",
            "133:\tlearn: 1.1870449\ttotal: 5s\tremaining: 32.3s\n",
            "134:\tlearn: 1.1839204\ttotal: 5.04s\tremaining: 32.3s\n",
            "135:\tlearn: 1.1823727\ttotal: 5.08s\tremaining: 32.3s\n",
            "136:\tlearn: 1.1803190\ttotal: 5.11s\tremaining: 32.2s\n",
            "137:\tlearn: 1.1737594\ttotal: 5.16s\tremaining: 32.2s\n",
            "138:\tlearn: 1.1718682\ttotal: 5.19s\tremaining: 32.2s\n",
            "139:\tlearn: 1.1693049\ttotal: 5.23s\tremaining: 32.1s\n",
            "140:\tlearn: 1.1660336\ttotal: 5.27s\tremaining: 32.1s\n",
            "141:\tlearn: 1.1651640\ttotal: 5.31s\tremaining: 32.1s\n",
            "142:\tlearn: 1.1606898\ttotal: 5.34s\tremaining: 32s\n",
            "143:\tlearn: 1.1594568\ttotal: 5.39s\tremaining: 32s\n",
            "144:\tlearn: 1.1531790\ttotal: 5.42s\tremaining: 32s\n",
            "145:\tlearn: 1.1467719\ttotal: 5.46s\tremaining: 31.9s\n",
            "146:\tlearn: 1.1449192\ttotal: 5.5s\tremaining: 31.9s\n",
            "147:\tlearn: 1.1426164\ttotal: 5.53s\tremaining: 31.8s\n",
            "148:\tlearn: 1.1401124\ttotal: 5.57s\tremaining: 31.8s\n",
            "149:\tlearn: 1.1378072\ttotal: 5.61s\tremaining: 31.8s\n",
            "150:\tlearn: 1.1348663\ttotal: 5.65s\tremaining: 31.7s\n",
            "151:\tlearn: 1.1316283\ttotal: 5.68s\tremaining: 31.7s\n",
            "152:\tlearn: 1.1292073\ttotal: 5.73s\tremaining: 31.7s\n",
            "153:\tlearn: 1.1231008\ttotal: 5.76s\tremaining: 31.7s\n",
            "154:\tlearn: 1.1194187\ttotal: 5.81s\tremaining: 31.7s\n",
            "155:\tlearn: 1.1157941\ttotal: 5.84s\tremaining: 31.6s\n",
            "156:\tlearn: 1.1120651\ttotal: 5.89s\tremaining: 31.6s\n",
            "157:\tlearn: 1.1103122\ttotal: 5.93s\tremaining: 31.6s\n",
            "158:\tlearn: 1.1088441\ttotal: 5.95s\tremaining: 31.5s\n",
            "159:\tlearn: 1.1077121\ttotal: 5.97s\tremaining: 31.4s\n",
            "160:\tlearn: 1.1040682\ttotal: 5.99s\tremaining: 31.2s\n",
            "161:\tlearn: 1.1020548\ttotal: 6.03s\tremaining: 31.2s\n",
            "162:\tlearn: 1.1002107\ttotal: 6.08s\tremaining: 31.2s\n",
            "163:\tlearn: 1.0966922\ttotal: 6.13s\tremaining: 31.3s\n",
            "164:\tlearn: 1.0940855\ttotal: 6.18s\tremaining: 31.3s\n",
            "165:\tlearn: 1.0925279\ttotal: 6.2s\tremaining: 31.2s\n",
            "166:\tlearn: 1.0914640\ttotal: 6.23s\tremaining: 31.1s\n",
            "167:\tlearn: 1.0875843\ttotal: 6.25s\tremaining: 30.9s\n",
            "168:\tlearn: 1.0865795\ttotal: 6.27s\tremaining: 30.9s\n",
            "169:\tlearn: 1.0843120\ttotal: 6.3s\tremaining: 30.7s\n",
            "170:\tlearn: 1.0819723\ttotal: 6.34s\tremaining: 30.7s\n",
            "171:\tlearn: 1.0793422\ttotal: 6.38s\tremaining: 30.7s\n",
            "172:\tlearn: 1.0771568\ttotal: 6.42s\tremaining: 30.7s\n",
            "173:\tlearn: 1.0750641\ttotal: 6.45s\tremaining: 30.6s\n",
            "174:\tlearn: 1.0730777\ttotal: 6.47s\tremaining: 30.5s\n",
            "175:\tlearn: 1.0695414\ttotal: 6.5s\tremaining: 30.4s\n",
            "176:\tlearn: 1.0674734\ttotal: 6.55s\tremaining: 30.4s\n",
            "177:\tlearn: 1.0624774\ttotal: 6.6s\tremaining: 30.5s\n",
            "178:\tlearn: 1.0554564\ttotal: 6.65s\tremaining: 30.5s\n",
            "179:\tlearn: 1.0495345\ttotal: 6.7s\tremaining: 30.5s\n",
            "180:\tlearn: 1.0441811\ttotal: 6.8s\tremaining: 30.8s\n",
            "181:\tlearn: 1.0409373\ttotal: 6.86s\tremaining: 30.8s\n",
            "182:\tlearn: 1.0399097\ttotal: 6.9s\tremaining: 30.8s\n",
            "183:\tlearn: 1.0362644\ttotal: 6.94s\tremaining: 30.8s\n",
            "184:\tlearn: 1.0326629\ttotal: 6.97s\tremaining: 30.7s\n",
            "185:\tlearn: 1.0304717\ttotal: 6.99s\tremaining: 30.6s\n",
            "186:\tlearn: 1.0272327\ttotal: 7.03s\tremaining: 30.5s\n",
            "187:\tlearn: 1.0259087\ttotal: 7.04s\tremaining: 30.4s\n",
            "188:\tlearn: 1.0236316\ttotal: 7.07s\tremaining: 30.3s\n",
            "189:\tlearn: 1.0204463\ttotal: 7.09s\tremaining: 30.2s\n",
            "190:\tlearn: 1.0160817\ttotal: 7.11s\tremaining: 30.1s\n",
            "191:\tlearn: 1.0136123\ttotal: 7.13s\tremaining: 30s\n",
            "192:\tlearn: 1.0109345\ttotal: 7.16s\tremaining: 30s\n",
            "193:\tlearn: 1.0099919\ttotal: 7.2s\tremaining: 29.9s\n",
            "194:\tlearn: 1.0080642\ttotal: 7.25s\tremaining: 29.9s\n",
            "195:\tlearn: 1.0061163\ttotal: 7.28s\tremaining: 29.9s\n",
            "196:\tlearn: 1.0037997\ttotal: 7.3s\tremaining: 29.8s\n",
            "197:\tlearn: 1.0018709\ttotal: 7.36s\tremaining: 29.8s\n",
            "198:\tlearn: 0.9984705\ttotal: 7.39s\tremaining: 29.8s\n",
            "199:\tlearn: 0.9954839\ttotal: 7.43s\tremaining: 29.7s\n",
            "200:\tlearn: 0.9925158\ttotal: 7.47s\tremaining: 29.7s\n",
            "201:\tlearn: 0.9902073\ttotal: 7.5s\tremaining: 29.6s\n",
            "202:\tlearn: 0.9860311\ttotal: 7.54s\tremaining: 29.6s\n",
            "203:\tlearn: 0.9837916\ttotal: 7.58s\tremaining: 29.6s\n",
            "204:\tlearn: 0.9820323\ttotal: 7.62s\tremaining: 29.6s\n",
            "205:\tlearn: 0.9772358\ttotal: 7.67s\tremaining: 29.5s\n",
            "206:\tlearn: 0.9749135\ttotal: 7.72s\tremaining: 29.6s\n",
            "207:\tlearn: 0.9733274\ttotal: 7.75s\tremaining: 29.5s\n",
            "208:\tlearn: 0.9713545\ttotal: 7.8s\tremaining: 29.5s\n",
            "209:\tlearn: 0.9695081\ttotal: 7.88s\tremaining: 29.6s\n",
            "210:\tlearn: 0.9684552\ttotal: 7.92s\tremaining: 29.6s\n",
            "211:\tlearn: 0.9650023\ttotal: 7.95s\tremaining: 29.6s\n",
            "212:\tlearn: 0.9642911\ttotal: 7.99s\tremaining: 29.5s\n",
            "213:\tlearn: 0.9612659\ttotal: 8.05s\tremaining: 29.6s\n",
            "214:\tlearn: 0.9594260\ttotal: 8.11s\tremaining: 29.6s\n",
            "215:\tlearn: 0.9579314\ttotal: 8.15s\tremaining: 29.6s\n",
            "216:\tlearn: 0.9528339\ttotal: 8.2s\tremaining: 29.6s\n",
            "217:\tlearn: 0.9487544\ttotal: 8.24s\tremaining: 29.6s\n",
            "218:\tlearn: 0.9467740\ttotal: 8.28s\tremaining: 29.5s\n",
            "219:\tlearn: 0.9445147\ttotal: 8.39s\tremaining: 29.7s\n",
            "220:\tlearn: 0.9429400\ttotal: 8.45s\tremaining: 29.8s\n",
            "221:\tlearn: 0.9408492\ttotal: 8.49s\tremaining: 29.8s\n",
            "222:\tlearn: 0.9390547\ttotal: 8.53s\tremaining: 29.7s\n",
            "223:\tlearn: 0.9370697\ttotal: 8.58s\tremaining: 29.7s\n",
            "224:\tlearn: 0.9332499\ttotal: 8.65s\tremaining: 29.8s\n",
            "225:\tlearn: 0.9315888\ttotal: 8.71s\tremaining: 29.8s\n",
            "226:\tlearn: 0.9294917\ttotal: 8.78s\tremaining: 29.9s\n",
            "227:\tlearn: 0.9277863\ttotal: 8.83s\tremaining: 29.9s\n",
            "228:\tlearn: 0.9256630\ttotal: 8.88s\tremaining: 29.9s\n",
            "229:\tlearn: 0.9206377\ttotal: 8.97s\tremaining: 30s\n",
            "230:\tlearn: 0.9193885\ttotal: 9.05s\tremaining: 30.1s\n",
            "231:\tlearn: 0.9174816\ttotal: 9.12s\tremaining: 30.2s\n",
            "232:\tlearn: 0.9157681\ttotal: 9.19s\tremaining: 30.3s\n",
            "233:\tlearn: 0.9111910\ttotal: 9.25s\tremaining: 30.3s\n",
            "234:\tlearn: 0.9096957\ttotal: 9.3s\tremaining: 30.3s\n",
            "235:\tlearn: 0.9087678\ttotal: 9.37s\tremaining: 30.3s\n",
            "236:\tlearn: 0.9059528\ttotal: 9.44s\tremaining: 30.4s\n",
            "237:\tlearn: 0.9044421\ttotal: 9.48s\tremaining: 30.4s\n",
            "238:\tlearn: 0.9019115\ttotal: 9.56s\tremaining: 30.4s\n",
            "239:\tlearn: 0.9007112\ttotal: 9.63s\tremaining: 30.5s\n",
            "240:\tlearn: 0.8992056\ttotal: 9.69s\tremaining: 30.5s\n",
            "241:\tlearn: 0.8951277\ttotal: 9.72s\tremaining: 30.4s\n",
            "242:\tlearn: 0.8915388\ttotal: 9.78s\tremaining: 30.5s\n",
            "243:\tlearn: 0.8894896\ttotal: 9.87s\tremaining: 30.6s\n",
            "244:\tlearn: 0.8848451\ttotal: 9.94s\tremaining: 30.6s\n",
            "245:\tlearn: 0.8830292\ttotal: 10s\tremaining: 30.7s\n",
            "246:\tlearn: 0.8817526\ttotal: 10.1s\tremaining: 30.7s\n",
            "247:\tlearn: 0.8806124\ttotal: 10.1s\tremaining: 30.8s\n",
            "248:\tlearn: 0.8791378\ttotal: 10.2s\tremaining: 30.8s\n",
            "249:\tlearn: 0.8771621\ttotal: 10.3s\tremaining: 30.8s\n",
            "250:\tlearn: 0.8759764\ttotal: 10.3s\tremaining: 30.7s\n",
            "251:\tlearn: 0.8731377\ttotal: 10.4s\tremaining: 30.8s\n",
            "252:\tlearn: 0.8720322\ttotal: 10.4s\tremaining: 30.8s\n",
            "253:\tlearn: 0.8709656\ttotal: 10.5s\tremaining: 30.7s\n",
            "254:\tlearn: 0.8671657\ttotal: 10.5s\tremaining: 30.7s\n",
            "255:\tlearn: 0.8644350\ttotal: 10.6s\tremaining: 30.7s\n",
            "256:\tlearn: 0.8630496\ttotal: 10.6s\tremaining: 30.7s\n",
            "257:\tlearn: 0.8596203\ttotal: 10.7s\tremaining: 30.7s\n",
            "258:\tlearn: 0.8576769\ttotal: 10.8s\tremaining: 30.8s\n",
            "259:\tlearn: 0.8565895\ttotal: 10.8s\tremaining: 30.8s\n",
            "260:\tlearn: 0.8539409\ttotal: 10.9s\tremaining: 30.8s\n",
            "261:\tlearn: 0.8525160\ttotal: 10.9s\tremaining: 30.8s\n",
            "262:\tlearn: 0.8506566\ttotal: 11s\tremaining: 30.8s\n",
            "263:\tlearn: 0.8484393\ttotal: 11.1s\tremaining: 30.9s\n",
            "264:\tlearn: 0.8467939\ttotal: 11.1s\tremaining: 30.9s\n",
            "265:\tlearn: 0.8441912\ttotal: 11.2s\tremaining: 30.9s\n",
            "266:\tlearn: 0.8422291\ttotal: 11.2s\tremaining: 30.9s\n",
            "267:\tlearn: 0.8412781\ttotal: 11.3s\tremaining: 30.8s\n",
            "268:\tlearn: 0.8393257\ttotal: 11.3s\tremaining: 30.8s\n",
            "269:\tlearn: 0.8381674\ttotal: 11.4s\tremaining: 30.8s\n",
            "270:\tlearn: 0.8367148\ttotal: 11.4s\tremaining: 30.8s\n",
            "271:\tlearn: 0.8353577\ttotal: 11.5s\tremaining: 30.8s\n",
            "272:\tlearn: 0.8343400\ttotal: 11.5s\tremaining: 30.8s\n",
            "273:\tlearn: 0.8336106\ttotal: 11.6s\tremaining: 30.7s\n",
            "274:\tlearn: 0.8320262\ttotal: 11.6s\tremaining: 30.7s\n",
            "275:\tlearn: 0.8313418\ttotal: 11.7s\tremaining: 30.6s\n",
            "276:\tlearn: 0.8280658\ttotal: 11.7s\tremaining: 30.6s\n",
            "277:\tlearn: 0.8265998\ttotal: 11.8s\tremaining: 30.6s\n",
            "278:\tlearn: 0.8249579\ttotal: 11.8s\tremaining: 30.5s\n",
            "279:\tlearn: 0.8233009\ttotal: 11.9s\tremaining: 30.7s\n",
            "280:\tlearn: 0.8205248\ttotal: 12s\tremaining: 30.7s\n",
            "281:\tlearn: 0.8190029\ttotal: 12s\tremaining: 30.6s\n",
            "282:\tlearn: 0.8178496\ttotal: 12.1s\tremaining: 30.6s\n",
            "283:\tlearn: 0.8158628\ttotal: 12.1s\tremaining: 30.5s\n",
            "284:\tlearn: 0.8147631\ttotal: 12.1s\tremaining: 30.5s\n",
            "285:\tlearn: 0.8142920\ttotal: 12.2s\tremaining: 30.4s\n",
            "286:\tlearn: 0.8119899\ttotal: 12.3s\tremaining: 30.4s\n",
            "287:\tlearn: 0.8112687\ttotal: 12.3s\tremaining: 30.4s\n",
            "288:\tlearn: 0.8092788\ttotal: 12.3s\tremaining: 30.3s\n",
            "289:\tlearn: 0.8083516\ttotal: 12.3s\tremaining: 30.2s\n",
            "290:\tlearn: 0.8060463\ttotal: 12.4s\tremaining: 30.2s\n",
            "291:\tlearn: 0.8049440\ttotal: 12.4s\tremaining: 30.1s\n",
            "292:\tlearn: 0.8039800\ttotal: 12.4s\tremaining: 30s\n",
            "293:\tlearn: 0.8024415\ttotal: 12.5s\tremaining: 30.1s\n",
            "294:\tlearn: 0.8003131\ttotal: 12.6s\tremaining: 30s\n",
            "295:\tlearn: 0.7989020\ttotal: 12.6s\tremaining: 30s\n",
            "296:\tlearn: 0.7974140\ttotal: 12.7s\tremaining: 30s\n",
            "297:\tlearn: 0.7958799\ttotal: 12.7s\tremaining: 30s\n",
            "298:\tlearn: 0.7935623\ttotal: 12.8s\tremaining: 29.9s\n",
            "299:\tlearn: 0.7921465\ttotal: 12.8s\tremaining: 29.9s\n",
            "300:\tlearn: 0.7885102\ttotal: 12.9s\tremaining: 29.9s\n",
            "301:\tlearn: 0.7873162\ttotal: 12.9s\tremaining: 29.9s\n",
            "302:\tlearn: 0.7851412\ttotal: 13s\tremaining: 29.8s\n",
            "303:\tlearn: 0.7841190\ttotal: 13s\tremaining: 29.8s\n",
            "304:\tlearn: 0.7826571\ttotal: 13.1s\tremaining: 29.8s\n",
            "305:\tlearn: 0.7816618\ttotal: 13.1s\tremaining: 29.8s\n",
            "306:\tlearn: 0.7798870\ttotal: 13.2s\tremaining: 29.7s\n",
            "307:\tlearn: 0.7779640\ttotal: 13.2s\tremaining: 29.6s\n",
            "308:\tlearn: 0.7755005\ttotal: 13.2s\tremaining: 29.6s\n",
            "309:\tlearn: 0.7740001\ttotal: 13.3s\tremaining: 29.6s\n",
            "310:\tlearn: 0.7722793\ttotal: 13.3s\tremaining: 29.5s\n",
            "311:\tlearn: 0.7709549\ttotal: 13.4s\tremaining: 29.5s\n",
            "312:\tlearn: 0.7698152\ttotal: 13.4s\tremaining: 29.4s\n",
            "313:\tlearn: 0.7676898\ttotal: 13.4s\tremaining: 29.4s\n",
            "314:\tlearn: 0.7664675\ttotal: 13.5s\tremaining: 29.3s\n",
            "315:\tlearn: 0.7652813\ttotal: 13.5s\tremaining: 29.2s\n",
            "316:\tlearn: 0.7630172\ttotal: 13.5s\tremaining: 29.1s\n",
            "317:\tlearn: 0.7608685\ttotal: 13.6s\tremaining: 29.1s\n",
            "318:\tlearn: 0.7598376\ttotal: 13.6s\tremaining: 29.1s\n",
            "319:\tlearn: 0.7589614\ttotal: 13.7s\tremaining: 29.1s\n",
            "320:\tlearn: 0.7580833\ttotal: 13.7s\tremaining: 29.1s\n",
            "321:\tlearn: 0.7565916\ttotal: 13.8s\tremaining: 29.1s\n",
            "322:\tlearn: 0.7553479\ttotal: 13.8s\tremaining: 29s\n",
            "323:\tlearn: 0.7536373\ttotal: 13.9s\tremaining: 28.9s\n",
            "324:\tlearn: 0.7527102\ttotal: 13.9s\tremaining: 28.9s\n",
            "325:\tlearn: 0.7512025\ttotal: 13.9s\tremaining: 28.8s\n",
            "326:\tlearn: 0.7499888\ttotal: 13.9s\tremaining: 28.7s\n",
            "327:\tlearn: 0.7487574\ttotal: 14s\tremaining: 28.6s\n",
            "328:\tlearn: 0.7466241\ttotal: 14s\tremaining: 28.6s\n",
            "329:\tlearn: 0.7458808\ttotal: 14s\tremaining: 28.5s\n",
            "330:\tlearn: 0.7448735\ttotal: 14s\tremaining: 28.4s\n",
            "331:\tlearn: 0.7430595\ttotal: 14.1s\tremaining: 28.3s\n",
            "332:\tlearn: 0.7419178\ttotal: 14.1s\tremaining: 28.2s\n",
            "333:\tlearn: 0.7404920\ttotal: 14.1s\tremaining: 28.1s\n",
            "334:\tlearn: 0.7395332\ttotal: 14.1s\tremaining: 28s\n",
            "335:\tlearn: 0.7384967\ttotal: 14.1s\tremaining: 27.9s\n",
            "336:\tlearn: 0.7371588\ttotal: 14.1s\tremaining: 27.8s\n",
            "337:\tlearn: 0.7348697\ttotal: 14.2s\tremaining: 27.7s\n",
            "338:\tlearn: 0.7324936\ttotal: 14.2s\tremaining: 27.6s\n",
            "339:\tlearn: 0.7312226\ttotal: 14.2s\tremaining: 27.5s\n",
            "340:\tlearn: 0.7294525\ttotal: 14.2s\tremaining: 27.4s\n",
            "341:\tlearn: 0.7284058\ttotal: 14.2s\tremaining: 27.4s\n",
            "342:\tlearn: 0.7258627\ttotal: 14.2s\tremaining: 27.3s\n",
            "343:\tlearn: 0.7251253\ttotal: 14.3s\tremaining: 27.2s\n",
            "344:\tlearn: 0.7237832\ttotal: 14.3s\tremaining: 27.2s\n",
            "345:\tlearn: 0.7223245\ttotal: 14.3s\tremaining: 27.1s\n",
            "346:\tlearn: 0.7216072\ttotal: 14.3s\tremaining: 27s\n",
            "347:\tlearn: 0.7202969\ttotal: 14.4s\tremaining: 26.9s\n",
            "348:\tlearn: 0.7183521\ttotal: 14.4s\tremaining: 26.8s\n",
            "349:\tlearn: 0.7174599\ttotal: 14.4s\tremaining: 26.7s\n",
            "350:\tlearn: 0.7160065\ttotal: 14.4s\tremaining: 26.6s\n",
            "351:\tlearn: 0.7153770\ttotal: 14.4s\tremaining: 26.6s\n",
            "352:\tlearn: 0.7145017\ttotal: 14.4s\tremaining: 26.5s\n",
            "353:\tlearn: 0.7129010\ttotal: 14.5s\tremaining: 26.4s\n",
            "354:\tlearn: 0.7119713\ttotal: 14.5s\tremaining: 26.3s\n",
            "355:\tlearn: 0.7113746\ttotal: 14.5s\tremaining: 26.2s\n",
            "356:\tlearn: 0.7091795\ttotal: 14.5s\tremaining: 26.1s\n",
            "357:\tlearn: 0.7074538\ttotal: 14.5s\tremaining: 26s\n",
            "358:\tlearn: 0.7058344\ttotal: 14.6s\tremaining: 26s\n",
            "359:\tlearn: 0.7040888\ttotal: 14.6s\tremaining: 25.9s\n",
            "360:\tlearn: 0.7029112\ttotal: 14.6s\tremaining: 25.8s\n",
            "361:\tlearn: 0.7017348\ttotal: 14.6s\tremaining: 25.8s\n",
            "362:\tlearn: 0.7008837\ttotal: 14.7s\tremaining: 25.7s\n",
            "363:\tlearn: 0.7000166\ttotal: 14.7s\tremaining: 25.7s\n",
            "364:\tlearn: 0.6989634\ttotal: 14.7s\tremaining: 25.6s\n",
            "365:\tlearn: 0.6982260\ttotal: 14.8s\tremaining: 25.6s\n",
            "366:\tlearn: 0.6971861\ttotal: 14.8s\tremaining: 25.5s\n",
            "367:\tlearn: 0.6952939\ttotal: 14.9s\tremaining: 25.5s\n",
            "368:\tlearn: 0.6933398\ttotal: 14.9s\tremaining: 25.6s\n",
            "369:\tlearn: 0.6925108\ttotal: 15s\tremaining: 25.5s\n",
            "370:\tlearn: 0.6912248\ttotal: 15s\tremaining: 25.5s\n",
            "371:\tlearn: 0.6902982\ttotal: 15.1s\tremaining: 25.5s\n",
            "372:\tlearn: 0.6890151\ttotal: 15.1s\tremaining: 25.4s\n",
            "373:\tlearn: 0.6881522\ttotal: 15.1s\tremaining: 25.3s\n",
            "374:\tlearn: 0.6864092\ttotal: 15.2s\tremaining: 25.3s\n",
            "375:\tlearn: 0.6856370\ttotal: 15.2s\tremaining: 25.2s\n",
            "376:\tlearn: 0.6834649\ttotal: 15.2s\tremaining: 25.1s\n",
            "377:\tlearn: 0.6827600\ttotal: 15.2s\tremaining: 25s\n",
            "378:\tlearn: 0.6821568\ttotal: 15.2s\tremaining: 24.9s\n",
            "379:\tlearn: 0.6802723\ttotal: 15.2s\tremaining: 24.8s\n",
            "380:\tlearn: 0.6791403\ttotal: 15.3s\tremaining: 24.8s\n",
            "381:\tlearn: 0.6785770\ttotal: 15.3s\tremaining: 24.7s\n",
            "382:\tlearn: 0.6768122\ttotal: 15.3s\tremaining: 24.6s\n",
            "383:\tlearn: 0.6760694\ttotal: 15.3s\tremaining: 24.5s\n",
            "384:\tlearn: 0.6740505\ttotal: 15.3s\tremaining: 24.5s\n",
            "385:\tlearn: 0.6720823\ttotal: 15.3s\tremaining: 24.4s\n",
            "386:\tlearn: 0.6710438\ttotal: 15.4s\tremaining: 24.3s\n",
            "387:\tlearn: 0.6696491\ttotal: 15.4s\tremaining: 24.2s\n",
            "388:\tlearn: 0.6686272\ttotal: 15.4s\tremaining: 24.2s\n",
            "389:\tlearn: 0.6668476\ttotal: 15.4s\tremaining: 24.1s\n",
            "390:\tlearn: 0.6661360\ttotal: 15.4s\tremaining: 24s\n",
            "391:\tlearn: 0.6648553\ttotal: 15.4s\tremaining: 23.9s\n",
            "392:\tlearn: 0.6633633\ttotal: 15.5s\tremaining: 23.9s\n",
            "393:\tlearn: 0.6624327\ttotal: 15.5s\tremaining: 23.8s\n",
            "394:\tlearn: 0.6615384\ttotal: 15.5s\tremaining: 23.7s\n",
            "395:\tlearn: 0.6603394\ttotal: 15.5s\tremaining: 23.6s\n",
            "396:\tlearn: 0.6597897\ttotal: 15.5s\tremaining: 23.6s\n",
            "397:\tlearn: 0.6583089\ttotal: 15.5s\tremaining: 23.5s\n",
            "398:\tlearn: 0.6573361\ttotal: 15.6s\tremaining: 23.4s\n",
            "399:\tlearn: 0.6562239\ttotal: 15.6s\tremaining: 23.4s\n",
            "400:\tlearn: 0.6559359\ttotal: 15.6s\tremaining: 23.3s\n",
            "401:\tlearn: 0.6544839\ttotal: 15.6s\tremaining: 23.3s\n",
            "402:\tlearn: 0.6535346\ttotal: 15.7s\tremaining: 23.2s\n",
            "403:\tlearn: 0.6516576\ttotal: 15.7s\tremaining: 23.1s\n",
            "404:\tlearn: 0.6512887\ttotal: 15.7s\tremaining: 23.1s\n",
            "405:\tlearn: 0.6506202\ttotal: 15.7s\tremaining: 23s\n",
            "406:\tlearn: 0.6497280\ttotal: 15.7s\tremaining: 22.9s\n",
            "407:\tlearn: 0.6491185\ttotal: 15.7s\tremaining: 22.8s\n",
            "408:\tlearn: 0.6478788\ttotal: 15.8s\tremaining: 22.8s\n",
            "409:\tlearn: 0.6467849\ttotal: 15.8s\tremaining: 22.7s\n",
            "410:\tlearn: 0.6454576\ttotal: 15.8s\tremaining: 22.6s\n",
            "411:\tlearn: 0.6448149\ttotal: 15.8s\tremaining: 22.6s\n",
            "412:\tlearn: 0.6437871\ttotal: 15.8s\tremaining: 22.5s\n",
            "413:\tlearn: 0.6432599\ttotal: 15.8s\tremaining: 22.4s\n",
            "414:\tlearn: 0.6413683\ttotal: 15.9s\tremaining: 22.4s\n",
            "415:\tlearn: 0.6397501\ttotal: 15.9s\tremaining: 22.3s\n",
            "416:\tlearn: 0.6384188\ttotal: 15.9s\tremaining: 22.2s\n",
            "417:\tlearn: 0.6371869\ttotal: 15.9s\tremaining: 22.2s\n",
            "418:\tlearn: 0.6360059\ttotal: 16s\tremaining: 22.2s\n",
            "419:\tlearn: 0.6345092\ttotal: 16s\tremaining: 22.1s\n",
            "420:\tlearn: 0.6340827\ttotal: 16s\tremaining: 22.1s\n",
            "421:\tlearn: 0.6336549\ttotal: 16.1s\tremaining: 22s\n",
            "422:\tlearn: 0.6330220\ttotal: 16.1s\tremaining: 21.9s\n",
            "423:\tlearn: 0.6326082\ttotal: 16.1s\tremaining: 21.9s\n",
            "424:\tlearn: 0.6322080\ttotal: 16.1s\tremaining: 21.8s\n",
            "425:\tlearn: 0.6317950\ttotal: 16.1s\tremaining: 21.7s\n",
            "426:\tlearn: 0.6312441\ttotal: 16.1s\tremaining: 21.7s\n",
            "427:\tlearn: 0.6308455\ttotal: 16.2s\tremaining: 21.6s\n",
            "428:\tlearn: 0.6299453\ttotal: 16.2s\tremaining: 21.5s\n",
            "429:\tlearn: 0.6291307\ttotal: 16.2s\tremaining: 21.5s\n",
            "430:\tlearn: 0.6287680\ttotal: 16.2s\tremaining: 21.4s\n",
            "431:\tlearn: 0.6267394\ttotal: 16.2s\tremaining: 21.3s\n",
            "432:\tlearn: 0.6253214\ttotal: 16.2s\tremaining: 21.3s\n",
            "433:\tlearn: 0.6237410\ttotal: 16.3s\tremaining: 21.2s\n",
            "434:\tlearn: 0.6225037\ttotal: 16.3s\tremaining: 21.1s\n",
            "435:\tlearn: 0.6217750\ttotal: 16.3s\tremaining: 21.1s\n",
            "436:\tlearn: 0.6214825\ttotal: 16.3s\tremaining: 21s\n",
            "437:\tlearn: 0.6208684\ttotal: 16.3s\tremaining: 20.9s\n",
            "438:\tlearn: 0.6202712\ttotal: 16.3s\tremaining: 20.9s\n",
            "439:\tlearn: 0.6188634\ttotal: 16.4s\tremaining: 20.8s\n",
            "440:\tlearn: 0.6181162\ttotal: 16.4s\tremaining: 20.7s\n",
            "441:\tlearn: 0.6172091\ttotal: 16.4s\tremaining: 20.7s\n",
            "442:\tlearn: 0.6163897\ttotal: 16.4s\tremaining: 20.6s\n",
            "443:\tlearn: 0.6156049\ttotal: 16.4s\tremaining: 20.6s\n",
            "444:\tlearn: 0.6147755\ttotal: 16.4s\tremaining: 20.5s\n",
            "445:\tlearn: 0.6134650\ttotal: 16.5s\tremaining: 20.4s\n",
            "446:\tlearn: 0.6115390\ttotal: 16.5s\tremaining: 20.4s\n",
            "447:\tlearn: 0.6108533\ttotal: 16.5s\tremaining: 20.3s\n",
            "448:\tlearn: 0.6105245\ttotal: 16.5s\tremaining: 20.2s\n",
            "449:\tlearn: 0.6092227\ttotal: 16.5s\tremaining: 20.2s\n",
            "450:\tlearn: 0.6089430\ttotal: 16.5s\tremaining: 20.1s\n",
            "451:\tlearn: 0.6086119\ttotal: 16.6s\tremaining: 20.1s\n",
            "452:\tlearn: 0.6082199\ttotal: 16.6s\tremaining: 20s\n",
            "453:\tlearn: 0.6076065\ttotal: 16.6s\tremaining: 19.9s\n",
            "454:\tlearn: 0.6072976\ttotal: 16.6s\tremaining: 19.9s\n",
            "455:\tlearn: 0.6065074\ttotal: 16.6s\tremaining: 19.8s\n",
            "456:\tlearn: 0.6062403\ttotal: 16.6s\tremaining: 19.8s\n",
            "457:\tlearn: 0.6058664\ttotal: 16.7s\tremaining: 19.7s\n",
            "458:\tlearn: 0.6050242\ttotal: 16.7s\tremaining: 19.7s\n",
            "459:\tlearn: 0.6044717\ttotal: 16.7s\tremaining: 19.6s\n",
            "460:\tlearn: 0.6035681\ttotal: 16.8s\tremaining: 19.6s\n",
            "461:\tlearn: 0.6029281\ttotal: 16.8s\tremaining: 19.6s\n",
            "462:\tlearn: 0.6026071\ttotal: 16.9s\tremaining: 19.6s\n",
            "463:\tlearn: 0.6018180\ttotal: 16.9s\tremaining: 19.5s\n",
            "464:\tlearn: 0.6007481\ttotal: 17s\tremaining: 19.5s\n",
            "465:\tlearn: 0.5987606\ttotal: 17s\tremaining: 19.5s\n",
            "466:\tlearn: 0.5975274\ttotal: 17s\tremaining: 19.4s\n",
            "467:\tlearn: 0.5968121\ttotal: 17.1s\tremaining: 19.4s\n",
            "468:\tlearn: 0.5957808\ttotal: 17.1s\tremaining: 19.4s\n",
            "469:\tlearn: 0.5946952\ttotal: 17.2s\tremaining: 19.4s\n",
            "470:\tlearn: 0.5943983\ttotal: 17.2s\tremaining: 19.4s\n",
            "471:\tlearn: 0.5937163\ttotal: 17.3s\tremaining: 19.3s\n",
            "472:\tlearn: 0.5931846\ttotal: 17.3s\tremaining: 19.3s\n",
            "473:\tlearn: 0.5913740\ttotal: 17.3s\tremaining: 19.2s\n",
            "474:\tlearn: 0.5897857\ttotal: 17.3s\tremaining: 19.2s\n",
            "475:\tlearn: 0.5893486\ttotal: 17.4s\tremaining: 19.1s\n",
            "476:\tlearn: 0.5887357\ttotal: 17.4s\tremaining: 19.1s\n",
            "477:\tlearn: 0.5879437\ttotal: 17.4s\tremaining: 19s\n",
            "478:\tlearn: 0.5873781\ttotal: 17.4s\tremaining: 19s\n",
            "479:\tlearn: 0.5867263\ttotal: 17.5s\tremaining: 18.9s\n",
            "480:\tlearn: 0.5862377\ttotal: 17.5s\tremaining: 18.9s\n",
            "481:\tlearn: 0.5857936\ttotal: 17.5s\tremaining: 18.8s\n",
            "482:\tlearn: 0.5848915\ttotal: 17.5s\tremaining: 18.7s\n",
            "483:\tlearn: 0.5839508\ttotal: 17.5s\tremaining: 18.7s\n",
            "484:\tlearn: 0.5834033\ttotal: 17.5s\tremaining: 18.6s\n",
            "485:\tlearn: 0.5831196\ttotal: 17.6s\tremaining: 18.6s\n",
            "486:\tlearn: 0.5819530\ttotal: 17.6s\tremaining: 18.5s\n",
            "487:\tlearn: 0.5802944\ttotal: 17.6s\tremaining: 18.5s\n",
            "488:\tlearn: 0.5795585\ttotal: 17.6s\tremaining: 18.4s\n",
            "489:\tlearn: 0.5789433\ttotal: 17.6s\tremaining: 18.3s\n",
            "490:\tlearn: 0.5781848\ttotal: 17.6s\tremaining: 18.3s\n",
            "491:\tlearn: 0.5780118\ttotal: 17.7s\tremaining: 18.2s\n",
            "492:\tlearn: 0.5764967\ttotal: 17.7s\tremaining: 18.2s\n",
            "493:\tlearn: 0.5754470\ttotal: 17.7s\tremaining: 18.1s\n",
            "494:\tlearn: 0.5748813\ttotal: 17.7s\tremaining: 18.1s\n",
            "495:\tlearn: 0.5741354\ttotal: 17.7s\tremaining: 18s\n",
            "496:\tlearn: 0.5738299\ttotal: 17.8s\tremaining: 18s\n",
            "497:\tlearn: 0.5735612\ttotal: 17.8s\tremaining: 17.9s\n",
            "498:\tlearn: 0.5731282\ttotal: 17.8s\tremaining: 17.9s\n",
            "499:\tlearn: 0.5715850\ttotal: 17.8s\tremaining: 17.8s\n",
            "500:\tlearn: 0.5713250\ttotal: 17.8s\tremaining: 17.7s\n",
            "501:\tlearn: 0.5708160\ttotal: 17.8s\tremaining: 17.7s\n",
            "502:\tlearn: 0.5700982\ttotal: 17.9s\tremaining: 17.6s\n",
            "503:\tlearn: 0.5695690\ttotal: 17.9s\tremaining: 17.6s\n",
            "504:\tlearn: 0.5693229\ttotal: 17.9s\tremaining: 17.5s\n",
            "505:\tlearn: 0.5678595\ttotal: 17.9s\tremaining: 17.5s\n",
            "506:\tlearn: 0.5667766\ttotal: 17.9s\tremaining: 17.4s\n",
            "507:\tlearn: 0.5661814\ttotal: 17.9s\tremaining: 17.4s\n",
            "508:\tlearn: 0.5659414\ttotal: 18s\tremaining: 17.3s\n",
            "509:\tlearn: 0.5647058\ttotal: 18s\tremaining: 17.3s\n",
            "510:\tlearn: 0.5629144\ttotal: 18s\tremaining: 17.2s\n",
            "511:\tlearn: 0.5624487\ttotal: 18s\tremaining: 17.2s\n",
            "512:\tlearn: 0.5616655\ttotal: 18s\tremaining: 17.1s\n",
            "513:\tlearn: 0.5614359\ttotal: 18.1s\tremaining: 17.1s\n",
            "514:\tlearn: 0.5603539\ttotal: 18.1s\tremaining: 17s\n",
            "515:\tlearn: 0.5593866\ttotal: 18.1s\tremaining: 17s\n",
            "516:\tlearn: 0.5579875\ttotal: 18.1s\tremaining: 16.9s\n",
            "517:\tlearn: 0.5577078\ttotal: 18.1s\tremaining: 16.9s\n",
            "518:\tlearn: 0.5573749\ttotal: 18.2s\tremaining: 16.8s\n",
            "519:\tlearn: 0.5563075\ttotal: 18.2s\tremaining: 16.8s\n",
            "520:\tlearn: 0.5557611\ttotal: 18.2s\tremaining: 16.7s\n",
            "521:\tlearn: 0.5553389\ttotal: 18.2s\tremaining: 16.7s\n",
            "522:\tlearn: 0.5550847\ttotal: 18.2s\tremaining: 16.6s\n",
            "523:\tlearn: 0.5545514\ttotal: 18.2s\tremaining: 16.6s\n",
            "524:\tlearn: 0.5540847\ttotal: 18.2s\tremaining: 16.5s\n",
            "525:\tlearn: 0.5536478\ttotal: 18.3s\tremaining: 16.5s\n",
            "526:\tlearn: 0.5521547\ttotal: 18.3s\tremaining: 16.4s\n",
            "527:\tlearn: 0.5510029\ttotal: 18.3s\tremaining: 16.4s\n",
            "528:\tlearn: 0.5506190\ttotal: 18.3s\tremaining: 16.3s\n",
            "529:\tlearn: 0.5500485\ttotal: 18.3s\tremaining: 16.3s\n",
            "530:\tlearn: 0.5491398\ttotal: 18.4s\tremaining: 16.2s\n",
            "531:\tlearn: 0.5486865\ttotal: 18.4s\tremaining: 16.2s\n",
            "532:\tlearn: 0.5483894\ttotal: 18.4s\tremaining: 16.1s\n",
            "533:\tlearn: 0.5479206\ttotal: 18.4s\tremaining: 16.1s\n",
            "534:\tlearn: 0.5473668\ttotal: 18.4s\tremaining: 16s\n",
            "535:\tlearn: 0.5464971\ttotal: 18.4s\tremaining: 16s\n",
            "536:\tlearn: 0.5458664\ttotal: 18.5s\tremaining: 15.9s\n",
            "537:\tlearn: 0.5445829\ttotal: 18.5s\tremaining: 15.9s\n",
            "538:\tlearn: 0.5437901\ttotal: 18.5s\tremaining: 15.8s\n",
            "539:\tlearn: 0.5433096\ttotal: 18.5s\tremaining: 15.8s\n",
            "540:\tlearn: 0.5427132\ttotal: 18.5s\tremaining: 15.7s\n",
            "541:\tlearn: 0.5421611\ttotal: 18.5s\tremaining: 15.7s\n",
            "542:\tlearn: 0.5417101\ttotal: 18.6s\tremaining: 15.6s\n",
            "543:\tlearn: 0.5413988\ttotal: 18.6s\tremaining: 15.6s\n",
            "544:\tlearn: 0.5410785\ttotal: 18.6s\tremaining: 15.6s\n",
            "545:\tlearn: 0.5402180\ttotal: 18.7s\tremaining: 15.5s\n",
            "546:\tlearn: 0.5399642\ttotal: 18.7s\tremaining: 15.5s\n",
            "547:\tlearn: 0.5382441\ttotal: 18.7s\tremaining: 15.5s\n",
            "548:\tlearn: 0.5373681\ttotal: 18.8s\tremaining: 15.4s\n",
            "549:\tlearn: 0.5368605\ttotal: 18.8s\tremaining: 15.4s\n",
            "550:\tlearn: 0.5363968\ttotal: 18.8s\tremaining: 15.4s\n",
            "551:\tlearn: 0.5356128\ttotal: 18.9s\tremaining: 15.3s\n",
            "552:\tlearn: 0.5351072\ttotal: 18.9s\tremaining: 15.3s\n",
            "553:\tlearn: 0.5342107\ttotal: 18.9s\tremaining: 15.2s\n",
            "554:\tlearn: 0.5339223\ttotal: 18.9s\tremaining: 15.2s\n",
            "555:\tlearn: 0.5328442\ttotal: 18.9s\tremaining: 15.1s\n",
            "556:\tlearn: 0.5326585\ttotal: 19s\tremaining: 15.1s\n",
            "557:\tlearn: 0.5315208\ttotal: 19s\tremaining: 15s\n",
            "558:\tlearn: 0.5310624\ttotal: 19s\tremaining: 15s\n",
            "559:\tlearn: 0.5305103\ttotal: 19s\tremaining: 14.9s\n",
            "560:\tlearn: 0.5293758\ttotal: 19s\tremaining: 14.9s\n",
            "561:\tlearn: 0.5282671\ttotal: 19s\tremaining: 14.8s\n",
            "562:\tlearn: 0.5280304\ttotal: 19.1s\tremaining: 14.8s\n",
            "563:\tlearn: 0.5270295\ttotal: 19.1s\tremaining: 14.8s\n",
            "564:\tlearn: 0.5266216\ttotal: 19.1s\tremaining: 14.7s\n",
            "565:\tlearn: 0.5263906\ttotal: 19.2s\tremaining: 14.7s\n",
            "566:\tlearn: 0.5259335\ttotal: 19.2s\tremaining: 14.7s\n",
            "567:\tlearn: 0.5249693\ttotal: 19.2s\tremaining: 14.6s\n",
            "568:\tlearn: 0.5242655\ttotal: 19.3s\tremaining: 14.6s\n",
            "569:\tlearn: 0.5240455\ttotal: 19.3s\tremaining: 14.5s\n",
            "570:\tlearn: 0.5237564\ttotal: 19.3s\tremaining: 14.5s\n",
            "571:\tlearn: 0.5228387\ttotal: 19.4s\tremaining: 14.5s\n",
            "572:\tlearn: 0.5220753\ttotal: 19.4s\tremaining: 14.4s\n",
            "573:\tlearn: 0.5216986\ttotal: 19.4s\tremaining: 14.4s\n",
            "574:\tlearn: 0.5209092\ttotal: 19.5s\tremaining: 14.4s\n",
            "575:\tlearn: 0.5203902\ttotal: 19.5s\tremaining: 14.4s\n",
            "576:\tlearn: 0.5196174\ttotal: 19.5s\tremaining: 14.3s\n",
            "577:\tlearn: 0.5187855\ttotal: 19.5s\tremaining: 14.3s\n",
            "578:\tlearn: 0.5180549\ttotal: 19.6s\tremaining: 14.2s\n",
            "579:\tlearn: 0.5175450\ttotal: 19.6s\tremaining: 14.2s\n",
            "580:\tlearn: 0.5167347\ttotal: 19.6s\tremaining: 14.1s\n",
            "581:\tlearn: 0.5156506\ttotal: 19.6s\tremaining: 14.1s\n",
            "582:\tlearn: 0.5152087\ttotal: 19.6s\tremaining: 14s\n",
            "583:\tlearn: 0.5143635\ttotal: 19.6s\tremaining: 14s\n",
            "584:\tlearn: 0.5138662\ttotal: 19.7s\tremaining: 13.9s\n",
            "585:\tlearn: 0.5130440\ttotal: 19.7s\tremaining: 13.9s\n",
            "586:\tlearn: 0.5125662\ttotal: 19.7s\tremaining: 13.8s\n",
            "587:\tlearn: 0.5118625\ttotal: 19.7s\tremaining: 13.8s\n",
            "588:\tlearn: 0.5112337\ttotal: 19.7s\tremaining: 13.8s\n",
            "589:\tlearn: 0.5098160\ttotal: 19.7s\tremaining: 13.7s\n",
            "590:\tlearn: 0.5089170\ttotal: 19.8s\tremaining: 13.7s\n",
            "591:\tlearn: 0.5086202\ttotal: 19.8s\tremaining: 13.6s\n",
            "592:\tlearn: 0.5077639\ttotal: 19.8s\tremaining: 13.6s\n",
            "593:\tlearn: 0.5072575\ttotal: 19.8s\tremaining: 13.5s\n",
            "594:\tlearn: 0.5067177\ttotal: 19.8s\tremaining: 13.5s\n",
            "595:\tlearn: 0.5058240\ttotal: 19.8s\tremaining: 13.4s\n",
            "596:\tlearn: 0.5055212\ttotal: 19.9s\tremaining: 13.4s\n",
            "597:\tlearn: 0.5051783\ttotal: 19.9s\tremaining: 13.4s\n",
            "598:\tlearn: 0.5047225\ttotal: 19.9s\tremaining: 13.3s\n",
            "599:\tlearn: 0.5044732\ttotal: 20s\tremaining: 13.3s\n",
            "600:\tlearn: 0.5036925\ttotal: 20s\tremaining: 13.3s\n",
            "601:\tlearn: 0.5032739\ttotal: 20s\tremaining: 13.3s\n",
            "602:\tlearn: 0.5025203\ttotal: 20.1s\tremaining: 13.2s\n",
            "603:\tlearn: 0.5021664\ttotal: 20.1s\tremaining: 13.2s\n",
            "604:\tlearn: 0.5017905\ttotal: 20.1s\tremaining: 13.1s\n",
            "605:\tlearn: 0.5010549\ttotal: 20.1s\tremaining: 13.1s\n",
            "606:\tlearn: 0.5008291\ttotal: 20.1s\tremaining: 13s\n",
            "607:\tlearn: 0.5000306\ttotal: 20.2s\tremaining: 13s\n",
            "608:\tlearn: 0.4997194\ttotal: 20.2s\tremaining: 13s\n",
            "609:\tlearn: 0.4993281\ttotal: 20.2s\tremaining: 12.9s\n",
            "610:\tlearn: 0.4984699\ttotal: 20.2s\tremaining: 12.9s\n",
            "611:\tlearn: 0.4979971\ttotal: 20.2s\tremaining: 12.8s\n",
            "612:\tlearn: 0.4969269\ttotal: 20.3s\tremaining: 12.8s\n",
            "613:\tlearn: 0.4964679\ttotal: 20.3s\tremaining: 12.7s\n",
            "614:\tlearn: 0.4952533\ttotal: 20.3s\tremaining: 12.7s\n",
            "615:\tlearn: 0.4949355\ttotal: 20.3s\tremaining: 12.7s\n",
            "616:\tlearn: 0.4946227\ttotal: 20.3s\tremaining: 12.6s\n",
            "617:\tlearn: 0.4941727\ttotal: 20.3s\tremaining: 12.6s\n",
            "618:\tlearn: 0.4932410\ttotal: 20.3s\tremaining: 12.5s\n",
            "619:\tlearn: 0.4921690\ttotal: 20.4s\tremaining: 12.5s\n",
            "620:\tlearn: 0.4915833\ttotal: 20.4s\tremaining: 12.4s\n",
            "621:\tlearn: 0.4914487\ttotal: 20.4s\tremaining: 12.4s\n",
            "622:\tlearn: 0.4910456\ttotal: 20.4s\tremaining: 12.4s\n",
            "623:\tlearn: 0.4906973\ttotal: 20.5s\tremaining: 12.3s\n",
            "624:\tlearn: 0.4898579\ttotal: 20.5s\tremaining: 12.3s\n",
            "625:\tlearn: 0.4894444\ttotal: 20.5s\tremaining: 12.3s\n",
            "626:\tlearn: 0.4890299\ttotal: 20.6s\tremaining: 12.2s\n",
            "627:\tlearn: 0.4882578\ttotal: 20.6s\tremaining: 12.2s\n",
            "628:\tlearn: 0.4877000\ttotal: 20.6s\tremaining: 12.2s\n",
            "629:\tlearn: 0.4871437\ttotal: 20.6s\tremaining: 12.1s\n",
            "630:\tlearn: 0.4863610\ttotal: 20.7s\tremaining: 12.1s\n",
            "631:\tlearn: 0.4859285\ttotal: 20.7s\tremaining: 12s\n",
            "632:\tlearn: 0.4856513\ttotal: 20.7s\tremaining: 12s\n",
            "633:\tlearn: 0.4854505\ttotal: 20.7s\tremaining: 12s\n",
            "634:\tlearn: 0.4847780\ttotal: 20.7s\tremaining: 11.9s\n",
            "635:\tlearn: 0.4842581\ttotal: 20.7s\tremaining: 11.9s\n",
            "636:\tlearn: 0.4839046\ttotal: 20.8s\tremaining: 11.8s\n",
            "637:\tlearn: 0.4828530\ttotal: 20.8s\tremaining: 11.8s\n",
            "638:\tlearn: 0.4822201\ttotal: 20.8s\tremaining: 11.8s\n",
            "639:\tlearn: 0.4816135\ttotal: 20.8s\tremaining: 11.7s\n",
            "640:\tlearn: 0.4814361\ttotal: 20.8s\tremaining: 11.7s\n",
            "641:\tlearn: 0.4809747\ttotal: 20.9s\tremaining: 11.6s\n",
            "642:\tlearn: 0.4806733\ttotal: 20.9s\tremaining: 11.6s\n",
            "643:\tlearn: 0.4803993\ttotal: 20.9s\tremaining: 11.5s\n",
            "644:\tlearn: 0.4797710\ttotal: 20.9s\tremaining: 11.5s\n",
            "645:\tlearn: 0.4793969\ttotal: 20.9s\tremaining: 11.5s\n",
            "646:\tlearn: 0.4788762\ttotal: 21s\tremaining: 11.4s\n",
            "647:\tlearn: 0.4782451\ttotal: 21s\tremaining: 11.4s\n",
            "648:\tlearn: 0.4778259\ttotal: 21s\tremaining: 11.4s\n",
            "649:\tlearn: 0.4770709\ttotal: 21.1s\tremaining: 11.4s\n",
            "650:\tlearn: 0.4765464\ttotal: 21.1s\tremaining: 11.3s\n",
            "651:\tlearn: 0.4760171\ttotal: 21.1s\tremaining: 11.3s\n",
            "652:\tlearn: 0.4758295\ttotal: 21.2s\tremaining: 11.2s\n",
            "653:\tlearn: 0.4754545\ttotal: 21.2s\tremaining: 11.2s\n",
            "654:\tlearn: 0.4746681\ttotal: 21.2s\tremaining: 11.2s\n",
            "655:\tlearn: 0.4741237\ttotal: 21.3s\tremaining: 11.2s\n",
            "656:\tlearn: 0.4735118\ttotal: 21.3s\tremaining: 11.1s\n",
            "657:\tlearn: 0.4730675\ttotal: 21.3s\tremaining: 11.1s\n",
            "658:\tlearn: 0.4725512\ttotal: 21.3s\tremaining: 11s\n",
            "659:\tlearn: 0.4719531\ttotal: 21.4s\tremaining: 11s\n",
            "660:\tlearn: 0.4708831\ttotal: 21.5s\tremaining: 11s\n",
            "661:\tlearn: 0.4707064\ttotal: 21.5s\tremaining: 11s\n",
            "662:\tlearn: 0.4701486\ttotal: 21.5s\tremaining: 10.9s\n",
            "663:\tlearn: 0.4697376\ttotal: 21.5s\tremaining: 10.9s\n",
            "664:\tlearn: 0.4693223\ttotal: 21.5s\tremaining: 10.9s\n",
            "665:\tlearn: 0.4683453\ttotal: 21.6s\tremaining: 10.8s\n",
            "666:\tlearn: 0.4680346\ttotal: 21.6s\tremaining: 10.8s\n",
            "667:\tlearn: 0.4677656\ttotal: 21.6s\tremaining: 10.7s\n",
            "668:\tlearn: 0.4674967\ttotal: 21.6s\tremaining: 10.7s\n",
            "669:\tlearn: 0.4668810\ttotal: 21.6s\tremaining: 10.7s\n",
            "670:\tlearn: 0.4662192\ttotal: 21.6s\tremaining: 10.6s\n",
            "671:\tlearn: 0.4655397\ttotal: 21.7s\tremaining: 10.6s\n",
            "672:\tlearn: 0.4650011\ttotal: 21.7s\tremaining: 10.5s\n",
            "673:\tlearn: 0.4646782\ttotal: 21.7s\tremaining: 10.5s\n",
            "674:\tlearn: 0.4642296\ttotal: 21.7s\tremaining: 10.5s\n",
            "675:\tlearn: 0.4631314\ttotal: 21.7s\tremaining: 10.4s\n",
            "676:\tlearn: 0.4628240\ttotal: 21.8s\tremaining: 10.4s\n",
            "677:\tlearn: 0.4623530\ttotal: 21.8s\tremaining: 10.3s\n",
            "678:\tlearn: 0.4620667\ttotal: 21.8s\tremaining: 10.3s\n",
            "679:\tlearn: 0.4618837\ttotal: 21.8s\tremaining: 10.3s\n",
            "680:\tlearn: 0.4613104\ttotal: 21.8s\tremaining: 10.2s\n",
            "681:\tlearn: 0.4611689\ttotal: 21.8s\tremaining: 10.2s\n",
            "682:\tlearn: 0.4608638\ttotal: 21.9s\tremaining: 10.1s\n",
            "683:\tlearn: 0.4603417\ttotal: 21.9s\tremaining: 10.1s\n",
            "684:\tlearn: 0.4597883\ttotal: 21.9s\tremaining: 10.1s\n",
            "685:\tlearn: 0.4593495\ttotal: 21.9s\tremaining: 10s\n",
            "686:\tlearn: 0.4590281\ttotal: 21.9s\tremaining: 9.99s\n",
            "687:\tlearn: 0.4588337\ttotal: 21.9s\tremaining: 9.95s\n",
            "688:\tlearn: 0.4584910\ttotal: 22s\tremaining: 9.91s\n",
            "689:\tlearn: 0.4582589\ttotal: 22s\tremaining: 9.87s\n",
            "690:\tlearn: 0.4577432\ttotal: 22s\tremaining: 9.83s\n",
            "691:\tlearn: 0.4573417\ttotal: 22s\tremaining: 9.8s\n",
            "692:\tlearn: 0.4567203\ttotal: 22s\tremaining: 9.76s\n",
            "693:\tlearn: 0.4564014\ttotal: 22.1s\tremaining: 9.73s\n",
            "694:\tlearn: 0.4561638\ttotal: 22.1s\tremaining: 9.71s\n",
            "695:\tlearn: 0.4555590\ttotal: 22.1s\tremaining: 9.67s\n",
            "696:\tlearn: 0.4553332\ttotal: 22.2s\tremaining: 9.64s\n",
            "697:\tlearn: 0.4551280\ttotal: 22.2s\tremaining: 9.6s\n",
            "698:\tlearn: 0.4548442\ttotal: 22.2s\tremaining: 9.56s\n",
            "699:\tlearn: 0.4542792\ttotal: 22.2s\tremaining: 9.52s\n",
            "700:\tlearn: 0.4533542\ttotal: 22.2s\tremaining: 9.48s\n",
            "701:\tlearn: 0.4528887\ttotal: 22.2s\tremaining: 9.44s\n",
            "702:\tlearn: 0.4527294\ttotal: 22.3s\tremaining: 9.4s\n",
            "703:\tlearn: 0.4520918\ttotal: 22.3s\tremaining: 9.37s\n",
            "704:\tlearn: 0.4519004\ttotal: 22.3s\tremaining: 9.33s\n",
            "705:\tlearn: 0.4511914\ttotal: 22.3s\tremaining: 9.29s\n",
            "706:\tlearn: 0.4510159\ttotal: 22.3s\tremaining: 9.26s\n",
            "707:\tlearn: 0.4505825\ttotal: 22.4s\tremaining: 9.22s\n",
            "708:\tlearn: 0.4501330\ttotal: 22.4s\tremaining: 9.18s\n",
            "709:\tlearn: 0.4496057\ttotal: 22.4s\tremaining: 9.14s\n",
            "710:\tlearn: 0.4490800\ttotal: 22.4s\tremaining: 9.11s\n",
            "711:\tlearn: 0.4486431\ttotal: 22.4s\tremaining: 9.07s\n",
            "712:\tlearn: 0.4481455\ttotal: 22.4s\tremaining: 9.04s\n",
            "713:\tlearn: 0.4478603\ttotal: 22.5s\tremaining: 9s\n",
            "714:\tlearn: 0.4468830\ttotal: 22.5s\tremaining: 8.96s\n",
            "715:\tlearn: 0.4460930\ttotal: 22.5s\tremaining: 8.93s\n",
            "716:\tlearn: 0.4452737\ttotal: 22.5s\tremaining: 8.89s\n",
            "717:\tlearn: 0.4448766\ttotal: 22.5s\tremaining: 8.85s\n",
            "718:\tlearn: 0.4445029\ttotal: 22.6s\tremaining: 8.81s\n",
            "719:\tlearn: 0.4441910\ttotal: 22.6s\tremaining: 8.78s\n",
            "720:\tlearn: 0.4438267\ttotal: 22.6s\tremaining: 8.74s\n",
            "721:\tlearn: 0.4435277\ttotal: 22.6s\tremaining: 8.71s\n",
            "722:\tlearn: 0.4430106\ttotal: 22.6s\tremaining: 8.67s\n",
            "723:\tlearn: 0.4428730\ttotal: 22.7s\tremaining: 8.64s\n",
            "724:\tlearn: 0.4424219\ttotal: 22.7s\tremaining: 8.61s\n",
            "725:\tlearn: 0.4418876\ttotal: 22.7s\tremaining: 8.58s\n",
            "726:\tlearn: 0.4414592\ttotal: 22.8s\tremaining: 8.55s\n",
            "727:\tlearn: 0.4410745\ttotal: 22.8s\tremaining: 8.52s\n",
            "728:\tlearn: 0.4407614\ttotal: 22.9s\tremaining: 8.5s\n",
            "729:\tlearn: 0.4401371\ttotal: 22.9s\tremaining: 8.47s\n",
            "730:\tlearn: 0.4399736\ttotal: 23s\tremaining: 8.46s\n",
            "731:\tlearn: 0.4393283\ttotal: 23.1s\tremaining: 8.44s\n",
            "732:\tlearn: 0.4392472\ttotal: 23.1s\tremaining: 8.42s\n",
            "733:\tlearn: 0.4387420\ttotal: 23.2s\tremaining: 8.4s\n",
            "734:\tlearn: 0.4378135\ttotal: 23.2s\tremaining: 8.38s\n",
            "735:\tlearn: 0.4374476\ttotal: 23.3s\tremaining: 8.36s\n",
            "736:\tlearn: 0.4366657\ttotal: 23.4s\tremaining: 8.36s\n",
            "737:\tlearn: 0.4361560\ttotal: 23.5s\tremaining: 8.35s\n",
            "738:\tlearn: 0.4360351\ttotal: 23.6s\tremaining: 8.33s\n",
            "739:\tlearn: 0.4355792\ttotal: 23.6s\tremaining: 8.31s\n",
            "740:\tlearn: 0.4352219\ttotal: 23.7s\tremaining: 8.28s\n",
            "741:\tlearn: 0.4349312\ttotal: 23.7s\tremaining: 8.26s\n",
            "742:\tlearn: 0.4341451\ttotal: 23.8s\tremaining: 8.24s\n",
            "743:\tlearn: 0.4335547\ttotal: 23.9s\tremaining: 8.21s\n",
            "744:\tlearn: 0.4327293\ttotal: 23.9s\tremaining: 8.18s\n",
            "745:\tlearn: 0.4325158\ttotal: 23.9s\tremaining: 8.14s\n",
            "746:\tlearn: 0.4322899\ttotal: 24s\tremaining: 8.11s\n",
            "747:\tlearn: 0.4318650\ttotal: 24s\tremaining: 8.08s\n",
            "748:\tlearn: 0.4316566\ttotal: 24s\tremaining: 8.05s\n",
            "749:\tlearn: 0.4313579\ttotal: 24.1s\tremaining: 8.03s\n",
            "750:\tlearn: 0.4309684\ttotal: 24.1s\tremaining: 8.01s\n",
            "751:\tlearn: 0.4307406\ttotal: 24.2s\tremaining: 7.99s\n",
            "752:\tlearn: 0.4304534\ttotal: 24.3s\tremaining: 7.97s\n",
            "753:\tlearn: 0.4300258\ttotal: 24.4s\tremaining: 7.95s\n",
            "754:\tlearn: 0.4292673\ttotal: 24.4s\tremaining: 7.93s\n",
            "755:\tlearn: 0.4286378\ttotal: 24.5s\tremaining: 7.91s\n",
            "756:\tlearn: 0.4283289\ttotal: 24.6s\tremaining: 7.89s\n",
            "757:\tlearn: 0.4281548\ttotal: 24.7s\tremaining: 7.88s\n",
            "758:\tlearn: 0.4279639\ttotal: 24.8s\tremaining: 7.86s\n",
            "759:\tlearn: 0.4278147\ttotal: 24.9s\tremaining: 7.85s\n",
            "760:\tlearn: 0.4273920\ttotal: 24.9s\tremaining: 7.83s\n",
            "761:\tlearn: 0.4265262\ttotal: 25s\tremaining: 7.82s\n",
            "762:\tlearn: 0.4259695\ttotal: 25.1s\tremaining: 7.8s\n",
            "763:\tlearn: 0.4255604\ttotal: 25.2s\tremaining: 7.78s\n",
            "764:\tlearn: 0.4252414\ttotal: 25.3s\tremaining: 7.76s\n",
            "765:\tlearn: 0.4247056\ttotal: 25.3s\tremaining: 7.74s\n",
            "766:\tlearn: 0.4243904\ttotal: 25.4s\tremaining: 7.71s\n",
            "767:\tlearn: 0.4239002\ttotal: 25.5s\tremaining: 7.7s\n",
            "768:\tlearn: 0.4234999\ttotal: 25.5s\tremaining: 7.67s\n",
            "769:\tlearn: 0.4228198\ttotal: 25.6s\tremaining: 7.64s\n",
            "770:\tlearn: 0.4224701\ttotal: 25.6s\tremaining: 7.61s\n",
            "771:\tlearn: 0.4216089\ttotal: 25.7s\tremaining: 7.59s\n",
            "772:\tlearn: 0.4208059\ttotal: 25.7s\tremaining: 7.56s\n",
            "773:\tlearn: 0.4203521\ttotal: 25.8s\tremaining: 7.53s\n",
            "774:\tlearn: 0.4200012\ttotal: 25.9s\tremaining: 7.51s\n",
            "775:\tlearn: 0.4198135\ttotal: 25.9s\tremaining: 7.47s\n",
            "776:\tlearn: 0.4194501\ttotal: 25.9s\tremaining: 7.44s\n",
            "777:\tlearn: 0.4191751\ttotal: 26s\tremaining: 7.41s\n",
            "778:\tlearn: 0.4187806\ttotal: 26s\tremaining: 7.39s\n",
            "779:\tlearn: 0.4186282\ttotal: 26.1s\tremaining: 7.36s\n",
            "780:\tlearn: 0.4181138\ttotal: 26.1s\tremaining: 7.33s\n",
            "781:\tlearn: 0.4178039\ttotal: 26.2s\tremaining: 7.3s\n",
            "782:\tlearn: 0.4176902\ttotal: 26.3s\tremaining: 7.28s\n",
            "783:\tlearn: 0.4171693\ttotal: 26.3s\tremaining: 7.24s\n",
            "784:\tlearn: 0.4165425\ttotal: 26.4s\tremaining: 7.22s\n",
            "785:\tlearn: 0.4162222\ttotal: 26.4s\tremaining: 7.19s\n",
            "786:\tlearn: 0.4158137\ttotal: 26.5s\tremaining: 7.16s\n",
            "787:\tlearn: 0.4155352\ttotal: 26.5s\tremaining: 7.13s\n",
            "788:\tlearn: 0.4150047\ttotal: 26.6s\tremaining: 7.1s\n",
            "789:\tlearn: 0.4146844\ttotal: 26.6s\tremaining: 7.07s\n",
            "790:\tlearn: 0.4144507\ttotal: 26.7s\tremaining: 7.04s\n",
            "791:\tlearn: 0.4138588\ttotal: 26.7s\tremaining: 7.02s\n",
            "792:\tlearn: 0.4135136\ttotal: 26.8s\tremaining: 7s\n",
            "793:\tlearn: 0.4129980\ttotal: 26.8s\tremaining: 6.96s\n",
            "794:\tlearn: 0.4123185\ttotal: 26.9s\tremaining: 6.93s\n",
            "795:\tlearn: 0.4116982\ttotal: 26.9s\tremaining: 6.9s\n",
            "796:\tlearn: 0.4112637\ttotal: 27s\tremaining: 6.87s\n",
            "797:\tlearn: 0.4106677\ttotal: 27s\tremaining: 6.84s\n",
            "798:\tlearn: 0.4102682\ttotal: 27.1s\tremaining: 6.81s\n",
            "799:\tlearn: 0.4100333\ttotal: 27.1s\tremaining: 6.78s\n",
            "800:\tlearn: 0.4098091\ttotal: 27.2s\tremaining: 6.75s\n",
            "801:\tlearn: 0.4090918\ttotal: 27.2s\tremaining: 6.72s\n",
            "802:\tlearn: 0.4087769\ttotal: 27.3s\tremaining: 6.69s\n",
            "803:\tlearn: 0.4086266\ttotal: 27.3s\tremaining: 6.65s\n",
            "804:\tlearn: 0.4081737\ttotal: 27.3s\tremaining: 6.62s\n",
            "805:\tlearn: 0.4079875\ttotal: 27.4s\tremaining: 6.58s\n",
            "806:\tlearn: 0.4073062\ttotal: 27.4s\tremaining: 6.55s\n",
            "807:\tlearn: 0.4066475\ttotal: 27.4s\tremaining: 6.51s\n",
            "808:\tlearn: 0.4064138\ttotal: 27.4s\tremaining: 6.47s\n",
            "809:\tlearn: 0.4060030\ttotal: 27.5s\tremaining: 6.45s\n",
            "810:\tlearn: 0.4056771\ttotal: 27.5s\tremaining: 6.41s\n",
            "811:\tlearn: 0.4054712\ttotal: 27.6s\tremaining: 6.38s\n",
            "812:\tlearn: 0.4051869\ttotal: 27.6s\tremaining: 6.34s\n",
            "813:\tlearn: 0.4050254\ttotal: 27.6s\tremaining: 6.31s\n",
            "814:\tlearn: 0.4047143\ttotal: 27.7s\tremaining: 6.28s\n",
            "815:\tlearn: 0.4042862\ttotal: 27.7s\tremaining: 6.25s\n",
            "816:\tlearn: 0.4039269\ttotal: 27.7s\tremaining: 6.21s\n",
            "817:\tlearn: 0.4035184\ttotal: 27.8s\tremaining: 6.18s\n",
            "818:\tlearn: 0.4030428\ttotal: 27.8s\tremaining: 6.15s\n",
            "819:\tlearn: 0.4029316\ttotal: 27.8s\tremaining: 6.11s\n",
            "820:\tlearn: 0.4026598\ttotal: 27.9s\tremaining: 6.08s\n",
            "821:\tlearn: 0.4023531\ttotal: 27.9s\tremaining: 6.05s\n",
            "822:\tlearn: 0.4020559\ttotal: 28s\tremaining: 6.01s\n",
            "823:\tlearn: 0.4018232\ttotal: 28s\tremaining: 5.98s\n",
            "824:\tlearn: 0.4011675\ttotal: 28s\tremaining: 5.95s\n",
            "825:\tlearn: 0.4008202\ttotal: 28.1s\tremaining: 5.91s\n",
            "826:\tlearn: 0.4006476\ttotal: 28.1s\tremaining: 5.88s\n",
            "827:\tlearn: 0.4002918\ttotal: 28.2s\tremaining: 5.85s\n",
            "828:\tlearn: 0.4000422\ttotal: 28.2s\tremaining: 5.82s\n",
            "829:\tlearn: 0.3996845\ttotal: 28.2s\tremaining: 5.78s\n",
            "830:\tlearn: 0.3992804\ttotal: 28.3s\tremaining: 5.75s\n",
            "831:\tlearn: 0.3987154\ttotal: 28.3s\tremaining: 5.72s\n",
            "832:\tlearn: 0.3985344\ttotal: 28.4s\tremaining: 5.69s\n",
            "833:\tlearn: 0.3980413\ttotal: 28.4s\tremaining: 5.65s\n",
            "834:\tlearn: 0.3976410\ttotal: 28.4s\tremaining: 5.62s\n",
            "835:\tlearn: 0.3972328\ttotal: 28.5s\tremaining: 5.58s\n",
            "836:\tlearn: 0.3970015\ttotal: 28.5s\tremaining: 5.55s\n",
            "837:\tlearn: 0.3963826\ttotal: 28.5s\tremaining: 5.51s\n",
            "838:\tlearn: 0.3960500\ttotal: 28.6s\tremaining: 5.48s\n",
            "839:\tlearn: 0.3957013\ttotal: 28.6s\tremaining: 5.45s\n",
            "840:\tlearn: 0.3953173\ttotal: 28.6s\tremaining: 5.41s\n",
            "841:\tlearn: 0.3951595\ttotal: 28.7s\tremaining: 5.38s\n",
            "842:\tlearn: 0.3949330\ttotal: 28.7s\tremaining: 5.35s\n",
            "843:\tlearn: 0.3943717\ttotal: 28.8s\tremaining: 5.31s\n",
            "844:\tlearn: 0.3940735\ttotal: 28.8s\tremaining: 5.29s\n",
            "845:\tlearn: 0.3938726\ttotal: 28.8s\tremaining: 5.25s\n",
            "846:\tlearn: 0.3936914\ttotal: 28.9s\tremaining: 5.22s\n",
            "847:\tlearn: 0.3933021\ttotal: 28.9s\tremaining: 5.18s\n",
            "848:\tlearn: 0.3927837\ttotal: 29s\tremaining: 5.15s\n",
            "849:\tlearn: 0.3925599\ttotal: 29s\tremaining: 5.11s\n",
            "850:\tlearn: 0.3923034\ttotal: 29s\tremaining: 5.08s\n",
            "851:\tlearn: 0.3919140\ttotal: 29.1s\tremaining: 5.05s\n",
            "852:\tlearn: 0.3916410\ttotal: 29.1s\tremaining: 5.01s\n",
            "853:\tlearn: 0.3914428\ttotal: 29.1s\tremaining: 4.98s\n",
            "854:\tlearn: 0.3912985\ttotal: 29.2s\tremaining: 4.95s\n",
            "855:\tlearn: 0.3911583\ttotal: 29.2s\tremaining: 4.91s\n",
            "856:\tlearn: 0.3905179\ttotal: 29.3s\tremaining: 4.88s\n",
            "857:\tlearn: 0.3902494\ttotal: 29.3s\tremaining: 4.85s\n",
            "858:\tlearn: 0.3899000\ttotal: 29.3s\tremaining: 4.81s\n",
            "859:\tlearn: 0.3897141\ttotal: 29.4s\tremaining: 4.78s\n",
            "860:\tlearn: 0.3893213\ttotal: 29.4s\tremaining: 4.75s\n",
            "861:\tlearn: 0.3891017\ttotal: 29.4s\tremaining: 4.71s\n",
            "862:\tlearn: 0.3884856\ttotal: 29.5s\tremaining: 4.68s\n",
            "863:\tlearn: 0.3883480\ttotal: 29.5s\tremaining: 4.65s\n",
            "864:\tlearn: 0.3877048\ttotal: 29.6s\tremaining: 4.61s\n",
            "865:\tlearn: 0.3875920\ttotal: 29.6s\tremaining: 4.58s\n",
            "866:\tlearn: 0.3874000\ttotal: 29.6s\tremaining: 4.54s\n",
            "867:\tlearn: 0.3870786\ttotal: 29.7s\tremaining: 4.51s\n",
            "868:\tlearn: 0.3869188\ttotal: 29.7s\tremaining: 4.48s\n",
            "869:\tlearn: 0.3863741\ttotal: 29.7s\tremaining: 4.44s\n",
            "870:\tlearn: 0.3861903\ttotal: 29.8s\tremaining: 4.41s\n",
            "871:\tlearn: 0.3860729\ttotal: 29.8s\tremaining: 4.38s\n",
            "872:\tlearn: 0.3859014\ttotal: 29.9s\tremaining: 4.34s\n",
            "873:\tlearn: 0.3855535\ttotal: 29.9s\tremaining: 4.31s\n",
            "874:\tlearn: 0.3851996\ttotal: 29.9s\tremaining: 4.28s\n",
            "875:\tlearn: 0.3846299\ttotal: 30s\tremaining: 4.24s\n",
            "876:\tlearn: 0.3840019\ttotal: 30s\tremaining: 4.21s\n",
            "877:\tlearn: 0.3835049\ttotal: 30.1s\tremaining: 4.18s\n",
            "878:\tlearn: 0.3833279\ttotal: 30.1s\tremaining: 4.14s\n",
            "879:\tlearn: 0.3831777\ttotal: 30.1s\tremaining: 4.11s\n",
            "880:\tlearn: 0.3828322\ttotal: 30.2s\tremaining: 4.07s\n",
            "881:\tlearn: 0.3824029\ttotal: 30.2s\tremaining: 4.04s\n",
            "882:\tlearn: 0.3820954\ttotal: 30.2s\tremaining: 4s\n",
            "883:\tlearn: 0.3817985\ttotal: 30.3s\tremaining: 3.97s\n",
            "884:\tlearn: 0.3809706\ttotal: 30.3s\tremaining: 3.94s\n",
            "885:\tlearn: 0.3808151\ttotal: 30.3s\tremaining: 3.9s\n",
            "886:\tlearn: 0.3804941\ttotal: 30.4s\tremaining: 3.87s\n",
            "887:\tlearn: 0.3800345\ttotal: 30.4s\tremaining: 3.84s\n",
            "888:\tlearn: 0.3795896\ttotal: 30.5s\tremaining: 3.8s\n",
            "889:\tlearn: 0.3794311\ttotal: 30.5s\tremaining: 3.77s\n",
            "890:\tlearn: 0.3792807\ttotal: 30.5s\tremaining: 3.74s\n",
            "891:\tlearn: 0.3789884\ttotal: 30.6s\tremaining: 3.7s\n",
            "892:\tlearn: 0.3786700\ttotal: 30.6s\tremaining: 3.67s\n",
            "893:\tlearn: 0.3784791\ttotal: 30.7s\tremaining: 3.64s\n",
            "894:\tlearn: 0.3781724\ttotal: 30.7s\tremaining: 3.6s\n",
            "895:\tlearn: 0.3780663\ttotal: 30.7s\tremaining: 3.57s\n",
            "896:\tlearn: 0.3774844\ttotal: 30.8s\tremaining: 3.53s\n",
            "897:\tlearn: 0.3773111\ttotal: 30.8s\tremaining: 3.5s\n",
            "898:\tlearn: 0.3770220\ttotal: 30.9s\tremaining: 3.47s\n",
            "899:\tlearn: 0.3765608\ttotal: 30.9s\tremaining: 3.43s\n",
            "900:\tlearn: 0.3761195\ttotal: 30.9s\tremaining: 3.4s\n",
            "901:\tlearn: 0.3756036\ttotal: 31s\tremaining: 3.36s\n",
            "902:\tlearn: 0.3751984\ttotal: 31s\tremaining: 3.33s\n",
            "903:\tlearn: 0.3748223\ttotal: 31s\tremaining: 3.3s\n",
            "904:\tlearn: 0.3744877\ttotal: 31.1s\tremaining: 3.26s\n",
            "905:\tlearn: 0.3741742\ttotal: 31.1s\tremaining: 3.23s\n",
            "906:\tlearn: 0.3738309\ttotal: 31.2s\tremaining: 3.19s\n",
            "907:\tlearn: 0.3733780\ttotal: 31.2s\tremaining: 3.16s\n",
            "908:\tlearn: 0.3729381\ttotal: 31.2s\tremaining: 3.13s\n",
            "909:\tlearn: 0.3726881\ttotal: 31.3s\tremaining: 3.09s\n",
            "910:\tlearn: 0.3724083\ttotal: 31.3s\tremaining: 3.06s\n",
            "911:\tlearn: 0.3721887\ttotal: 31.4s\tremaining: 3.02s\n",
            "912:\tlearn: 0.3720260\ttotal: 31.4s\tremaining: 2.99s\n",
            "913:\tlearn: 0.3717491\ttotal: 31.5s\tremaining: 2.96s\n",
            "914:\tlearn: 0.3713792\ttotal: 31.5s\tremaining: 2.93s\n",
            "915:\tlearn: 0.3712124\ttotal: 31.6s\tremaining: 2.9s\n",
            "916:\tlearn: 0.3710085\ttotal: 31.7s\tremaining: 2.87s\n",
            "917:\tlearn: 0.3706624\ttotal: 31.8s\tremaining: 2.84s\n",
            "918:\tlearn: 0.3704688\ttotal: 31.8s\tremaining: 2.8s\n",
            "919:\tlearn: 0.3700474\ttotal: 31.9s\tremaining: 2.77s\n",
            "920:\tlearn: 0.3696522\ttotal: 31.9s\tremaining: 2.74s\n",
            "921:\tlearn: 0.3693480\ttotal: 32s\tremaining: 2.71s\n",
            "922:\tlearn: 0.3689841\ttotal: 32.1s\tremaining: 2.67s\n",
            "923:\tlearn: 0.3686863\ttotal: 32.1s\tremaining: 2.64s\n",
            "924:\tlearn: 0.3681645\ttotal: 32.2s\tremaining: 2.61s\n",
            "925:\tlearn: 0.3676414\ttotal: 32.3s\tremaining: 2.58s\n",
            "926:\tlearn: 0.3674003\ttotal: 32.3s\tremaining: 2.54s\n",
            "927:\tlearn: 0.3672690\ttotal: 32.3s\tremaining: 2.51s\n",
            "928:\tlearn: 0.3669841\ttotal: 32.3s\tremaining: 2.47s\n",
            "929:\tlearn: 0.3665818\ttotal: 32.3s\tremaining: 2.43s\n",
            "930:\tlearn: 0.3664582\ttotal: 32.4s\tremaining: 2.4s\n",
            "931:\tlearn: 0.3660672\ttotal: 32.4s\tremaining: 2.36s\n",
            "932:\tlearn: 0.3656345\ttotal: 32.4s\tremaining: 2.33s\n",
            "933:\tlearn: 0.3654861\ttotal: 32.4s\tremaining: 2.29s\n",
            "934:\tlearn: 0.3651079\ttotal: 32.4s\tremaining: 2.25s\n",
            "935:\tlearn: 0.3648486\ttotal: 32.4s\tremaining: 2.22s\n",
            "936:\tlearn: 0.3646046\ttotal: 32.5s\tremaining: 2.18s\n",
            "937:\tlearn: 0.3641926\ttotal: 32.5s\tremaining: 2.15s\n",
            "938:\tlearn: 0.3637758\ttotal: 32.5s\tremaining: 2.11s\n",
            "939:\tlearn: 0.3636488\ttotal: 32.5s\tremaining: 2.08s\n",
            "940:\tlearn: 0.3633211\ttotal: 32.5s\tremaining: 2.04s\n",
            "941:\tlearn: 0.3628054\ttotal: 32.5s\tremaining: 2s\n",
            "942:\tlearn: 0.3625460\ttotal: 32.6s\tremaining: 1.97s\n",
            "943:\tlearn: 0.3622953\ttotal: 32.6s\tremaining: 1.93s\n",
            "944:\tlearn: 0.3619162\ttotal: 32.6s\tremaining: 1.9s\n",
            "945:\tlearn: 0.3616969\ttotal: 32.6s\tremaining: 1.86s\n",
            "946:\tlearn: 0.3615639\ttotal: 32.7s\tremaining: 1.83s\n",
            "947:\tlearn: 0.3611244\ttotal: 32.7s\tremaining: 1.79s\n",
            "948:\tlearn: 0.3610690\ttotal: 32.7s\tremaining: 1.76s\n",
            "949:\tlearn: 0.3607621\ttotal: 32.8s\tremaining: 1.72s\n",
            "950:\tlearn: 0.3606284\ttotal: 32.8s\tremaining: 1.69s\n",
            "951:\tlearn: 0.3604622\ttotal: 32.8s\tremaining: 1.65s\n",
            "952:\tlearn: 0.3601501\ttotal: 32.8s\tremaining: 1.62s\n",
            "953:\tlearn: 0.3596494\ttotal: 32.8s\tremaining: 1.58s\n",
            "954:\tlearn: 0.3592136\ttotal: 32.8s\tremaining: 1.55s\n",
            "955:\tlearn: 0.3589296\ttotal: 32.8s\tremaining: 1.51s\n",
            "956:\tlearn: 0.3585127\ttotal: 32.9s\tremaining: 1.48s\n",
            "957:\tlearn: 0.3581362\ttotal: 32.9s\tremaining: 1.44s\n",
            "958:\tlearn: 0.3575937\ttotal: 32.9s\tremaining: 1.41s\n",
            "959:\tlearn: 0.3573343\ttotal: 32.9s\tremaining: 1.37s\n",
            "960:\tlearn: 0.3567622\ttotal: 32.9s\tremaining: 1.34s\n",
            "961:\tlearn: 0.3563627\ttotal: 33s\tremaining: 1.3s\n",
            "962:\tlearn: 0.3561056\ttotal: 33s\tremaining: 1.27s\n",
            "963:\tlearn: 0.3558193\ttotal: 33s\tremaining: 1.23s\n",
            "964:\tlearn: 0.3554391\ttotal: 33s\tremaining: 1.2s\n",
            "965:\tlearn: 0.3549927\ttotal: 33s\tremaining: 1.16s\n",
            "966:\tlearn: 0.3548440\ttotal: 33s\tremaining: 1.13s\n",
            "967:\tlearn: 0.3544942\ttotal: 33.1s\tremaining: 1.09s\n",
            "968:\tlearn: 0.3541985\ttotal: 33.1s\tremaining: 1.06s\n",
            "969:\tlearn: 0.3540175\ttotal: 33.1s\tremaining: 1.02s\n",
            "970:\tlearn: 0.3537419\ttotal: 33.1s\tremaining: 990ms\n",
            "971:\tlearn: 0.3532308\ttotal: 33.2s\tremaining: 955ms\n",
            "972:\tlearn: 0.3530120\ttotal: 33.2s\tremaining: 920ms\n",
            "973:\tlearn: 0.3526888\ttotal: 33.2s\tremaining: 886ms\n",
            "974:\tlearn: 0.3525298\ttotal: 33.2s\tremaining: 851ms\n",
            "975:\tlearn: 0.3523308\ttotal: 33.2s\tremaining: 817ms\n",
            "976:\tlearn: 0.3518929\ttotal: 33.2s\tremaining: 783ms\n",
            "977:\tlearn: 0.3516245\ttotal: 33.3s\tremaining: 748ms\n",
            "978:\tlearn: 0.3514985\ttotal: 33.3s\tremaining: 714ms\n",
            "979:\tlearn: 0.3511075\ttotal: 33.3s\tremaining: 679ms\n",
            "980:\tlearn: 0.3507269\ttotal: 33.3s\tremaining: 645ms\n",
            "981:\tlearn: 0.3505583\ttotal: 33.3s\tremaining: 611ms\n",
            "982:\tlearn: 0.3503306\ttotal: 33.3s\tremaining: 577ms\n",
            "983:\tlearn: 0.3501474\ttotal: 33.4s\tremaining: 542ms\n",
            "984:\tlearn: 0.3498026\ttotal: 33.4s\tremaining: 508ms\n",
            "985:\tlearn: 0.3497195\ttotal: 33.4s\tremaining: 474ms\n",
            "986:\tlearn: 0.3494258\ttotal: 33.4s\tremaining: 440ms\n",
            "987:\tlearn: 0.3491303\ttotal: 33.4s\tremaining: 406ms\n",
            "988:\tlearn: 0.3487038\ttotal: 33.5s\tremaining: 372ms\n",
            "989:\tlearn: 0.3484403\ttotal: 33.5s\tremaining: 338ms\n",
            "990:\tlearn: 0.3480015\ttotal: 33.6s\tremaining: 305ms\n",
            "991:\tlearn: 0.3478068\ttotal: 33.6s\tremaining: 271ms\n",
            "992:\tlearn: 0.3476747\ttotal: 33.6s\tremaining: 237ms\n",
            "993:\tlearn: 0.3473347\ttotal: 33.6s\tremaining: 203ms\n",
            "994:\tlearn: 0.3470258\ttotal: 33.6s\tremaining: 169ms\n",
            "995:\tlearn: 0.3465493\ttotal: 33.6s\tremaining: 135ms\n",
            "996:\tlearn: 0.3463621\ttotal: 33.6s\tremaining: 101ms\n",
            "997:\tlearn: 0.3460887\ttotal: 33.7s\tremaining: 67.5ms\n",
            "998:\tlearn: 0.3456878\ttotal: 33.7s\tremaining: 33.7ms\n",
            "999:\tlearn: 0.3454053\ttotal: 33.7s\tremaining: 0us\n",
            "Root Mean Squared Error: 2.675573512952399\n",
            "R^2: 0.32979940212573233\n",
            "Adjusted R^2: 0.30271176388048804\n"
          ]
        }
      ]
    },
    {
      "cell_type": "code",
      "source": [
        "from sklearn.linear_model import Lasso\n",
        "\n",
        "# Train the Lasso model on the training data\n",
        "reg = Lasso().fit(X_train, y_train)\n",
        "\n",
        "# Make predictions on the test data\n",
        "y_pred = reg.predict(X_test)\n",
        "\n",
        "# Calculate the RMSE\n",
        "rmse = np.sqrt(mean_squared_error(y_test, y_pred))\n",
        "print(\"Root Mean Squared Error:\", rmse)\n",
        "\n",
        "# Calculate the R^2 score\n",
        "r2 = r2_score(y_test, y_pred)\n",
        "print(\"R^2:\", r2)\n",
        "\n",
        "# Calculate the adjusted R^2 score\n",
        "n = X_test.shape[0]\n",
        "p = X_test.shape[1]\n",
        "adjusted_r2 = 1-(1-r2)*(n-1)/(n-p-1)\n",
        "print(\"Adjusted R^2:\", adjusted_r2)\n"
      ],
      "metadata": {
        "colab": {
          "base_uri": "https://localhost:8080/"
        },
        "id": "GhhIIoFi0GVj",
        "outputId": "f31aa2b0-f77c-431f-fda4-4816ead8f801"
      },
      "execution_count": 256,
      "outputs": [
        {
          "output_type": "stream",
          "name": "stdout",
          "text": [
            "Root Mean Squared Error: 3.272375005387262\n",
            "R^2: -0.0025295180262292494\n",
            "Adjusted R^2: -0.04304896399599856\n"
          ]
        }
      ]
    },
    {
      "cell_type": "code",
      "source": [
        "from sklearn.linear_model import Ridge\n",
        "\n",
        "# Train the Ridge model on the training data\n",
        "reg = Ridge().fit(X_train, y_train)\n",
        "\n",
        "# Make predictions on the test data\n",
        "y_pred = reg.predict(X_test)\n",
        "\n",
        "# Calculate the RMSE\n",
        "rmse = np.sqrt(mean_squared_error(y_test, y_pred))\n",
        "print(\"Root Mean Squared Error:\", rmse)\n",
        "\n",
        "# Calculate the R^2 score\n",
        "r2 = r2_score(y_test, y_pred)\n",
        "print(\"R^2:\", r2)\n",
        "\n",
        "# Calculate the adjusted R^2 score\n",
        "n = X_test.shape[0]\n",
        "p = X_test.shape[1]\n",
        "adjusted_r2 = 1-(1-r2)*(n-1)/(n-p-1)\n",
        "print(\"Adjusted R^2:\", adjusted_r2)\n"
      ],
      "metadata": {
        "colab": {
          "base_uri": "https://localhost:8080/"
        },
        "id": "XYV9I2Nr0H5s",
        "outputId": "b7325fd5-1c48-47c3-a844-eda5236c3fe9"
      },
      "execution_count": 257,
      "outputs": [
        {
          "output_type": "stream",
          "name": "stdout",
          "text": [
            "Root Mean Squared Error: 2.926760339827594\n",
            "R^2: 0.1980535713811259\n",
            "Adjusted R^2: 0.16564113424007632\n"
          ]
        }
      ]
    },
    {
      "cell_type": "code",
      "source": [
        "from sklearn.linear_model import ElasticNet\n",
        "\n",
        "# Train the ElasticNet model on the training data\n",
        "reg = ElasticNet().fit(X_train, y_train)\n",
        "\n",
        "# Make predictions on the test data\n",
        "y_pred = reg.predict(X_test)\n",
        "\n",
        "# Calculate the RMSE\n",
        "rmse = np.sqrt(mean_squared_error(y_test, y_pred))\n",
        "print(\"Root Mean Squared Error:\", rmse)\n",
        "\n",
        "# Calculate the R^2 score\n",
        "r2 = r2_score(y_test, y_pred)\n",
        "print(\"R^2:\", r2)\n",
        "\n",
        "# Calculate the adjusted R^2 score\n",
        "n = X_test.shape[0]\n",
        "p = X_test.shape[1]\n",
        "adjusted_r2 = 1-(1-r2)*(n-1)/(n-p-1)\n",
        "print(\"Adjusted R^2:\", adjusted_r2)\n"
      ],
      "metadata": {
        "colab": {
          "base_uri": "https://localhost:8080/"
        },
        "id": "kKhJYb3Z0Jaf",
        "outputId": "74c3945d-809f-4506-cbf6-b42877d6b3db"
      },
      "execution_count": 258,
      "outputs": [
        {
          "output_type": "stream",
          "name": "stdout",
          "text": [
            "Root Mean Squared Error: 3.272375005387262\n",
            "R^2: -0.0025295180262292494\n",
            "Adjusted R^2: -0.04304896399599856\n"
          ]
        }
      ]
    },
    {
      "cell_type": "code",
      "source": [
        "import tensorflow as tf\n",
        "# Define the model architecture\n",
        "model = tf.keras.Sequential([\n",
        "    tf.keras.layers.Dense(32, activation='relu', input_shape=(X_train.shape[1],)),\n",
        "    tf.keras.layers.Dense(64, activation='sigmoid'),tf.keras.layers.Dense(32, activation='relu'),\n",
        "    tf.keras.layers.Dense(1)\n",
        "])\n",
        "\n",
        "# Compile the model\n",
        "model.compile(optimizer='adam', loss='mean_squared_error')\n",
        "\n",
        "# Train the model\n",
        "history = model.fit(X_train, y_train, epochs=100, verbose=0)\n",
        "\n",
        "# Make predictions on the test data\n",
        "y_pred = model.predict(X_test)\n",
        "\n",
        "# Calculate the RMSE\n",
        "rmse = np.sqrt(mean_squared_error(y_test, y_pred))\n",
        "print(\"Root Mean Squared Error:\", rmse)\n",
        "\n",
        "# Calculate the R^2 score\n",
        "r2 = r2_score(y_test, y_pred)\n",
        "print(\"R^2:\", r2)\n",
        "\n",
        "# Calculate the adjusted R^2 score\n",
        "n = X_test.shape[0]\n",
        "p = X_test.shape[1]\n",
        "adjusted_r2 = 1-(1-r2)*(n-1)/(n-p-1)\n",
        "print(\"Adjusted R^2:\", adjusted_r2)\n"
      ],
      "metadata": {
        "colab": {
          "base_uri": "https://localhost:8080/"
        },
        "id": "iJllf-iM0L8_",
        "outputId": "6b990696-29e2-430e-82f8-88f43b42afb9"
      },
      "execution_count": 259,
      "outputs": [
        {
          "output_type": "stream",
          "name": "stdout",
          "text": [
            "50/50 [==============================] - 0s 3ms/step\n",
            "Root Mean Squared Error: 2.4868018837547727\n",
            "R^2: 0.42103353344975647\n",
            "Adjusted R^2: 0.39763332424107645\n"
          ]
        }
      ]
    },
    {
      "cell_type": "markdown",
      "source": [
        "Testing if the average value prediction is better than predicted value"
      ],
      "metadata": {
        "id": "C1Y0jhBj7a0s"
      }
    },
    {
      "cell_type": "code",
      "source": [
        "rmse = np.sqrt(mean_squared_error(y_test, [y_test.mean()]*len(y_test)))\n",
        "print(\"Root Mean Squared Error:\", rmse)\n",
        "\n",
        "# Calculate the R^2 score\n",
        "r2 = r2_score(y_test, [y_test.mean()]*len(y_test))\n",
        "print(\"R^2:\", r2)\n",
        "\n",
        "# Calculate the adjusted R^2 score\n",
        "n = X_test.shape[0]\n",
        "p = X_test.shape[1]\n",
        "adjusted_r2 = 1-(1-r2)*(n-1)/(n-p-1)\n",
        "print(\"Adjusted R^2:\", adjusted_r2)"
      ],
      "metadata": {
        "colab": {
          "base_uri": "https://localhost:8080/"
        },
        "id": "1WSQU_H93yde",
        "outputId": "5f108e76-e932-4cf0-a091-ac41b23daf4f"
      },
      "execution_count": 260,
      "outputs": [
        {
          "output_type": "stream",
          "name": "stdout",
          "text": [
            "Root Mean Squared Error: 3.2682440749023636\n",
            "R^2: 0.0\n",
            "Adjusted R^2: -0.04041720990873543\n"
          ]
        }
      ]
    },
    {
      "cell_type": "code",
      "source": [
        "rmse = np.sqrt(mean_squared_error(y_test, [y_train.mean()]*len(y_test)))\n",
        "print(\"Root Mean Squared Error:\", rmse)\n",
        "\n",
        "# Calculate the R^2 score\n",
        "r2 = r2_score(y_test, [y_test.mean()]*len(y_test))\n",
        "print(\"R^2:\", r2)\n",
        "\n",
        "# Calculate the adjusted R^2 score\n",
        "n = X_test.shape[0]\n",
        "p = X_test.shape[1]\n",
        "adjusted_r2 = 1-(1-r2)*(n-1)/(n-p-1)\n",
        "print(\"Adjusted R^2:\", adjusted_r2)"
      ],
      "metadata": {
        "colab": {
          "base_uri": "https://localhost:8080/"
        },
        "id": "9Tp-cnMs4G-c",
        "outputId": "493ca376-131e-44ac-c23c-2635b6d7d702"
      },
      "execution_count": 261,
      "outputs": [
        {
          "output_type": "stream",
          "name": "stdout",
          "text": [
            "Root Mean Squared Error: 3.272375005387262\n",
            "R^2: 0.0\n",
            "Adjusted R^2: -0.04041720990873543\n"
          ]
        }
      ]
    },
    {
      "cell_type": "code",
      "source": [],
      "metadata": {
        "id": "w_0bWq-C7jm-"
      },
      "execution_count": null,
      "outputs": []
    }
  ],
  "metadata": {
    "colab": {
      "provenance": []
    },
    "kernelspec": {
      "display_name": "Python 3",
      "name": "python3"
    },
    "language_info": {
      "name": "python"
    },
    "widgets": {
      "application/vnd.jupyter.widget-state+json": {
        "df8f08e5edcf42fd84cb9973b6aa1040": {
          "model_module": "@jupyter-widgets/controls",
          "model_name": "HBoxModel",
          "model_module_version": "1.5.0",
          "state": {
            "_dom_classes": [],
            "_model_module": "@jupyter-widgets/controls",
            "_model_module_version": "1.5.0",
            "_model_name": "HBoxModel",
            "_view_count": null,
            "_view_module": "@jupyter-widgets/controls",
            "_view_module_version": "1.5.0",
            "_view_name": "HBoxView",
            "box_style": "",
            "children": [
              "IPY_MODEL_0bb1b8ae13384a5f91567422a9b3d688",
              "IPY_MODEL_3e386bf6485f4466be89a8572ff48897",
              "IPY_MODEL_c87ad90cc28e43ae82fa8c4c49e1ff10"
            ],
            "layout": "IPY_MODEL_c80890bff73342aab16f15ce762a6de3"
          }
        },
        "0bb1b8ae13384a5f91567422a9b3d688": {
          "model_module": "@jupyter-widgets/controls",
          "model_name": "HTMLModel",
          "model_module_version": "1.5.0",
          "state": {
            "_dom_classes": [],
            "_model_module": "@jupyter-widgets/controls",
            "_model_module_version": "1.5.0",
            "_model_name": "HTMLModel",
            "_view_count": null,
            "_view_module": "@jupyter-widgets/controls",
            "_view_module_version": "1.5.0",
            "_view_name": "HTMLView",
            "description": "",
            "description_tooltip": null,
            "layout": "IPY_MODEL_7070210e2d1a4fa2a0d957452eb8f9b7",
            "placeholder": "​",
            "style": "IPY_MODEL_05a02d78e5394b32929a47175fd04834",
            "value": "Downloading (…)okenizer_config.json: 100%"
          }
        },
        "3e386bf6485f4466be89a8572ff48897": {
          "model_module": "@jupyter-widgets/controls",
          "model_name": "FloatProgressModel",
          "model_module_version": "1.5.0",
          "state": {
            "_dom_classes": [],
            "_model_module": "@jupyter-widgets/controls",
            "_model_module_version": "1.5.0",
            "_model_name": "FloatProgressModel",
            "_view_count": null,
            "_view_module": "@jupyter-widgets/controls",
            "_view_module_version": "1.5.0",
            "_view_name": "ProgressView",
            "bar_style": "success",
            "description": "",
            "description_tooltip": null,
            "layout": "IPY_MODEL_75d3940931eb4968a1005c1dee87f65b",
            "max": 49,
            "min": 0,
            "orientation": "horizontal",
            "style": "IPY_MODEL_d666ff7f11844e53b75156cd54db50f4",
            "value": 49
          }
        },
        "c87ad90cc28e43ae82fa8c4c49e1ff10": {
          "model_module": "@jupyter-widgets/controls",
          "model_name": "HTMLModel",
          "model_module_version": "1.5.0",
          "state": {
            "_dom_classes": [],
            "_model_module": "@jupyter-widgets/controls",
            "_model_module_version": "1.5.0",
            "_model_name": "HTMLModel",
            "_view_count": null,
            "_view_module": "@jupyter-widgets/controls",
            "_view_module_version": "1.5.0",
            "_view_name": "HTMLView",
            "description": "",
            "description_tooltip": null,
            "layout": "IPY_MODEL_9d27d811628a4ceba6cc69ec3adeca09",
            "placeholder": "​",
            "style": "IPY_MODEL_59ec07cb192447628f19e7cc7c5de77b",
            "value": " 49.0/49.0 [00:00&lt;00:00, 683B/s]"
          }
        },
        "c80890bff73342aab16f15ce762a6de3": {
          "model_module": "@jupyter-widgets/base",
          "model_name": "LayoutModel",
          "model_module_version": "1.2.0",
          "state": {
            "_model_module": "@jupyter-widgets/base",
            "_model_module_version": "1.2.0",
            "_model_name": "LayoutModel",
            "_view_count": null,
            "_view_module": "@jupyter-widgets/base",
            "_view_module_version": "1.2.0",
            "_view_name": "LayoutView",
            "align_content": null,
            "align_items": null,
            "align_self": null,
            "border": null,
            "bottom": null,
            "display": null,
            "flex": null,
            "flex_flow": null,
            "grid_area": null,
            "grid_auto_columns": null,
            "grid_auto_flow": null,
            "grid_auto_rows": null,
            "grid_column": null,
            "grid_gap": null,
            "grid_row": null,
            "grid_template_areas": null,
            "grid_template_columns": null,
            "grid_template_rows": null,
            "height": null,
            "justify_content": null,
            "justify_items": null,
            "left": null,
            "margin": null,
            "max_height": null,
            "max_width": null,
            "min_height": null,
            "min_width": null,
            "object_fit": null,
            "object_position": null,
            "order": null,
            "overflow": null,
            "overflow_x": null,
            "overflow_y": null,
            "padding": null,
            "right": null,
            "top": null,
            "visibility": null,
            "width": null
          }
        },
        "7070210e2d1a4fa2a0d957452eb8f9b7": {
          "model_module": "@jupyter-widgets/base",
          "model_name": "LayoutModel",
          "model_module_version": "1.2.0",
          "state": {
            "_model_module": "@jupyter-widgets/base",
            "_model_module_version": "1.2.0",
            "_model_name": "LayoutModel",
            "_view_count": null,
            "_view_module": "@jupyter-widgets/base",
            "_view_module_version": "1.2.0",
            "_view_name": "LayoutView",
            "align_content": null,
            "align_items": null,
            "align_self": null,
            "border": null,
            "bottom": null,
            "display": null,
            "flex": null,
            "flex_flow": null,
            "grid_area": null,
            "grid_auto_columns": null,
            "grid_auto_flow": null,
            "grid_auto_rows": null,
            "grid_column": null,
            "grid_gap": null,
            "grid_row": null,
            "grid_template_areas": null,
            "grid_template_columns": null,
            "grid_template_rows": null,
            "height": null,
            "justify_content": null,
            "justify_items": null,
            "left": null,
            "margin": null,
            "max_height": null,
            "max_width": null,
            "min_height": null,
            "min_width": null,
            "object_fit": null,
            "object_position": null,
            "order": null,
            "overflow": null,
            "overflow_x": null,
            "overflow_y": null,
            "padding": null,
            "right": null,
            "top": null,
            "visibility": null,
            "width": null
          }
        },
        "05a02d78e5394b32929a47175fd04834": {
          "model_module": "@jupyter-widgets/controls",
          "model_name": "DescriptionStyleModel",
          "model_module_version": "1.5.0",
          "state": {
            "_model_module": "@jupyter-widgets/controls",
            "_model_module_version": "1.5.0",
            "_model_name": "DescriptionStyleModel",
            "_view_count": null,
            "_view_module": "@jupyter-widgets/base",
            "_view_module_version": "1.2.0",
            "_view_name": "StyleView",
            "description_width": ""
          }
        },
        "75d3940931eb4968a1005c1dee87f65b": {
          "model_module": "@jupyter-widgets/base",
          "model_name": "LayoutModel",
          "model_module_version": "1.2.0",
          "state": {
            "_model_module": "@jupyter-widgets/base",
            "_model_module_version": "1.2.0",
            "_model_name": "LayoutModel",
            "_view_count": null,
            "_view_module": "@jupyter-widgets/base",
            "_view_module_version": "1.2.0",
            "_view_name": "LayoutView",
            "align_content": null,
            "align_items": null,
            "align_self": null,
            "border": null,
            "bottom": null,
            "display": null,
            "flex": null,
            "flex_flow": null,
            "grid_area": null,
            "grid_auto_columns": null,
            "grid_auto_flow": null,
            "grid_auto_rows": null,
            "grid_column": null,
            "grid_gap": null,
            "grid_row": null,
            "grid_template_areas": null,
            "grid_template_columns": null,
            "grid_template_rows": null,
            "height": null,
            "justify_content": null,
            "justify_items": null,
            "left": null,
            "margin": null,
            "max_height": null,
            "max_width": null,
            "min_height": null,
            "min_width": null,
            "object_fit": null,
            "object_position": null,
            "order": null,
            "overflow": null,
            "overflow_x": null,
            "overflow_y": null,
            "padding": null,
            "right": null,
            "top": null,
            "visibility": null,
            "width": null
          }
        },
        "d666ff7f11844e53b75156cd54db50f4": {
          "model_module": "@jupyter-widgets/controls",
          "model_name": "ProgressStyleModel",
          "model_module_version": "1.5.0",
          "state": {
            "_model_module": "@jupyter-widgets/controls",
            "_model_module_version": "1.5.0",
            "_model_name": "ProgressStyleModel",
            "_view_count": null,
            "_view_module": "@jupyter-widgets/base",
            "_view_module_version": "1.2.0",
            "_view_name": "StyleView",
            "bar_color": null,
            "description_width": ""
          }
        },
        "9d27d811628a4ceba6cc69ec3adeca09": {
          "model_module": "@jupyter-widgets/base",
          "model_name": "LayoutModel",
          "model_module_version": "1.2.0",
          "state": {
            "_model_module": "@jupyter-widgets/base",
            "_model_module_version": "1.2.0",
            "_model_name": "LayoutModel",
            "_view_count": null,
            "_view_module": "@jupyter-widgets/base",
            "_view_module_version": "1.2.0",
            "_view_name": "LayoutView",
            "align_content": null,
            "align_items": null,
            "align_self": null,
            "border": null,
            "bottom": null,
            "display": null,
            "flex": null,
            "flex_flow": null,
            "grid_area": null,
            "grid_auto_columns": null,
            "grid_auto_flow": null,
            "grid_auto_rows": null,
            "grid_column": null,
            "grid_gap": null,
            "grid_row": null,
            "grid_template_areas": null,
            "grid_template_columns": null,
            "grid_template_rows": null,
            "height": null,
            "justify_content": null,
            "justify_items": null,
            "left": null,
            "margin": null,
            "max_height": null,
            "max_width": null,
            "min_height": null,
            "min_width": null,
            "object_fit": null,
            "object_position": null,
            "order": null,
            "overflow": null,
            "overflow_x": null,
            "overflow_y": null,
            "padding": null,
            "right": null,
            "top": null,
            "visibility": null,
            "width": null
          }
        },
        "59ec07cb192447628f19e7cc7c5de77b": {
          "model_module": "@jupyter-widgets/controls",
          "model_name": "DescriptionStyleModel",
          "model_module_version": "1.5.0",
          "state": {
            "_model_module": "@jupyter-widgets/controls",
            "_model_module_version": "1.5.0",
            "_model_name": "DescriptionStyleModel",
            "_view_count": null,
            "_view_module": "@jupyter-widgets/base",
            "_view_module_version": "1.2.0",
            "_view_name": "StyleView",
            "description_width": ""
          }
        },
        "a6695f2c0567489ba8c91ba18aaa3e31": {
          "model_module": "@jupyter-widgets/controls",
          "model_name": "HBoxModel",
          "model_module_version": "1.5.0",
          "state": {
            "_dom_classes": [],
            "_model_module": "@jupyter-widgets/controls",
            "_model_module_version": "1.5.0",
            "_model_name": "HBoxModel",
            "_view_count": null,
            "_view_module": "@jupyter-widgets/controls",
            "_view_module_version": "1.5.0",
            "_view_name": "HBoxView",
            "box_style": "",
            "children": [
              "IPY_MODEL_6d07cf16015e4c7b961f84694e2691bc",
              "IPY_MODEL_d1228efb449445c3a92e1800c726c92f",
              "IPY_MODEL_f5d8886fc8c448aba2f66d39ccf2dc7f"
            ],
            "layout": "IPY_MODEL_e4e87a4b488e4ea5946d1b84cd094f87"
          }
        },
        "6d07cf16015e4c7b961f84694e2691bc": {
          "model_module": "@jupyter-widgets/controls",
          "model_name": "HTMLModel",
          "model_module_version": "1.5.0",
          "state": {
            "_dom_classes": [],
            "_model_module": "@jupyter-widgets/controls",
            "_model_module_version": "1.5.0",
            "_model_name": "HTMLModel",
            "_view_count": null,
            "_view_module": "@jupyter-widgets/controls",
            "_view_module_version": "1.5.0",
            "_view_name": "HTMLView",
            "description": "",
            "description_tooltip": null,
            "layout": "IPY_MODEL_135eb1c171484757bca86d1403f7c2ec",
            "placeholder": "​",
            "style": "IPY_MODEL_d3f14eaf350a4f93bb20fe53b9762fea",
            "value": "Downloading (…)lve/main/config.json: 100%"
          }
        },
        "d1228efb449445c3a92e1800c726c92f": {
          "model_module": "@jupyter-widgets/controls",
          "model_name": "FloatProgressModel",
          "model_module_version": "1.5.0",
          "state": {
            "_dom_classes": [],
            "_model_module": "@jupyter-widgets/controls",
            "_model_module_version": "1.5.0",
            "_model_name": "FloatProgressModel",
            "_view_count": null,
            "_view_module": "@jupyter-widgets/controls",
            "_view_module_version": "1.5.0",
            "_view_name": "ProgressView",
            "bar_style": "success",
            "description": "",
            "description_tooltip": null,
            "layout": "IPY_MODEL_6f248be77bc74e21a80ea13a38cb49f8",
            "max": 462,
            "min": 0,
            "orientation": "horizontal",
            "style": "IPY_MODEL_86acd8178b87495ca170d43af99dc0f1",
            "value": 462
          }
        },
        "f5d8886fc8c448aba2f66d39ccf2dc7f": {
          "model_module": "@jupyter-widgets/controls",
          "model_name": "HTMLModel",
          "model_module_version": "1.5.0",
          "state": {
            "_dom_classes": [],
            "_model_module": "@jupyter-widgets/controls",
            "_model_module_version": "1.5.0",
            "_model_name": "HTMLModel",
            "_view_count": null,
            "_view_module": "@jupyter-widgets/controls",
            "_view_module_version": "1.5.0",
            "_view_name": "HTMLView",
            "description": "",
            "description_tooltip": null,
            "layout": "IPY_MODEL_4ed0328f250c4be68e5250323380c7a6",
            "placeholder": "​",
            "style": "IPY_MODEL_1d2e0e7d742c49c6a55df20bb1edca7b",
            "value": " 462/462 [00:00&lt;00:00, 12.1kB/s]"
          }
        },
        "e4e87a4b488e4ea5946d1b84cd094f87": {
          "model_module": "@jupyter-widgets/base",
          "model_name": "LayoutModel",
          "model_module_version": "1.2.0",
          "state": {
            "_model_module": "@jupyter-widgets/base",
            "_model_module_version": "1.2.0",
            "_model_name": "LayoutModel",
            "_view_count": null,
            "_view_module": "@jupyter-widgets/base",
            "_view_module_version": "1.2.0",
            "_view_name": "LayoutView",
            "align_content": null,
            "align_items": null,
            "align_self": null,
            "border": null,
            "bottom": null,
            "display": null,
            "flex": null,
            "flex_flow": null,
            "grid_area": null,
            "grid_auto_columns": null,
            "grid_auto_flow": null,
            "grid_auto_rows": null,
            "grid_column": null,
            "grid_gap": null,
            "grid_row": null,
            "grid_template_areas": null,
            "grid_template_columns": null,
            "grid_template_rows": null,
            "height": null,
            "justify_content": null,
            "justify_items": null,
            "left": null,
            "margin": null,
            "max_height": null,
            "max_width": null,
            "min_height": null,
            "min_width": null,
            "object_fit": null,
            "object_position": null,
            "order": null,
            "overflow": null,
            "overflow_x": null,
            "overflow_y": null,
            "padding": null,
            "right": null,
            "top": null,
            "visibility": null,
            "width": null
          }
        },
        "135eb1c171484757bca86d1403f7c2ec": {
          "model_module": "@jupyter-widgets/base",
          "model_name": "LayoutModel",
          "model_module_version": "1.2.0",
          "state": {
            "_model_module": "@jupyter-widgets/base",
            "_model_module_version": "1.2.0",
            "_model_name": "LayoutModel",
            "_view_count": null,
            "_view_module": "@jupyter-widgets/base",
            "_view_module_version": "1.2.0",
            "_view_name": "LayoutView",
            "align_content": null,
            "align_items": null,
            "align_self": null,
            "border": null,
            "bottom": null,
            "display": null,
            "flex": null,
            "flex_flow": null,
            "grid_area": null,
            "grid_auto_columns": null,
            "grid_auto_flow": null,
            "grid_auto_rows": null,
            "grid_column": null,
            "grid_gap": null,
            "grid_row": null,
            "grid_template_areas": null,
            "grid_template_columns": null,
            "grid_template_rows": null,
            "height": null,
            "justify_content": null,
            "justify_items": null,
            "left": null,
            "margin": null,
            "max_height": null,
            "max_width": null,
            "min_height": null,
            "min_width": null,
            "object_fit": null,
            "object_position": null,
            "order": null,
            "overflow": null,
            "overflow_x": null,
            "overflow_y": null,
            "padding": null,
            "right": null,
            "top": null,
            "visibility": null,
            "width": null
          }
        },
        "d3f14eaf350a4f93bb20fe53b9762fea": {
          "model_module": "@jupyter-widgets/controls",
          "model_name": "DescriptionStyleModel",
          "model_module_version": "1.5.0",
          "state": {
            "_model_module": "@jupyter-widgets/controls",
            "_model_module_version": "1.5.0",
            "_model_name": "DescriptionStyleModel",
            "_view_count": null,
            "_view_module": "@jupyter-widgets/base",
            "_view_module_version": "1.2.0",
            "_view_name": "StyleView",
            "description_width": ""
          }
        },
        "6f248be77bc74e21a80ea13a38cb49f8": {
          "model_module": "@jupyter-widgets/base",
          "model_name": "LayoutModel",
          "model_module_version": "1.2.0",
          "state": {
            "_model_module": "@jupyter-widgets/base",
            "_model_module_version": "1.2.0",
            "_model_name": "LayoutModel",
            "_view_count": null,
            "_view_module": "@jupyter-widgets/base",
            "_view_module_version": "1.2.0",
            "_view_name": "LayoutView",
            "align_content": null,
            "align_items": null,
            "align_self": null,
            "border": null,
            "bottom": null,
            "display": null,
            "flex": null,
            "flex_flow": null,
            "grid_area": null,
            "grid_auto_columns": null,
            "grid_auto_flow": null,
            "grid_auto_rows": null,
            "grid_column": null,
            "grid_gap": null,
            "grid_row": null,
            "grid_template_areas": null,
            "grid_template_columns": null,
            "grid_template_rows": null,
            "height": null,
            "justify_content": null,
            "justify_items": null,
            "left": null,
            "margin": null,
            "max_height": null,
            "max_width": null,
            "min_height": null,
            "min_width": null,
            "object_fit": null,
            "object_position": null,
            "order": null,
            "overflow": null,
            "overflow_x": null,
            "overflow_y": null,
            "padding": null,
            "right": null,
            "top": null,
            "visibility": null,
            "width": null
          }
        },
        "86acd8178b87495ca170d43af99dc0f1": {
          "model_module": "@jupyter-widgets/controls",
          "model_name": "ProgressStyleModel",
          "model_module_version": "1.5.0",
          "state": {
            "_model_module": "@jupyter-widgets/controls",
            "_model_module_version": "1.5.0",
            "_model_name": "ProgressStyleModel",
            "_view_count": null,
            "_view_module": "@jupyter-widgets/base",
            "_view_module_version": "1.2.0",
            "_view_name": "StyleView",
            "bar_color": null,
            "description_width": ""
          }
        },
        "4ed0328f250c4be68e5250323380c7a6": {
          "model_module": "@jupyter-widgets/base",
          "model_name": "LayoutModel",
          "model_module_version": "1.2.0",
          "state": {
            "_model_module": "@jupyter-widgets/base",
            "_model_module_version": "1.2.0",
            "_model_name": "LayoutModel",
            "_view_count": null,
            "_view_module": "@jupyter-widgets/base",
            "_view_module_version": "1.2.0",
            "_view_name": "LayoutView",
            "align_content": null,
            "align_items": null,
            "align_self": null,
            "border": null,
            "bottom": null,
            "display": null,
            "flex": null,
            "flex_flow": null,
            "grid_area": null,
            "grid_auto_columns": null,
            "grid_auto_flow": null,
            "grid_auto_rows": null,
            "grid_column": null,
            "grid_gap": null,
            "grid_row": null,
            "grid_template_areas": null,
            "grid_template_columns": null,
            "grid_template_rows": null,
            "height": null,
            "justify_content": null,
            "justify_items": null,
            "left": null,
            "margin": null,
            "max_height": null,
            "max_width": null,
            "min_height": null,
            "min_width": null,
            "object_fit": null,
            "object_position": null,
            "order": null,
            "overflow": null,
            "overflow_x": null,
            "overflow_y": null,
            "padding": null,
            "right": null,
            "top": null,
            "visibility": null,
            "width": null
          }
        },
        "1d2e0e7d742c49c6a55df20bb1edca7b": {
          "model_module": "@jupyter-widgets/controls",
          "model_name": "DescriptionStyleModel",
          "model_module_version": "1.5.0",
          "state": {
            "_model_module": "@jupyter-widgets/controls",
            "_model_module_version": "1.5.0",
            "_model_name": "DescriptionStyleModel",
            "_view_count": null,
            "_view_module": "@jupyter-widgets/base",
            "_view_module_version": "1.2.0",
            "_view_name": "StyleView",
            "description_width": ""
          }
        },
        "dd059138b7834da88c6e11a16a355d5f": {
          "model_module": "@jupyter-widgets/controls",
          "model_name": "HBoxModel",
          "model_module_version": "1.5.0",
          "state": {
            "_dom_classes": [],
            "_model_module": "@jupyter-widgets/controls",
            "_model_module_version": "1.5.0",
            "_model_name": "HBoxModel",
            "_view_count": null,
            "_view_module": "@jupyter-widgets/controls",
            "_view_module_version": "1.5.0",
            "_view_name": "HBoxView",
            "box_style": "",
            "children": [
              "IPY_MODEL_6bd9acdf1f244d529e0fc1c636221c07",
              "IPY_MODEL_96364942470d47fd9e0888863d9a0158",
              "IPY_MODEL_64dbab70952949fe92f170e858b922f6"
            ],
            "layout": "IPY_MODEL_ed4bf6342f0f4e09b1997b8d5e076a18"
          }
        },
        "6bd9acdf1f244d529e0fc1c636221c07": {
          "model_module": "@jupyter-widgets/controls",
          "model_name": "HTMLModel",
          "model_module_version": "1.5.0",
          "state": {
            "_dom_classes": [],
            "_model_module": "@jupyter-widgets/controls",
            "_model_module_version": "1.5.0",
            "_model_name": "HTMLModel",
            "_view_count": null,
            "_view_module": "@jupyter-widgets/controls",
            "_view_module_version": "1.5.0",
            "_view_name": "HTMLView",
            "description": "",
            "description_tooltip": null,
            "layout": "IPY_MODEL_23171660824e4b658dc9f43c83e50f77",
            "placeholder": "​",
            "style": "IPY_MODEL_7840101e8565434da110a234bc10906e",
            "value": "Downloading (…)solve/main/vocab.txt: 100%"
          }
        },
        "96364942470d47fd9e0888863d9a0158": {
          "model_module": "@jupyter-widgets/controls",
          "model_name": "FloatProgressModel",
          "model_module_version": "1.5.0",
          "state": {
            "_dom_classes": [],
            "_model_module": "@jupyter-widgets/controls",
            "_model_module_version": "1.5.0",
            "_model_name": "FloatProgressModel",
            "_view_count": null,
            "_view_module": "@jupyter-widgets/controls",
            "_view_module_version": "1.5.0",
            "_view_name": "ProgressView",
            "bar_style": "success",
            "description": "",
            "description_tooltip": null,
            "layout": "IPY_MODEL_6b8eaf918f874a1e8d3a0732dc41b65a",
            "max": 213450,
            "min": 0,
            "orientation": "horizontal",
            "style": "IPY_MODEL_441bb2e6ec4d4704b1f82ed0e10ff260",
            "value": 213450
          }
        },
        "64dbab70952949fe92f170e858b922f6": {
          "model_module": "@jupyter-widgets/controls",
          "model_name": "HTMLModel",
          "model_module_version": "1.5.0",
          "state": {
            "_dom_classes": [],
            "_model_module": "@jupyter-widgets/controls",
            "_model_module_version": "1.5.0",
            "_model_name": "HTMLModel",
            "_view_count": null,
            "_view_module": "@jupyter-widgets/controls",
            "_view_module_version": "1.5.0",
            "_view_name": "HTMLView",
            "description": "",
            "description_tooltip": null,
            "layout": "IPY_MODEL_28431e0291e9471aa31e0e57b7c2d9d9",
            "placeholder": "​",
            "style": "IPY_MODEL_05c33a9058e74c7cb549ba4b4a4a6121",
            "value": " 213k/213k [00:00&lt;00:00, 7.25MB/s]"
          }
        },
        "ed4bf6342f0f4e09b1997b8d5e076a18": {
          "model_module": "@jupyter-widgets/base",
          "model_name": "LayoutModel",
          "model_module_version": "1.2.0",
          "state": {
            "_model_module": "@jupyter-widgets/base",
            "_model_module_version": "1.2.0",
            "_model_name": "LayoutModel",
            "_view_count": null,
            "_view_module": "@jupyter-widgets/base",
            "_view_module_version": "1.2.0",
            "_view_name": "LayoutView",
            "align_content": null,
            "align_items": null,
            "align_self": null,
            "border": null,
            "bottom": null,
            "display": null,
            "flex": null,
            "flex_flow": null,
            "grid_area": null,
            "grid_auto_columns": null,
            "grid_auto_flow": null,
            "grid_auto_rows": null,
            "grid_column": null,
            "grid_gap": null,
            "grid_row": null,
            "grid_template_areas": null,
            "grid_template_columns": null,
            "grid_template_rows": null,
            "height": null,
            "justify_content": null,
            "justify_items": null,
            "left": null,
            "margin": null,
            "max_height": null,
            "max_width": null,
            "min_height": null,
            "min_width": null,
            "object_fit": null,
            "object_position": null,
            "order": null,
            "overflow": null,
            "overflow_x": null,
            "overflow_y": null,
            "padding": null,
            "right": null,
            "top": null,
            "visibility": null,
            "width": null
          }
        },
        "23171660824e4b658dc9f43c83e50f77": {
          "model_module": "@jupyter-widgets/base",
          "model_name": "LayoutModel",
          "model_module_version": "1.2.0",
          "state": {
            "_model_module": "@jupyter-widgets/base",
            "_model_module_version": "1.2.0",
            "_model_name": "LayoutModel",
            "_view_count": null,
            "_view_module": "@jupyter-widgets/base",
            "_view_module_version": "1.2.0",
            "_view_name": "LayoutView",
            "align_content": null,
            "align_items": null,
            "align_self": null,
            "border": null,
            "bottom": null,
            "display": null,
            "flex": null,
            "flex_flow": null,
            "grid_area": null,
            "grid_auto_columns": null,
            "grid_auto_flow": null,
            "grid_auto_rows": null,
            "grid_column": null,
            "grid_gap": null,
            "grid_row": null,
            "grid_template_areas": null,
            "grid_template_columns": null,
            "grid_template_rows": null,
            "height": null,
            "justify_content": null,
            "justify_items": null,
            "left": null,
            "margin": null,
            "max_height": null,
            "max_width": null,
            "min_height": null,
            "min_width": null,
            "object_fit": null,
            "object_position": null,
            "order": null,
            "overflow": null,
            "overflow_x": null,
            "overflow_y": null,
            "padding": null,
            "right": null,
            "top": null,
            "visibility": null,
            "width": null
          }
        },
        "7840101e8565434da110a234bc10906e": {
          "model_module": "@jupyter-widgets/controls",
          "model_name": "DescriptionStyleModel",
          "model_module_version": "1.5.0",
          "state": {
            "_model_module": "@jupyter-widgets/controls",
            "_model_module_version": "1.5.0",
            "_model_name": "DescriptionStyleModel",
            "_view_count": null,
            "_view_module": "@jupyter-widgets/base",
            "_view_module_version": "1.2.0",
            "_view_name": "StyleView",
            "description_width": ""
          }
        },
        "6b8eaf918f874a1e8d3a0732dc41b65a": {
          "model_module": "@jupyter-widgets/base",
          "model_name": "LayoutModel",
          "model_module_version": "1.2.0",
          "state": {
            "_model_module": "@jupyter-widgets/base",
            "_model_module_version": "1.2.0",
            "_model_name": "LayoutModel",
            "_view_count": null,
            "_view_module": "@jupyter-widgets/base",
            "_view_module_version": "1.2.0",
            "_view_name": "LayoutView",
            "align_content": null,
            "align_items": null,
            "align_self": null,
            "border": null,
            "bottom": null,
            "display": null,
            "flex": null,
            "flex_flow": null,
            "grid_area": null,
            "grid_auto_columns": null,
            "grid_auto_flow": null,
            "grid_auto_rows": null,
            "grid_column": null,
            "grid_gap": null,
            "grid_row": null,
            "grid_template_areas": null,
            "grid_template_columns": null,
            "grid_template_rows": null,
            "height": null,
            "justify_content": null,
            "justify_items": null,
            "left": null,
            "margin": null,
            "max_height": null,
            "max_width": null,
            "min_height": null,
            "min_width": null,
            "object_fit": null,
            "object_position": null,
            "order": null,
            "overflow": null,
            "overflow_x": null,
            "overflow_y": null,
            "padding": null,
            "right": null,
            "top": null,
            "visibility": null,
            "width": null
          }
        },
        "441bb2e6ec4d4704b1f82ed0e10ff260": {
          "model_module": "@jupyter-widgets/controls",
          "model_name": "ProgressStyleModel",
          "model_module_version": "1.5.0",
          "state": {
            "_model_module": "@jupyter-widgets/controls",
            "_model_module_version": "1.5.0",
            "_model_name": "ProgressStyleModel",
            "_view_count": null,
            "_view_module": "@jupyter-widgets/base",
            "_view_module_version": "1.2.0",
            "_view_name": "StyleView",
            "bar_color": null,
            "description_width": ""
          }
        },
        "28431e0291e9471aa31e0e57b7c2d9d9": {
          "model_module": "@jupyter-widgets/base",
          "model_name": "LayoutModel",
          "model_module_version": "1.2.0",
          "state": {
            "_model_module": "@jupyter-widgets/base",
            "_model_module_version": "1.2.0",
            "_model_name": "LayoutModel",
            "_view_count": null,
            "_view_module": "@jupyter-widgets/base",
            "_view_module_version": "1.2.0",
            "_view_name": "LayoutView",
            "align_content": null,
            "align_items": null,
            "align_self": null,
            "border": null,
            "bottom": null,
            "display": null,
            "flex": null,
            "flex_flow": null,
            "grid_area": null,
            "grid_auto_columns": null,
            "grid_auto_flow": null,
            "grid_auto_rows": null,
            "grid_column": null,
            "grid_gap": null,
            "grid_row": null,
            "grid_template_areas": null,
            "grid_template_columns": null,
            "grid_template_rows": null,
            "height": null,
            "justify_content": null,
            "justify_items": null,
            "left": null,
            "margin": null,
            "max_height": null,
            "max_width": null,
            "min_height": null,
            "min_width": null,
            "object_fit": null,
            "object_position": null,
            "order": null,
            "overflow": null,
            "overflow_x": null,
            "overflow_y": null,
            "padding": null,
            "right": null,
            "top": null,
            "visibility": null,
            "width": null
          }
        },
        "05c33a9058e74c7cb549ba4b4a4a6121": {
          "model_module": "@jupyter-widgets/controls",
          "model_name": "DescriptionStyleModel",
          "model_module_version": "1.5.0",
          "state": {
            "_model_module": "@jupyter-widgets/controls",
            "_model_module_version": "1.5.0",
            "_model_name": "DescriptionStyleModel",
            "_view_count": null,
            "_view_module": "@jupyter-widgets/base",
            "_view_module_version": "1.2.0",
            "_view_name": "StyleView",
            "description_width": ""
          }
        },
        "95859df5844c42e9941a461b90dc5215": {
          "model_module": "@jupyter-widgets/controls",
          "model_name": "HBoxModel",
          "model_module_version": "1.5.0",
          "state": {
            "_dom_classes": [],
            "_model_module": "@jupyter-widgets/controls",
            "_model_module_version": "1.5.0",
            "_model_name": "HBoxModel",
            "_view_count": null,
            "_view_module": "@jupyter-widgets/controls",
            "_view_module_version": "1.5.0",
            "_view_name": "HBoxView",
            "box_style": "",
            "children": [
              "IPY_MODEL_f8b3ef02411b4c46a59ee8df3d246689",
              "IPY_MODEL_793ec6723586431cb2dde460e4c3ebbe",
              "IPY_MODEL_eecbc9ec40ae4cb289313bab3d53cafb"
            ],
            "layout": "IPY_MODEL_736b188462b24dd3b8107720631c8a0b"
          }
        },
        "f8b3ef02411b4c46a59ee8df3d246689": {
          "model_module": "@jupyter-widgets/controls",
          "model_name": "HTMLModel",
          "model_module_version": "1.5.0",
          "state": {
            "_dom_classes": [],
            "_model_module": "@jupyter-widgets/controls",
            "_model_module_version": "1.5.0",
            "_model_name": "HTMLModel",
            "_view_count": null,
            "_view_module": "@jupyter-widgets/controls",
            "_view_module_version": "1.5.0",
            "_view_name": "HTMLView",
            "description": "",
            "description_tooltip": null,
            "layout": "IPY_MODEL_925581487d7349bfb3632d425ca89e82",
            "placeholder": "​",
            "style": "IPY_MODEL_124d4068d9b747d2b987014b89c704a3",
            "value": "Downloading (…)cial_tokens_map.json: 100%"
          }
        },
        "793ec6723586431cb2dde460e4c3ebbe": {
          "model_module": "@jupyter-widgets/controls",
          "model_name": "FloatProgressModel",
          "model_module_version": "1.5.0",
          "state": {
            "_dom_classes": [],
            "_model_module": "@jupyter-widgets/controls",
            "_model_module_version": "1.5.0",
            "_model_name": "FloatProgressModel",
            "_view_count": null,
            "_view_module": "@jupyter-widgets/controls",
            "_view_module_version": "1.5.0",
            "_view_name": "ProgressView",
            "bar_style": "success",
            "description": "",
            "description_tooltip": null,
            "layout": "IPY_MODEL_391cc23a9266416da4d9a117f0a5cdae",
            "max": 112,
            "min": 0,
            "orientation": "horizontal",
            "style": "IPY_MODEL_0620419b316a45a899194f5bdce9e213",
            "value": 112
          }
        },
        "eecbc9ec40ae4cb289313bab3d53cafb": {
          "model_module": "@jupyter-widgets/controls",
          "model_name": "HTMLModel",
          "model_module_version": "1.5.0",
          "state": {
            "_dom_classes": [],
            "_model_module": "@jupyter-widgets/controls",
            "_model_module_version": "1.5.0",
            "_model_name": "HTMLModel",
            "_view_count": null,
            "_view_module": "@jupyter-widgets/controls",
            "_view_module_version": "1.5.0",
            "_view_name": "HTMLView",
            "description": "",
            "description_tooltip": null,
            "layout": "IPY_MODEL_47a33432536e4857af16d46aa351a06b",
            "placeholder": "​",
            "style": "IPY_MODEL_8b7e0d5157e54c7b843bc06b601a777a",
            "value": " 112/112 [00:00&lt;00:00, 4.08kB/s]"
          }
        },
        "736b188462b24dd3b8107720631c8a0b": {
          "model_module": "@jupyter-widgets/base",
          "model_name": "LayoutModel",
          "model_module_version": "1.2.0",
          "state": {
            "_model_module": "@jupyter-widgets/base",
            "_model_module_version": "1.2.0",
            "_model_name": "LayoutModel",
            "_view_count": null,
            "_view_module": "@jupyter-widgets/base",
            "_view_module_version": "1.2.0",
            "_view_name": "LayoutView",
            "align_content": null,
            "align_items": null,
            "align_self": null,
            "border": null,
            "bottom": null,
            "display": null,
            "flex": null,
            "flex_flow": null,
            "grid_area": null,
            "grid_auto_columns": null,
            "grid_auto_flow": null,
            "grid_auto_rows": null,
            "grid_column": null,
            "grid_gap": null,
            "grid_row": null,
            "grid_template_areas": null,
            "grid_template_columns": null,
            "grid_template_rows": null,
            "height": null,
            "justify_content": null,
            "justify_items": null,
            "left": null,
            "margin": null,
            "max_height": null,
            "max_width": null,
            "min_height": null,
            "min_width": null,
            "object_fit": null,
            "object_position": null,
            "order": null,
            "overflow": null,
            "overflow_x": null,
            "overflow_y": null,
            "padding": null,
            "right": null,
            "top": null,
            "visibility": null,
            "width": null
          }
        },
        "925581487d7349bfb3632d425ca89e82": {
          "model_module": "@jupyter-widgets/base",
          "model_name": "LayoutModel",
          "model_module_version": "1.2.0",
          "state": {
            "_model_module": "@jupyter-widgets/base",
            "_model_module_version": "1.2.0",
            "_model_name": "LayoutModel",
            "_view_count": null,
            "_view_module": "@jupyter-widgets/base",
            "_view_module_version": "1.2.0",
            "_view_name": "LayoutView",
            "align_content": null,
            "align_items": null,
            "align_self": null,
            "border": null,
            "bottom": null,
            "display": null,
            "flex": null,
            "flex_flow": null,
            "grid_area": null,
            "grid_auto_columns": null,
            "grid_auto_flow": null,
            "grid_auto_rows": null,
            "grid_column": null,
            "grid_gap": null,
            "grid_row": null,
            "grid_template_areas": null,
            "grid_template_columns": null,
            "grid_template_rows": null,
            "height": null,
            "justify_content": null,
            "justify_items": null,
            "left": null,
            "margin": null,
            "max_height": null,
            "max_width": null,
            "min_height": null,
            "min_width": null,
            "object_fit": null,
            "object_position": null,
            "order": null,
            "overflow": null,
            "overflow_x": null,
            "overflow_y": null,
            "padding": null,
            "right": null,
            "top": null,
            "visibility": null,
            "width": null
          }
        },
        "124d4068d9b747d2b987014b89c704a3": {
          "model_module": "@jupyter-widgets/controls",
          "model_name": "DescriptionStyleModel",
          "model_module_version": "1.5.0",
          "state": {
            "_model_module": "@jupyter-widgets/controls",
            "_model_module_version": "1.5.0",
            "_model_name": "DescriptionStyleModel",
            "_view_count": null,
            "_view_module": "@jupyter-widgets/base",
            "_view_module_version": "1.2.0",
            "_view_name": "StyleView",
            "description_width": ""
          }
        },
        "391cc23a9266416da4d9a117f0a5cdae": {
          "model_module": "@jupyter-widgets/base",
          "model_name": "LayoutModel",
          "model_module_version": "1.2.0",
          "state": {
            "_model_module": "@jupyter-widgets/base",
            "_model_module_version": "1.2.0",
            "_model_name": "LayoutModel",
            "_view_count": null,
            "_view_module": "@jupyter-widgets/base",
            "_view_module_version": "1.2.0",
            "_view_name": "LayoutView",
            "align_content": null,
            "align_items": null,
            "align_self": null,
            "border": null,
            "bottom": null,
            "display": null,
            "flex": null,
            "flex_flow": null,
            "grid_area": null,
            "grid_auto_columns": null,
            "grid_auto_flow": null,
            "grid_auto_rows": null,
            "grid_column": null,
            "grid_gap": null,
            "grid_row": null,
            "grid_template_areas": null,
            "grid_template_columns": null,
            "grid_template_rows": null,
            "height": null,
            "justify_content": null,
            "justify_items": null,
            "left": null,
            "margin": null,
            "max_height": null,
            "max_width": null,
            "min_height": null,
            "min_width": null,
            "object_fit": null,
            "object_position": null,
            "order": null,
            "overflow": null,
            "overflow_x": null,
            "overflow_y": null,
            "padding": null,
            "right": null,
            "top": null,
            "visibility": null,
            "width": null
          }
        },
        "0620419b316a45a899194f5bdce9e213": {
          "model_module": "@jupyter-widgets/controls",
          "model_name": "ProgressStyleModel",
          "model_module_version": "1.5.0",
          "state": {
            "_model_module": "@jupyter-widgets/controls",
            "_model_module_version": "1.5.0",
            "_model_name": "ProgressStyleModel",
            "_view_count": null,
            "_view_module": "@jupyter-widgets/base",
            "_view_module_version": "1.2.0",
            "_view_name": "StyleView",
            "bar_color": null,
            "description_width": ""
          }
        },
        "47a33432536e4857af16d46aa351a06b": {
          "model_module": "@jupyter-widgets/base",
          "model_name": "LayoutModel",
          "model_module_version": "1.2.0",
          "state": {
            "_model_module": "@jupyter-widgets/base",
            "_model_module_version": "1.2.0",
            "_model_name": "LayoutModel",
            "_view_count": null,
            "_view_module": "@jupyter-widgets/base",
            "_view_module_version": "1.2.0",
            "_view_name": "LayoutView",
            "align_content": null,
            "align_items": null,
            "align_self": null,
            "border": null,
            "bottom": null,
            "display": null,
            "flex": null,
            "flex_flow": null,
            "grid_area": null,
            "grid_auto_columns": null,
            "grid_auto_flow": null,
            "grid_auto_rows": null,
            "grid_column": null,
            "grid_gap": null,
            "grid_row": null,
            "grid_template_areas": null,
            "grid_template_columns": null,
            "grid_template_rows": null,
            "height": null,
            "justify_content": null,
            "justify_items": null,
            "left": null,
            "margin": null,
            "max_height": null,
            "max_width": null,
            "min_height": null,
            "min_width": null,
            "object_fit": null,
            "object_position": null,
            "order": null,
            "overflow": null,
            "overflow_x": null,
            "overflow_y": null,
            "padding": null,
            "right": null,
            "top": null,
            "visibility": null,
            "width": null
          }
        },
        "8b7e0d5157e54c7b843bc06b601a777a": {
          "model_module": "@jupyter-widgets/controls",
          "model_name": "DescriptionStyleModel",
          "model_module_version": "1.5.0",
          "state": {
            "_model_module": "@jupyter-widgets/controls",
            "_model_module_version": "1.5.0",
            "_model_name": "DescriptionStyleModel",
            "_view_count": null,
            "_view_module": "@jupyter-widgets/base",
            "_view_module_version": "1.2.0",
            "_view_name": "StyleView",
            "description_width": ""
          }
        },
        "3b2358b97cd4441cbed36c50d5222c9b": {
          "model_module": "@jupyter-widgets/controls",
          "model_name": "HBoxModel",
          "model_module_version": "1.5.0",
          "state": {
            "_dom_classes": [],
            "_model_module": "@jupyter-widgets/controls",
            "_model_module_version": "1.5.0",
            "_model_name": "HBoxModel",
            "_view_count": null,
            "_view_module": "@jupyter-widgets/controls",
            "_view_module_version": "1.5.0",
            "_view_name": "HBoxView",
            "box_style": "",
            "children": [
              "IPY_MODEL_42fea861765b41f7b15eeac1d475722f",
              "IPY_MODEL_727ce6b94d1f4f1485ea5987de3e9f5e",
              "IPY_MODEL_0a8dadef3def465899e3e197a32856ac"
            ],
            "layout": "IPY_MODEL_754ea4e765d1424bb3f0e671cd36229c"
          }
        },
        "42fea861765b41f7b15eeac1d475722f": {
          "model_module": "@jupyter-widgets/controls",
          "model_name": "HTMLModel",
          "model_module_version": "1.5.0",
          "state": {
            "_dom_classes": [],
            "_model_module": "@jupyter-widgets/controls",
            "_model_module_version": "1.5.0",
            "_model_name": "HTMLModel",
            "_view_count": null,
            "_view_module": "@jupyter-widgets/controls",
            "_view_module_version": "1.5.0",
            "_view_name": "HTMLView",
            "description": "",
            "description_tooltip": null,
            "layout": "IPY_MODEL_36b8f0f5a00840d7879cfd2ae01005b0",
            "placeholder": "​",
            "style": "IPY_MODEL_8da7b4f7d2bf432ebbb61d0354a29126",
            "value": "Downloading pytorch_model.bin: 100%"
          }
        },
        "727ce6b94d1f4f1485ea5987de3e9f5e": {
          "model_module": "@jupyter-widgets/controls",
          "model_name": "FloatProgressModel",
          "model_module_version": "1.5.0",
          "state": {
            "_dom_classes": [],
            "_model_module": "@jupyter-widgets/controls",
            "_model_module_version": "1.5.0",
            "_model_name": "FloatProgressModel",
            "_view_count": null,
            "_view_module": "@jupyter-widgets/controls",
            "_view_module_version": "1.5.0",
            "_view_name": "ProgressView",
            "bar_style": "success",
            "description": "",
            "description_tooltip": null,
            "layout": "IPY_MODEL_684cc1ee526747718021910aedff1394",
            "max": 433286112,
            "min": 0,
            "orientation": "horizontal",
            "style": "IPY_MODEL_f4910e2335f04be485571d36892e7479",
            "value": 433286112
          }
        },
        "0a8dadef3def465899e3e197a32856ac": {
          "model_module": "@jupyter-widgets/controls",
          "model_name": "HTMLModel",
          "model_module_version": "1.5.0",
          "state": {
            "_dom_classes": [],
            "_model_module": "@jupyter-widgets/controls",
            "_model_module_version": "1.5.0",
            "_model_name": "HTMLModel",
            "_view_count": null,
            "_view_module": "@jupyter-widgets/controls",
            "_view_module_version": "1.5.0",
            "_view_name": "HTMLView",
            "description": "",
            "description_tooltip": null,
            "layout": "IPY_MODEL_0255d308dfc9467baefe64396ce1241a",
            "placeholder": "​",
            "style": "IPY_MODEL_6f7b4149a1524647b30a9edd11fd9460",
            "value": " 433M/433M [00:09&lt;00:00, 46.8MB/s]"
          }
        },
        "754ea4e765d1424bb3f0e671cd36229c": {
          "model_module": "@jupyter-widgets/base",
          "model_name": "LayoutModel",
          "model_module_version": "1.2.0",
          "state": {
            "_model_module": "@jupyter-widgets/base",
            "_model_module_version": "1.2.0",
            "_model_name": "LayoutModel",
            "_view_count": null,
            "_view_module": "@jupyter-widgets/base",
            "_view_module_version": "1.2.0",
            "_view_name": "LayoutView",
            "align_content": null,
            "align_items": null,
            "align_self": null,
            "border": null,
            "bottom": null,
            "display": null,
            "flex": null,
            "flex_flow": null,
            "grid_area": null,
            "grid_auto_columns": null,
            "grid_auto_flow": null,
            "grid_auto_rows": null,
            "grid_column": null,
            "grid_gap": null,
            "grid_row": null,
            "grid_template_areas": null,
            "grid_template_columns": null,
            "grid_template_rows": null,
            "height": null,
            "justify_content": null,
            "justify_items": null,
            "left": null,
            "margin": null,
            "max_height": null,
            "max_width": null,
            "min_height": null,
            "min_width": null,
            "object_fit": null,
            "object_position": null,
            "order": null,
            "overflow": null,
            "overflow_x": null,
            "overflow_y": null,
            "padding": null,
            "right": null,
            "top": null,
            "visibility": null,
            "width": null
          }
        },
        "36b8f0f5a00840d7879cfd2ae01005b0": {
          "model_module": "@jupyter-widgets/base",
          "model_name": "LayoutModel",
          "model_module_version": "1.2.0",
          "state": {
            "_model_module": "@jupyter-widgets/base",
            "_model_module_version": "1.2.0",
            "_model_name": "LayoutModel",
            "_view_count": null,
            "_view_module": "@jupyter-widgets/base",
            "_view_module_version": "1.2.0",
            "_view_name": "LayoutView",
            "align_content": null,
            "align_items": null,
            "align_self": null,
            "border": null,
            "bottom": null,
            "display": null,
            "flex": null,
            "flex_flow": null,
            "grid_area": null,
            "grid_auto_columns": null,
            "grid_auto_flow": null,
            "grid_auto_rows": null,
            "grid_column": null,
            "grid_gap": null,
            "grid_row": null,
            "grid_template_areas": null,
            "grid_template_columns": null,
            "grid_template_rows": null,
            "height": null,
            "justify_content": null,
            "justify_items": null,
            "left": null,
            "margin": null,
            "max_height": null,
            "max_width": null,
            "min_height": null,
            "min_width": null,
            "object_fit": null,
            "object_position": null,
            "order": null,
            "overflow": null,
            "overflow_x": null,
            "overflow_y": null,
            "padding": null,
            "right": null,
            "top": null,
            "visibility": null,
            "width": null
          }
        },
        "8da7b4f7d2bf432ebbb61d0354a29126": {
          "model_module": "@jupyter-widgets/controls",
          "model_name": "DescriptionStyleModel",
          "model_module_version": "1.5.0",
          "state": {
            "_model_module": "@jupyter-widgets/controls",
            "_model_module_version": "1.5.0",
            "_model_name": "DescriptionStyleModel",
            "_view_count": null,
            "_view_module": "@jupyter-widgets/base",
            "_view_module_version": "1.2.0",
            "_view_name": "StyleView",
            "description_width": ""
          }
        },
        "684cc1ee526747718021910aedff1394": {
          "model_module": "@jupyter-widgets/base",
          "model_name": "LayoutModel",
          "model_module_version": "1.2.0",
          "state": {
            "_model_module": "@jupyter-widgets/base",
            "_model_module_version": "1.2.0",
            "_model_name": "LayoutModel",
            "_view_count": null,
            "_view_module": "@jupyter-widgets/base",
            "_view_module_version": "1.2.0",
            "_view_name": "LayoutView",
            "align_content": null,
            "align_items": null,
            "align_self": null,
            "border": null,
            "bottom": null,
            "display": null,
            "flex": null,
            "flex_flow": null,
            "grid_area": null,
            "grid_auto_columns": null,
            "grid_auto_flow": null,
            "grid_auto_rows": null,
            "grid_column": null,
            "grid_gap": null,
            "grid_row": null,
            "grid_template_areas": null,
            "grid_template_columns": null,
            "grid_template_rows": null,
            "height": null,
            "justify_content": null,
            "justify_items": null,
            "left": null,
            "margin": null,
            "max_height": null,
            "max_width": null,
            "min_height": null,
            "min_width": null,
            "object_fit": null,
            "object_position": null,
            "order": null,
            "overflow": null,
            "overflow_x": null,
            "overflow_y": null,
            "padding": null,
            "right": null,
            "top": null,
            "visibility": null,
            "width": null
          }
        },
        "f4910e2335f04be485571d36892e7479": {
          "model_module": "@jupyter-widgets/controls",
          "model_name": "ProgressStyleModel",
          "model_module_version": "1.5.0",
          "state": {
            "_model_module": "@jupyter-widgets/controls",
            "_model_module_version": "1.5.0",
            "_model_name": "ProgressStyleModel",
            "_view_count": null,
            "_view_module": "@jupyter-widgets/base",
            "_view_module_version": "1.2.0",
            "_view_name": "StyleView",
            "bar_color": null,
            "description_width": ""
          }
        },
        "0255d308dfc9467baefe64396ce1241a": {
          "model_module": "@jupyter-widgets/base",
          "model_name": "LayoutModel",
          "model_module_version": "1.2.0",
          "state": {
            "_model_module": "@jupyter-widgets/base",
            "_model_module_version": "1.2.0",
            "_model_name": "LayoutModel",
            "_view_count": null,
            "_view_module": "@jupyter-widgets/base",
            "_view_module_version": "1.2.0",
            "_view_name": "LayoutView",
            "align_content": null,
            "align_items": null,
            "align_self": null,
            "border": null,
            "bottom": null,
            "display": null,
            "flex": null,
            "flex_flow": null,
            "grid_area": null,
            "grid_auto_columns": null,
            "grid_auto_flow": null,
            "grid_auto_rows": null,
            "grid_column": null,
            "grid_gap": null,
            "grid_row": null,
            "grid_template_areas": null,
            "grid_template_columns": null,
            "grid_template_rows": null,
            "height": null,
            "justify_content": null,
            "justify_items": null,
            "left": null,
            "margin": null,
            "max_height": null,
            "max_width": null,
            "min_height": null,
            "min_width": null,
            "object_fit": null,
            "object_position": null,
            "order": null,
            "overflow": null,
            "overflow_x": null,
            "overflow_y": null,
            "padding": null,
            "right": null,
            "top": null,
            "visibility": null,
            "width": null
          }
        },
        "6f7b4149a1524647b30a9edd11fd9460": {
          "model_module": "@jupyter-widgets/controls",
          "model_name": "DescriptionStyleModel",
          "model_module_version": "1.5.0",
          "state": {
            "_model_module": "@jupyter-widgets/controls",
            "_model_module_version": "1.5.0",
            "_model_name": "DescriptionStyleModel",
            "_view_count": null,
            "_view_module": "@jupyter-widgets/base",
            "_view_module_version": "1.2.0",
            "_view_name": "StyleView",
            "description_width": ""
          }
        }
      }
    }
  },
  "nbformat": 4,
  "nbformat_minor": 0
}